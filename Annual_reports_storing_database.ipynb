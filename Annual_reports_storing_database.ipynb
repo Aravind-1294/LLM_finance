{
  "cells": [
    {
      "cell_type": "markdown",
      "metadata": {
        "id": "-_pz4pe1VEr2"
      },
      "source": [
        "# Imports"
      ]
    },
    {
      "cell_type": "code",
      "execution_count": null,
      "metadata": {
        "colab": {
          "base_uri": "https://localhost:8080/"
        },
        "id": "jldcT0zt6EwN",
        "outputId": "6b8adde6-607a-4541-f06b-615a92278fc4"
      },
      "outputs": [
        {
          "name": "stdout",
          "output_type": "stream",
          "text": [
            "Mounted at /content/drive\n"
          ]
        }
      ],
      "source": [
        "from google.colab import drive\n",
        "drive.mount('/content/drive')"
      ]
    },
    {
      "cell_type": "code",
      "execution_count": null,
      "metadata": {
        "colab": {
          "base_uri": "https://localhost:8080/"
        },
        "id": "Yw8HN3uuMjMh",
        "outputId": "f46b9032-9f07-4136-8352-08df5901375a"
      },
      "outputs": [
        {
          "name": "stdout",
          "output_type": "stream",
          "text": [
            "Collecting langchain\n",
            "  Downloading langchain-0.1.13-py3-none-any.whl (810 kB)\n",
            "\u001b[2K     \u001b[90m━━━━━━━━━━━━━━━━━━━━━━━━━━━━━━━━━━━━━━━━\u001b[0m \u001b[32m810.5/810.5 kB\u001b[0m \u001b[31m9.2 MB/s\u001b[0m eta \u001b[36m0:00:00\u001b[0m\n",
            "\u001b[?25hCollecting cohere\n",
            "  Downloading cohere-5.0.1-py3-none-any.whl (123 kB)\n",
            "\u001b[2K     \u001b[90m━━━━━━━━━━━━━━━━━━━━━━━━━━━━━━━━━━━━━━━━\u001b[0m \u001b[32m123.8/123.8 kB\u001b[0m \u001b[31m14.4 MB/s\u001b[0m eta \u001b[36m0:00:00\u001b[0m\n",
            "\u001b[?25hCollecting googlesearch-python\n",
            "  Downloading googlesearch-python-1.2.3.tar.gz (3.9 kB)\n",
            "  Preparing metadata (setup.py) ... \u001b[?25l\u001b[?25hdone\n",
            "Collecting tiktoken\n",
            "  Downloading tiktoken-0.6.0-cp310-cp310-manylinux_2_17_x86_64.manylinux2014_x86_64.whl (1.8 MB)\n",
            "\u001b[2K     \u001b[90m━━━━━━━━━━━━━━━━━━━━━━━━━━━━━━━━━━━━━━━━\u001b[0m \u001b[32m1.8/1.8 MB\u001b[0m \u001b[31m74.7 MB/s\u001b[0m eta \u001b[36m0:00:00\u001b[0m\n",
            "\u001b[?25hCollecting pypdf\n",
            "  Downloading pypdf-4.1.0-py3-none-any.whl (286 kB)\n",
            "\u001b[2K     \u001b[90m━━━━━━━━━━━━━━━━━━━━━━━━━━━━━━━━━━━━━━━━\u001b[0m \u001b[32m286.1/286.1 kB\u001b[0m \u001b[31m34.3 MB/s\u001b[0m eta \u001b[36m0:00:00\u001b[0m\n",
            "\u001b[?25hCollecting qdrant-client\n",
            "  Downloading qdrant_client-1.8.0-py3-none-any.whl (214 kB)\n",
            "\u001b[2K     \u001b[90m━━━━━━━━━━━━━━━━━━━━━━━━━━━━━━━━━━━━━━━━\u001b[0m \u001b[32m214.4/214.4 kB\u001b[0m \u001b[31m26.4 MB/s\u001b[0m eta \u001b[36m0:00:00\u001b[0m\n",
            "\u001b[?25hCollecting openai\n",
            "  Downloading openai-1.14.2-py3-none-any.whl (262 kB)\n",
            "\u001b[2K     \u001b[90m━━━━━━━━━━━━━━━━━━━━━━━━━━━━━━━━━━━━━━━━\u001b[0m \u001b[32m262.4/262.4 kB\u001b[0m \u001b[31m29.6 MB/s\u001b[0m eta \u001b[36m0:00:00\u001b[0m\n",
            "\u001b[?25hCollecting langchain_openai\n",
            "  Downloading langchain_openai-0.1.0-py3-none-any.whl (32 kB)\n",
            "Requirement already satisfied: PyYAML>=5.3 in /usr/local/lib/python3.10/dist-packages (from langchain) (6.0.1)\n",
            "Requirement already satisfied: SQLAlchemy<3,>=1.4 in /usr/local/lib/python3.10/dist-packages (from langchain) (2.0.28)\n",
            "Requirement already satisfied: aiohttp<4.0.0,>=3.8.3 in /usr/local/lib/python3.10/dist-packages (from langchain) (3.9.3)\n",
            "Requirement already satisfied: async-timeout<5.0.0,>=4.0.0 in /usr/local/lib/python3.10/dist-packages (from langchain) (4.0.3)\n",
            "Collecting dataclasses-json<0.7,>=0.5.7 (from langchain)\n",
            "  Downloading dataclasses_json-0.6.4-py3-none-any.whl (28 kB)\n",
            "Collecting jsonpatch<2.0,>=1.33 (from langchain)\n",
            "  Downloading jsonpatch-1.33-py2.py3-none-any.whl (12 kB)\n",
            "Collecting langchain-community<0.1,>=0.0.29 (from langchain)\n",
            "  Downloading langchain_community-0.0.29-py3-none-any.whl (1.8 MB)\n",
            "\u001b[2K     \u001b[90m━━━━━━━━━━━━━━━━━━━━━━━━━━━━━━━━━━━━━━━━\u001b[0m \u001b[32m1.8/1.8 MB\u001b[0m \u001b[31m56.1 MB/s\u001b[0m eta \u001b[36m0:00:00\u001b[0m\n",
            "\u001b[?25hCollecting langchain-core<0.2.0,>=0.1.33 (from langchain)\n",
            "  Downloading langchain_core-0.1.33-py3-none-any.whl (269 kB)\n",
            "\u001b[2K     \u001b[90m━━━━━━━━━━━━━━━━━━━━━━━━━━━━━━━━━━━━━━━━\u001b[0m \u001b[32m269.1/269.1 kB\u001b[0m \u001b[31m30.6 MB/s\u001b[0m eta \u001b[36m0:00:00\u001b[0m\n",
            "\u001b[?25hCollecting langchain-text-splitters<0.1,>=0.0.1 (from langchain)\n",
            "  Downloading langchain_text_splitters-0.0.1-py3-none-any.whl (21 kB)\n",
            "Collecting langsmith<0.2.0,>=0.1.17 (from langchain)\n",
            "  Downloading langsmith-0.1.31-py3-none-any.whl (71 kB)\n",
            "\u001b[2K     \u001b[90m━━━━━━━━━━━━━━━━━━━━━━━━━━━━━━━━━━━━━━━━\u001b[0m \u001b[32m71.6/71.6 kB\u001b[0m \u001b[31m8.2 MB/s\u001b[0m eta \u001b[36m0:00:00\u001b[0m\n",
            "\u001b[?25hRequirement already satisfied: numpy<2,>=1 in /usr/local/lib/python3.10/dist-packages (from langchain) (1.25.2)\n",
            "Requirement already satisfied: pydantic<3,>=1 in /usr/local/lib/python3.10/dist-packages (from langchain) (2.6.4)\n",
            "Requirement already satisfied: requests<3,>=2 in /usr/local/lib/python3.10/dist-packages (from langchain) (2.31.0)\n",
            "Requirement already satisfied: tenacity<9.0.0,>=8.1.0 in /usr/local/lib/python3.10/dist-packages (from langchain) (8.2.3)\n",
            "Collecting httpx>=0.21.2 (from cohere)\n",
            "  Downloading httpx-0.27.0-py3-none-any.whl (75 kB)\n",
            "\u001b[2K     \u001b[90m━━━━━━━━━━━━━━━━━━━━━━━━━━━━━━━━━━━━━━━━\u001b[0m \u001b[32m75.6/75.6 kB\u001b[0m \u001b[31m10.1 MB/s\u001b[0m eta \u001b[36m0:00:00\u001b[0m\n",
            "\u001b[?25hRequirement already satisfied: typing_extensions>=4.0.0 in /usr/local/lib/python3.10/dist-packages (from cohere) (4.10.0)\n",
            "Requirement already satisfied: beautifulsoup4>=4.9 in /usr/local/lib/python3.10/dist-packages (from googlesearch-python) (4.12.3)\n",
            "Requirement already satisfied: regex>=2022.1.18 in /usr/local/lib/python3.10/dist-packages (from tiktoken) (2023.12.25)\n",
            "Requirement already satisfied: grpcio>=1.41.0 in /usr/local/lib/python3.10/dist-packages (from qdrant-client) (1.62.1)\n",
            "Collecting grpcio-tools>=1.41.0 (from qdrant-client)\n",
            "  Downloading grpcio_tools-1.62.1-cp310-cp310-manylinux_2_17_x86_64.manylinux2014_x86_64.whl (2.8 MB)\n",
            "\u001b[2K     \u001b[90m━━━━━━━━━━━━━━━━━━━━━━━━━━━━━━━━━━━━━━━━\u001b[0m \u001b[32m2.8/2.8 MB\u001b[0m \u001b[31m69.1 MB/s\u001b[0m eta \u001b[36m0:00:00\u001b[0m\n",
            "\u001b[?25hCollecting portalocker<3.0.0,>=2.7.0 (from qdrant-client)\n",
            "  Downloading portalocker-2.8.2-py3-none-any.whl (17 kB)\n",
            "Requirement already satisfied: urllib3<3,>=1.26.14 in /usr/local/lib/python3.10/dist-packages (from qdrant-client) (2.0.7)\n",
            "Requirement already satisfied: anyio<5,>=3.5.0 in /usr/local/lib/python3.10/dist-packages (from openai) (3.7.1)\n",
            "Requirement already satisfied: distro<2,>=1.7.0 in /usr/lib/python3/dist-packages (from openai) (1.7.0)\n",
            "Requirement already satisfied: sniffio in /usr/local/lib/python3.10/dist-packages (from openai) (1.3.1)\n",
            "Requirement already satisfied: tqdm>4 in /usr/local/lib/python3.10/dist-packages (from openai) (4.66.2)\n",
            "Requirement already satisfied: aiosignal>=1.1.2 in /usr/local/lib/python3.10/dist-packages (from aiohttp<4.0.0,>=3.8.3->langchain) (1.3.1)\n",
            "Requirement already satisfied: attrs>=17.3.0 in /usr/local/lib/python3.10/dist-packages (from aiohttp<4.0.0,>=3.8.3->langchain) (23.2.0)\n",
            "Requirement already satisfied: frozenlist>=1.1.1 in /usr/local/lib/python3.10/dist-packages (from aiohttp<4.0.0,>=3.8.3->langchain) (1.4.1)\n",
            "Requirement already satisfied: multidict<7.0,>=4.5 in /usr/local/lib/python3.10/dist-packages (from aiohttp<4.0.0,>=3.8.3->langchain) (6.0.5)\n",
            "Requirement already satisfied: yarl<2.0,>=1.0 in /usr/local/lib/python3.10/dist-packages (from aiohttp<4.0.0,>=3.8.3->langchain) (1.9.4)\n",
            "Requirement already satisfied: idna>=2.8 in /usr/local/lib/python3.10/dist-packages (from anyio<5,>=3.5.0->openai) (3.6)\n",
            "Requirement already satisfied: exceptiongroup in /usr/local/lib/python3.10/dist-packages (from anyio<5,>=3.5.0->openai) (1.2.0)\n",
            "Requirement already satisfied: soupsieve>1.2 in /usr/local/lib/python3.10/dist-packages (from beautifulsoup4>=4.9->googlesearch-python) (2.5)\n",
            "Collecting marshmallow<4.0.0,>=3.18.0 (from dataclasses-json<0.7,>=0.5.7->langchain)\n",
            "  Downloading marshmallow-3.21.1-py3-none-any.whl (49 kB)\n",
            "\u001b[2K     \u001b[90m━━━━━━━━━━━━━━━━━━━━━━━━━━━━━━━━━━━━━━━━\u001b[0m \u001b[32m49.4/49.4 kB\u001b[0m \u001b[31m6.5 MB/s\u001b[0m eta \u001b[36m0:00:00\u001b[0m\n",
            "\u001b[?25hCollecting typing-inspect<1,>=0.4.0 (from dataclasses-json<0.7,>=0.5.7->langchain)\n",
            "  Downloading typing_inspect-0.9.0-py3-none-any.whl (8.8 kB)\n",
            "Collecting protobuf<5.0dev,>=4.21.6 (from grpcio-tools>=1.41.0->qdrant-client)\n",
            "  Downloading protobuf-4.25.3-cp37-abi3-manylinux2014_x86_64.whl (294 kB)\n",
            "\u001b[2K     \u001b[90m━━━━━━━━━━━━━━━━━━━━━━━━━━━━━━━━━━━━━━━━\u001b[0m \u001b[32m294.6/294.6 kB\u001b[0m \u001b[31m29.8 MB/s\u001b[0m eta \u001b[36m0:00:00\u001b[0m\n",
            "\u001b[?25hRequirement already satisfied: setuptools in /usr/local/lib/python3.10/dist-packages (from grpcio-tools>=1.41.0->qdrant-client) (67.7.2)\n",
            "Requirement already satisfied: certifi in /usr/local/lib/python3.10/dist-packages (from httpx>=0.21.2->cohere) (2024.2.2)\n",
            "Collecting httpcore==1.* (from httpx>=0.21.2->cohere)\n",
            "  Downloading httpcore-1.0.4-py3-none-any.whl (77 kB)\n",
            "\u001b[2K     \u001b[90m━━━━━━━━━━━━━━━━━━━━━━━━━━━━━━━━━━━━━━━━\u001b[0m \u001b[32m77.8/77.8 kB\u001b[0m \u001b[31m9.9 MB/s\u001b[0m eta \u001b[36m0:00:00\u001b[0m\n",
            "\u001b[?25hCollecting h11<0.15,>=0.13 (from httpcore==1.*->httpx>=0.21.2->cohere)\n",
            "  Downloading h11-0.14.0-py3-none-any.whl (58 kB)\n",
            "\u001b[2K     \u001b[90m━━━━━━━━━━━━━━━━━━━━━━━━━━━━━━━━━━━━━━━━\u001b[0m \u001b[32m58.3/58.3 kB\u001b[0m \u001b[31m7.6 MB/s\u001b[0m eta \u001b[36m0:00:00\u001b[0m\n",
            "\u001b[?25hCollecting h2<5,>=3 (from httpx>=0.21.2->cohere)\n",
            "  Downloading h2-4.1.0-py3-none-any.whl (57 kB)\n",
            "\u001b[2K     \u001b[90m━━━━━━━━━━━━━━━━━━━━━━━━━━━━━━━━━━━━━━━━\u001b[0m \u001b[32m57.5/57.5 kB\u001b[0m \u001b[31m8.4 MB/s\u001b[0m eta \u001b[36m0:00:00\u001b[0m\n",
            "\u001b[?25hCollecting jsonpointer>=1.9 (from jsonpatch<2.0,>=1.33->langchain)\n",
            "  Downloading jsonpointer-2.4-py2.py3-none-any.whl (7.8 kB)\n",
            "Collecting packaging<24.0,>=23.2 (from langchain-core<0.2.0,>=0.1.33->langchain)\n",
            "  Downloading packaging-23.2-py3-none-any.whl (53 kB)\n",
            "\u001b[2K     \u001b[90m━━━━━━━━━━━━━━━━━━━━━━━━━━━━━━━━━━━━━━━━\u001b[0m \u001b[32m53.0/53.0 kB\u001b[0m \u001b[31m7.8 MB/s\u001b[0m eta \u001b[36m0:00:00\u001b[0m\n",
            "\u001b[?25hCollecting orjson<4.0.0,>=3.9.14 (from langsmith<0.2.0,>=0.1.17->langchain)\n",
            "  Downloading orjson-3.9.15-cp310-cp310-manylinux_2_17_x86_64.manylinux2014_x86_64.whl (138 kB)\n",
            "\u001b[2K     \u001b[90m━━━━━━━━━━━━━━━━━━━━━━━━━━━━━━━━━━━━━━━━\u001b[0m \u001b[32m138.5/138.5 kB\u001b[0m \u001b[31m16.6 MB/s\u001b[0m eta \u001b[36m0:00:00\u001b[0m\n",
            "\u001b[?25hRequirement already satisfied: annotated-types>=0.4.0 in /usr/local/lib/python3.10/dist-packages (from pydantic<3,>=1->langchain) (0.6.0)\n",
            "Requirement already satisfied: pydantic-core==2.16.3 in /usr/local/lib/python3.10/dist-packages (from pydantic<3,>=1->langchain) (2.16.3)\n",
            "Requirement already satisfied: charset-normalizer<4,>=2 in /usr/local/lib/python3.10/dist-packages (from requests<3,>=2->langchain) (3.3.2)\n",
            "Requirement already satisfied: greenlet!=0.4.17 in /usr/local/lib/python3.10/dist-packages (from SQLAlchemy<3,>=1.4->langchain) (3.0.3)\n",
            "Collecting hyperframe<7,>=6.0 (from h2<5,>=3->httpx>=0.21.2->cohere)\n",
            "  Downloading hyperframe-6.0.1-py3-none-any.whl (12 kB)\n",
            "Collecting hpack<5,>=4.0 (from h2<5,>=3->httpx>=0.21.2->cohere)\n",
            "  Downloading hpack-4.0.0-py3-none-any.whl (32 kB)\n",
            "Collecting mypy-extensions>=0.3.0 (from typing-inspect<1,>=0.4.0->dataclasses-json<0.7,>=0.5.7->langchain)\n",
            "  Downloading mypy_extensions-1.0.0-py3-none-any.whl (4.7 kB)\n",
            "Building wheels for collected packages: googlesearch-python\n",
            "  Building wheel for googlesearch-python (setup.py) ... \u001b[?25l\u001b[?25hdone\n",
            "  Created wheel for googlesearch-python: filename=googlesearch_python-1.2.3-py3-none-any.whl size=4205 sha256=48e589e99fd8b56496191b861bd723f54941bed383473308c172685d489a09f0\n",
            "  Stored in directory: /root/.cache/pip/wheels/98/24/e9/6c225502948c629b01cc895f86406819281ef0da385f3eb669\n",
            "Successfully built googlesearch-python\n",
            "Installing collected packages: pypdf, protobuf, portalocker, packaging, orjson, mypy-extensions, jsonpointer, hyperframe, hpack, h11, typing-inspect, tiktoken, marshmallow, jsonpatch, httpcore, h2, grpcio-tools, googlesearch-python, langsmith, httpx, dataclasses-json, openai, langchain-core, cohere, qdrant-client, langchain-text-splitters, langchain_openai, langchain-community, langchain\n",
            "  Attempting uninstall: protobuf\n",
            "    Found existing installation: protobuf 3.20.3\n",
            "    Uninstalling protobuf-3.20.3:\n",
            "      Successfully uninstalled protobuf-3.20.3\n",
            "  Attempting uninstall: packaging\n",
            "    Found existing installation: packaging 24.0\n",
            "    Uninstalling packaging-24.0:\n",
            "      Successfully uninstalled packaging-24.0\n",
            "\u001b[31mERROR: pip's dependency resolver does not currently take into account all the packages that are installed. This behaviour is the source of the following dependency conflicts.\n",
            "tensorflow-metadata 1.14.0 requires protobuf<4.21,>=3.20.3, but you have protobuf 4.25.3 which is incompatible.\u001b[0m\u001b[31m\n",
            "\u001b[0mSuccessfully installed cohere-5.0.1 dataclasses-json-0.6.4 googlesearch-python-1.2.3 grpcio-tools-1.62.1 h11-0.14.0 h2-4.1.0 hpack-4.0.0 httpcore-1.0.4 httpx-0.27.0 hyperframe-6.0.1 jsonpatch-1.33 jsonpointer-2.4 langchain-0.1.13 langchain-community-0.0.29 langchain-core-0.1.33 langchain-text-splitters-0.0.1 langchain_openai-0.1.0 langsmith-0.1.31 marshmallow-3.21.1 mypy-extensions-1.0.0 openai-1.14.2 orjson-3.9.15 packaging-23.2 portalocker-2.8.2 protobuf-4.25.3 pypdf-4.1.0 qdrant-client-1.8.0 tiktoken-0.6.0 typing-inspect-0.9.0\n"
          ]
        }
      ],
      "source": [
        "!pip install langchain cohere googlesearch-python tiktoken pypdf qdrant-client openai langchain_openai"
      ]
    },
    {
      "cell_type": "code",
      "execution_count": null,
      "metadata": {
        "colab": {
          "base_uri": "https://localhost:8080/"
        },
        "id": "Q2-v-xpzSkN7",
        "outputId": "13c7e9cf-122e-4e96-ec10-a8ca29299fdf"
      },
      "outputs": [
        {
          "name": "stdout",
          "output_type": "stream",
          "text": [
            "--2024-03-12 10:02:24--  https://www.asianpaints.com/content/dam/annual-report-2023/pdf/Asian%20Paints%20IR22-23.pdf\n",
            "Resolving www.asianpaints.com (www.asianpaints.com)... 13.107.246.40, 13.107.213.40, 2620:1ec:bdf::40, ...\n",
            "Connecting to www.asianpaints.com (www.asianpaints.com)|13.107.246.40|:443... connected.\n",
            "HTTP request sent, awaiting response... 200 OK\n",
            "Length: 35547144 (34M) [application/pdf]\n",
            "Saving to: ‘Asian Paints IR22-23.pdf’\n",
            "\n",
            "Asian Paints IR22-2 100%[===================>]  33.90M   834KB/s    in 42s     \n",
            "\n",
            "2024-03-12 10:03:09 (826 KB/s) - ‘Asian Paints IR22-23.pdf’ saved [35547144/35547144]\n",
            "\n"
          ]
        }
      ],
      "source": [
        "! wget https://www.asianpaints.com/content/dam/annual-report-2023/pdf/Asian%20Paints%20IR22-23.pdf"
      ]
    },
    {
      "cell_type": "markdown",
      "metadata": {
        "id": "Uzn54qo9Kd1R"
      },
      "source": [
        "# Automation"
      ]
    },
    {
      "cell_type": "code",
      "execution_count": null,
      "metadata": {
        "colab": {
          "base_uri": "https://localhost:8080/"
        },
        "id": "gBFrCbZ8K0uR",
        "outputId": "d28a7ea8-4619-43ef-b62b-0863c9eb6579"
      },
      "outputs": [
        {
          "name": "stderr",
          "output_type": "stream",
          "text": [
            "[nltk_data] Downloading package punkt to /root/nltk_data...\n",
            "[nltk_data]   Unzipping tokenizers/punkt.zip.\n",
            "[nltk_data] Downloading package stopwords to /root/nltk_data...\n",
            "[nltk_data]   Unzipping corpora/stopwords.zip.\n"
          ]
        },
        {
          "data": {
            "text/plain": [
              "True"
            ]
          },
          "execution_count": 3,
          "metadata": {},
          "output_type": "execute_result"
        }
      ],
      "source": [
        "from googlesearch import search\n",
        "from langchain.document_loaders import PyPDFLoader\n",
        "from langchain.text_splitter import RecursiveCharacterTextSplitter\n",
        "import tiktoken\n",
        "import cohere\n",
        "from qdrant_client import QdrantClient\n",
        "from qdrant_client.http import models\n",
        "from qdrant_client.models import Distance, VectorParams\n",
        "from collections import Counter\n",
        "import numpy as np\n",
        "import json\n",
        "import re\n",
        "import nltk\n",
        "from nltk.tokenize import word_tokenize\n",
        "nltk.download('punkt')\n",
        "from nltk.corpus import stopwords\n",
        "nltk.download('stopwords')"
      ]
    },
    {
      "cell_type": "code",
      "execution_count": null,
      "metadata": {
        "id": "3aGm5O2BOn_y"
      },
      "outputs": [],
      "source": [
        "tokenizer= tiktoken.get_encoding('cl100k_base')\n",
        "def tiktoken_len(text):\n",
        "  tokens = tokenizer.encode(text,disallowed_special=())\n",
        "  return len(tokens)"
      ]
    },
    {
      "cell_type": "code",
      "execution_count": null,
      "metadata": {
        "id": "rn5o-u7mv-_C"
      },
      "outputs": [],
      "source": [
        "cohere_client = cohere.Client(\"TBVEwMdI2gEhGDrSClPYR5P8MZLEaBNJl34EmiRW\")\n",
        "\n",
        "qdrant_client = QdrantClient(\n",
        "    url=\"https://68c3bd7c-85e8-4ddd-8da6-6d889578e82b.us-east4-0.gcp.cloud.qdrant.io:6333\",\n",
        "    api_key=\"G3knmZ-UwEnAyi27lvmVruwAos2I86KfnLIhu7qdLy0p8iqdGMvg-g\",\n",
        ")"
      ]
    },
    {
      "cell_type": "code",
      "execution_count": null,
      "metadata": {
        "colab": {
          "base_uri": "https://localhost:8080/"
        },
        "id": "upHW_6sTnqZg",
        "outputId": "16beb75d-87b1-4c5a-83cf-8adcbd626a26"
      },
      "outputs": [
        {
          "data": {
            "text/plain": [
              "True"
            ]
          },
          "execution_count": 6,
          "metadata": {},
          "output_type": "execute_result"
        }
      ],
      "source": [
        "qdrant_client.create_collection(\n",
        "    collection_name=\"VectorEmbeddings\",\n",
        "    vectors_config={\n",
        "        \"text-dense\": VectorParams(\n",
        "            size=1024,\n",
        "            distance=Distance.COSINE,\n",
        "        )\n",
        "    },\n",
        "    sparse_vectors_config={\n",
        "        \"text-sparse\": models.SparseVectorParams(\n",
        "            index=models.SparseIndexParams(\n",
        "                on_disk=False,\n",
        "            )\n",
        "        )\n",
        "    },\n",
        ")"
      ]
    },
    {
      "cell_type": "code",
      "execution_count": null,
      "metadata": {
        "id": "CQhWSU5f91Dw"
      },
      "outputs": [],
      "source": [
        "stop_words = set(stopwords.words('english'))\n",
        "def update_vocab(chunk, vocab):\n",
        "    clean_chunk = re.sub(r'[^a-zA-Z\\s]', ' ', chunk)\n",
        "    tokens = word_tokenize(clean_chunk)\n",
        "    tokens = [token.lower() for token in tokens if token.lower() not in stop_words]\n",
        "    for token in tokens:\n",
        "        if token not in vocab:\n",
        "            vocab[token] = len(vocab)"
      ]
    },
    {
      "cell_type": "code",
      "execution_count": null,
      "metadata": {
        "id": "VVVHGe_V5qAV"
      },
      "outputs": [],
      "source": [
        "def capitalise_split(text):\n",
        "    pattern = r'(?<=[a-z])(?=[A-Z])|(?<=[A-Z])(?=[A-Z][a-z])'\n",
        "    parts = re.split(pattern, text)\n",
        "    return ' '.join(parts)"
      ]
    },
    {
      "cell_type": "code",
      "execution_count": null,
      "metadata": {
        "id": "0S2ajTEfqWpS"
      },
      "outputs": [],
      "source": [
        "def create_sparse_representation(chunk, vocabulary):\n",
        "    clean_chunk = re.sub(r'[^a-zA-Z\\s]', ' ', chunk)\n",
        "    tokens = word_tokenize(clean_chunk)\n",
        "    tokens = [token.lower() for token in tokens if token.lower() not in stop_words]\n",
        "    token_counts = Counter(tokens)\n",
        "    indices = []\n",
        "    values = []\n",
        "    for token, count in token_counts.items():\n",
        "        if token in vocabulary:\n",
        "            indices.append(vocabulary[token])\n",
        "            values.append(count)\n",
        "    return indices, values"
      ]
    },
    {
      "cell_type": "code",
      "execution_count": null,
      "metadata": {
        "id": "-r__LctgKgdx"
      },
      "outputs": [],
      "source": [
        "companies = [(\"\", \"\")]\n",
        "\n",
        "def update_vectordb(companies, intype, year):\n",
        "  for company, ticker in companies:\n",
        "    with open('/content/drive/MyDrive/vocabulary/vocab.json', 'r') as f:\n",
        "      vocab = json.load(f)\n",
        "    query = f\"{company} + ' Annual Report 2023', filetype:pdf\"\n",
        "    results = list(search(query, num_results=3))\n",
        "    for r in results:\n",
        "      print(r)\n",
        "\n",
        "    check = int(input(\"Which pdf do you want to use (0,1,2): \"))\n",
        "\n",
        "    if check in [0,1,2,3,4,5]:\n",
        "      loader = PyPDFLoader(results[check])\n",
        "      pages = loader.load_and_split()\n",
        "      #pages = [doc for doc in pages if doc.metadata['page'] != 206]\n",
        "      pages = pages[:-3]\n",
        "\n",
        "      text_splitter = RecursiveCharacterTextSplitter(\n",
        "        chunk_size = 465,\n",
        "        chunk_overlap=30,\n",
        "        length_function=tiktoken_len,\n",
        "        separators=['\\n\\n','\\n',\"(?<=\\. )\",' ']\n",
        "      )\n",
        "\n",
        "      data = text_splitter.split_documents(pages)\n",
        "\n",
        "      datalist = []\n",
        "      data_metadata = []\n",
        "      for i in data:\n",
        "        datalist.append(f\"{company}: {capitalise_split(i.page_content)}\")\n",
        "        data_metadata.append(i.metadata)\n",
        "\n",
        "      for i, metadata in enumerate(data_metadata):\n",
        "        metadata['uname'] = ticker\n",
        "        metadata['uid'] = f'{ticker}-{intype}-{year}-{str(i)}'\n",
        "        metadata['intype'] = intype\n",
        "        metadata['year'] = year\n",
        "        metadata['chunk'] = datalist[i]\n",
        "\n",
        "      print(data_metadata[i])\n",
        "\n",
        "      embeddings = cohere_client.embed(\n",
        "      model=\"embed-english-v3.0\",\n",
        "      input_type=\"search_document\",\n",
        "      texts=datalist,\n",
        "      truncate=\"None\"\n",
        "      ).embeddings\n",
        "\n",
        "      for chunk in datalist:\n",
        "        update_vocab(chunk, vocab)\n",
        "\n",
        "      sparse_vectors = []\n",
        "      for chunk in datalist:\n",
        "        indices, values = create_sparse_representation(chunk, vocab)\n",
        "        sparse_vectors.append((indices, values))\n",
        "      print(sparse_vectors[:5])\n",
        "\n",
        "      with open('/content/drive/MyDrive/vocabulary/vocab.json', 'w') as f:\n",
        "        json.dump(vocab, f)\n",
        "\n",
        "      cnt = qdrant_client.count(collection_name=\"VectorEmbeddings\").count\n",
        "\n",
        "      points = [\n",
        "      models.PointStruct(\n",
        "          id=cnt + i,\n",
        "          vector={\n",
        "              \"text-dense\": embeddings[i],\n",
        "              \"text-sparse\": models.SparseVector(\n",
        "                  indices=sparse_vectors[i][0],\n",
        "                  values=sparse_vectors[i][1]\n",
        "              )\n",
        "          },\n",
        "          payload=data_metadata[i]\n",
        "      ) for i in range(len(datalist))\n",
        "      ]\n",
        "\n",
        "      qdrant_client.upsert(\n",
        "      collection_name=\"VectorEmbeddings\",\n",
        "      wait=True,\n",
        "      points=points\n",
        "      )\n",
        "\n",
        "    else:\n",
        "      print(\"Emundhi le Inka\")"
      ]
    },
    {
      "cell_type": "code",
      "execution_count": null,
      "metadata": {
        "colab": {
          "base_uri": "https://localhost:8080/"
        },
        "id": "xxT_OokU7gxW",
        "outputId": "9950416b-3285-45ba-908b-a612badac391"
      },
      "outputs": [
        {
          "name": "stdout",
          "output_type": "stream",
          "text": [
            "{'source': '/content/Annual-Report-FY-2022-2023.pdf', 'page': 455, 'uname': 'APOLLOHOSP', 'uid': 'APOLLOHOSP-AR-2023-902', 'intype': 'AR', 'year': 2023, 'chunk': 'Apollo Hospitals: TOTAL 100%  65,313 100%  8,443 100%  (133) 100%  8,310'}\n",
            "[([11422, 2307, 22, 21754, 111, 573, 485, 2172, 331], [1, 1, 1, 1, 1, 1, 1, 1, 1]), ([11422, 2307, 95, 203, 253, 6683, 93, 21755, 2254, 2398, 1066, 163, 20642, 5904, 2607, 243, 1989, 2182, 244, 23, 153, 263, 185, 186, 183, 224, 251, 252, 15903, 99, 285, 7672, 286, 231, 8022, 1421, 5050, 287, 680, 12970, 1586, 798, 22], [1, 1, 1, 3, 2, 1, 1, 3, 1, 1, 1, 1, 1, 1, 2, 1, 1, 1, 1, 7, 1, 2, 3, 2, 2, 1, 1, 1, 1, 5, 5, 2, 2, 1, 1, 1, 1, 2, 1, 1, 1, 1, 1]), ([11422, 2307, 21755, 12465, 5754, 15903, 485, 12640, 399, 2398, 2254, 21756, 868, 144, 1486, 69, 534, 1625, 240, 2916, 4415, 4499, 820, 940, 5177, 77, 5938, 1066, 2192, 13, 1882, 15, 3744, 594, 7582, 701, 554, 2055, 9, 331, 368, 3536, 21757, 249, 21758, 13648, 374, 62, 2277, 1198, 317, 3447, 314, 9952, 896, 100, 6255, 1201, 119, 185, 444, 7754, 457, 751, 165, 2308, 880, 1060, 582, 1234, 5, 687], [1, 3, 6, 1, 1, 2, 2, 3, 1, 2, 2, 1, 1, 2, 1, 1, 1, 1, 1, 1, 1, 1, 1, 1, 1, 3, 1, 1, 1, 6, 1, 2, 1, 1, 1, 1, 1, 1, 1, 2, 1, 1, 1, 4, 1, 1, 1, 1, 1, 1, 1, 1, 1, 1, 1, 1, 1, 1, 1, 1, 1, 1, 1, 1, 1, 1, 1, 1, 1, 1, 1, 1]), ([11422, 2307, 799, 48, 6683, 2000, 5908, 21759, 1763, 4710, 675, 1989, 6624, 3769, 22, 23, 148, 108, 602, 56, 57, 601, 9966, 139, 1898, 701, 331, 1389, 124, 399, 2398, 4594, 1200, 7458, 14949, 411, 2739, 18617, 7602, 706, 10697, 209, 240, 764, 5935, 6639, 173, 1838, 2552, 1234, 243, 3209, 15903, 82, 812, 17539, 7315, 37, 720, 203, 14454, 3871, 2771, 3664, 1338, 3345, 612, 3960, 38, 21, 1253, 2459, 798, 3359, 2308, 3373, 1837, 400, 5947, 21760, 1625, 1065, 2401, 77, 941, 415, 5113, 2842, 564, 2775, 15998, 1243, 631, 501, 9272, 52, 594, 53, 1184, 10967, 8449, 621, 869, 754, 4234, 169], [3, 4, 1, 1, 1, 1, 1, 1, 1, 1, 1, 1, 1, 1, 2, 2, 1, 1, 1, 1, 1, 1, 1, 1, 1, 1, 4, 1, 1, 1, 1, 1, 1, 1, 1, 1, 1, 1, 1, 1, 1, 1, 3, 2, 2, 1, 1, 3, 1, 1, 1, 1, 1, 1, 1, 1, 1, 2, 2, 2, 1, 1, 1, 1, 1, 2, 1, 1, 1, 1, 1, 1, 1, 1, 1, 1, 2, 1, 1, 1, 1, 4, 2, 1, 1, 1, 1, 1, 1, 1, 1, 1, 1, 1, 1, 1, 1, 1, 1, 1, 1, 1, 1, 1, 1, 1]), ([11422, 2307, 21755, 897, 527, 616, 7209, 209, 37, 594, 53, 6498, 1419, 4252, 21761, 2742, 1145, 9940, 168, 399, 331, 6248, 1065, 3455, 2013, 7433, 538, 7586, 7560, 11101, 1422, 545, 6243, 240, 38, 13143, 2149, 2141, 108, 1200, 5611, 690, 165, 719, 485, 1172, 5113, 1012, 720, 5935, 4451, 173, 2401, 708, 3765, 406, 812, 714, 634, 869, 77, 8523, 3845, 2044, 5168, 894, 21762, 6791, 1541, 59, 2449, 1877, 1234, 764, 1160, 6965, 798, 2739, 5729, 2446, 510, 4245, 2812, 21763, 1152, 21764, 3755, 8046, 21765, 21766, 1521, 21767, 16305, 5938, 100, 372, 1504, 3762, 17738, 21768, 21769, 3777, 258, 21770, 754, 21, 673, 21771, 984, 439, 1985, 957, 245, 761, 370, 2069, 19241, 395, 1625, 12, 2114, 2184, 5264, 21772, 9, 939, 207, 5992, 12703, 2525, 1456, 975, 1289, 6279, 3323, 5511, 400, 881, 5440, 8537, 314, 3293, 5571, 3628, 2], [6, 4, 1, 1, 1, 1, 1, 1, 5, 2, 1, 1, 1, 1, 1, 3, 1, 1, 1, 2, 1, 1, 3, 1, 1, 1, 1, 1, 1, 1, 1, 1, 1, 3, 1, 1, 1, 1, 1, 1, 1, 1, 1, 1, 4, 1, 2, 1, 4, 1, 1, 2, 2, 2, 2, 1, 1, 2, 2, 2, 4, 1, 2, 1, 1, 1, 1, 1, 1, 1, 1, 1, 1, 1, 1, 1, 1, 1, 1, 1, 1, 1, 1, 1, 1, 1, 1, 1, 1, 1, 1, 1, 3, 1, 2, 2, 1, 1, 1, 1, 1, 1, 1, 1, 1, 1, 1, 1, 1, 1, 1, 1, 2, 1, 1, 1, 1, 1, 1, 1, 1, 1, 1, 1, 1, 1, 1, 1, 1, 1, 1, 1, 1, 1, 1, 1, 1, 1, 1, 1, 1, 1, 1, 1, 1])]\n"
          ]
        }
      ],
      "source": [
        "update_vectordb(companies, \"AR\", 2023)"
      ]
    },
    {
      "cell_type": "markdown",
      "metadata": {
        "id": "sk4eEI6DVP8W"
      },
      "source": [
        "# Hybrid Search"
      ]
    },
    {
      "cell_type": "code",
      "execution_count": null,
      "metadata": {
        "id": "S0lCkdKIM75L"
      },
      "outputs": [],
      "source": [
        "with open('/content/drive/MyDrive/vocabulary/vocab.json', 'r') as f:\n",
        "      vocab = json.load(f)"
      ]
    },
    {
      "cell_type": "code",
      "execution_count": null,
      "metadata": {
        "id": "7U4lsB2SMJi_"
      },
      "outputs": [],
      "source": [
        "query_text = [\"What did Dhirubhai Ambani (Founder and chairman) say about the success of Reliance Industries?\"]\n",
        "\n",
        "query_indices, query_values = create_sparse_representation(query_text[0], vocab)\n",
        "query_dense_vector = cohere_client.embed(\n",
        "      model=\"embed-english-v3.0\",\n",
        "      input_type=\"search_document\",\n",
        "      texts=query_text,\n",
        "      truncate=\"None\"\n",
        "      ).embeddings"
      ]
    },
    {
      "cell_type": "code",
      "execution_count": null,
      "metadata": {
        "id": "4vlfQTQGP035"
      },
      "outputs": [],
      "source": [
        "query_dense_vector = [float(value) for value in query_dense_vector[0]]"
      ]
    },
    {
      "cell_type": "code",
      "execution_count": null,
      "metadata": {
        "id": "Coh13YvYODim"
      },
      "outputs": [],
      "source": [
        "search_results = qdrant_client.search_batch(\n",
        "    collection_name=\"VectorEmbeddings\",\n",
        "    requests=[\n",
        "        models.SearchRequest(\n",
        "            vector=models.NamedVector(\n",
        "                name=\"text-dense\",\n",
        "                vector=query_dense_vector,\n",
        "            ),\n",
        "            limit=10,\n",
        "        ),\n",
        "        models.SearchRequest(\n",
        "            vector=models.NamedSparseVector(\n",
        "                name=\"text-sparse\",\n",
        "                vector=models.SparseVector(\n",
        "                    indices=query_indices,\n",
        "                    values=query_values,\n",
        "                ),\n",
        "            ),\n",
        "            limit=10,\n",
        "        ),\n",
        "    ],\n",
        ")"
      ]
    },
    {
      "cell_type": "code",
      "execution_count": null,
      "metadata": {
        "colab": {
          "base_uri": "https://localhost:8080/"
        },
        "id": "zzBjJ-kjRP9j",
        "outputId": "62c5ae54-c1c5-49bf-fda3-e6c269c649e1"
      },
      "outputs": [
        {
          "data": {
            "text/plain": [
              "[[ScoredPoint(id=22, version=0, score=0.56215566, payload=None, vector=None, shard_key=None),\n",
              "  ScoredPoint(id=500, version=0, score=0.5347984, payload=None, vector=None, shard_key=None),\n",
              "  ScoredPoint(id=499, version=0, score=0.52889055, payload=None, vector=None, shard_key=None),\n",
              "  ScoredPoint(id=124, version=0, score=0.5009061, payload=None, vector=None, shard_key=None),\n",
              "  ScoredPoint(id=484, version=0, score=0.49681717, payload=None, vector=None, shard_key=None),\n",
              "  ScoredPoint(id=959, version=0, score=0.49555165, payload=None, vector=None, shard_key=None),\n",
              "  ScoredPoint(id=35, version=0, score=0.49075925, payload=None, vector=None, shard_key=None),\n",
              "  ScoredPoint(id=369, version=0, score=0.48918778, payload=None, vector=None, shard_key=None),\n",
              "  ScoredPoint(id=749, version=0, score=0.48808023, payload=None, vector=None, shard_key=None),\n",
              "  ScoredPoint(id=557, version=0, score=0.48691255, payload=None, vector=None, shard_key=None)],\n",
              " [ScoredPoint(id=856, version=0, score=47.0, payload=None, vector=None, shard_key=None),\n",
              "  ScoredPoint(id=855, version=0, score=36.0, payload=None, vector=None, shard_key=None),\n",
              "  ScoredPoint(id=1140, version=0, score=28.0, payload=None, vector=None, shard_key=None),\n",
              "  ScoredPoint(id=1139, version=0, score=28.0, payload=None, vector=None, shard_key=None),\n",
              "  ScoredPoint(id=1263, version=0, score=26.0, payload=None, vector=None, shard_key=None),\n",
              "  ScoredPoint(id=647, version=0, score=25.0, payload=None, vector=None, shard_key=None),\n",
              "  ScoredPoint(id=804, version=0, score=23.0, payload=None, vector=None, shard_key=None),\n",
              "  ScoredPoint(id=873, version=0, score=22.0, payload=None, vector=None, shard_key=None),\n",
              "  ScoredPoint(id=859, version=0, score=22.0, payload=None, vector=None, shard_key=None),\n",
              "  ScoredPoint(id=875, version=0, score=22.0, payload=None, vector=None, shard_key=None)]]"
            ]
          },
          "execution_count": 121,
          "metadata": {},
          "output_type": "execute_result"
        }
      ],
      "source": [
        "search_results"
      ]
    },
    {
      "cell_type": "code",
      "execution_count": null,
      "metadata": {
        "colab": {
          "base_uri": "https://localhost:8080/"
        },
        "id": "wiJ5OifPSPPp",
        "outputId": "89b2574f-1386-496e-8202-a326f07f179e"
      },
      "outputs": [
        {
          "data": {
            "text/plain": [
              "[Record(id=7400, payload={'chunk': 'Apollo Hospitals: Annual Repor t FY 2022-2023\\nLeveraging Technology for Personalised Healthcare', 'intype': 'AR', 'page': 0, 'source': '/content/Annual-Report-FY-2022-2023.pdf', 'uid': 'APOLLOHOSP-AR-2023-0', 'uname': 'APOLLOHOSP', 'year': 2023}, vector=None, shard_key=None)]"
            ]
          },
          "execution_count": 24,
          "metadata": {},
          "output_type": "execute_result"
        }
      ],
      "source": [
        "qdrant_client.retrieve(\n",
        "    collection_name=\"VectorEmbeddings\",\n",
        "    ids=[7400],\n",
        ")"
      ]
    },
    {
      "cell_type": "markdown",
      "metadata": {
        "id": "dbhFfNpXW6zq"
      },
      "source": [
        "# Text Generation"
      ]
    },
    {
      "cell_type": "code",
      "execution_count": null,
      "metadata": {
        "id": "GV0IdbtEZgXn"
      },
      "outputs": [],
      "source": [
        "from langchain_openai import ChatOpenAI\n",
        "llm = ChatOpenAI(\n",
        "    openai_api_key = '',\n",
        "    model_name='gpt-3.5-turbo',\n",
        "    temperature=0\n",
        ")"
      ]
    },
    {
      "cell_type": "code",
      "execution_count": null,
      "metadata": {
        "id": "pgIZgA6pd_D0"
      },
      "outputs": [],
      "source": [
        "from langchain.memory import ConversationBufferWindowMemory\n",
        "memory = ConversationBufferWindowMemory(\n",
        "memory_key=\"chat_history\",\n",
        "k=5,\n",
        "return_messages=True\n",
        ")"
      ]
    },
    {
      "cell_type": "code",
      "execution_count": null,
      "metadata": {
        "id": "9zXVHXcTxHXT"
      },
      "outputs": [],
      "source": [
        "def sparse_encoder(chunk:str):\n",
        "    with open('/content/drive/MyDrive/vocabulary/vocab.json', 'r') as f:\n",
        "      vocab = json.load(f)\n",
        "    clean_chunk = re.sub(r'[^a-zA-Z\\s]', ' ', chunk)\n",
        "    tokens = word_tokenize(clean_chunk)\n",
        "    tokens = [token.lower() for token in tokens if token.lower() not in stop_words]\n",
        "    token_counts = Counter(tokens)\n",
        "    indices = []\n",
        "    values = []\n",
        "    for token, count in token_counts.items():\n",
        "        if token in vocab:\n",
        "            indices.append(vocab[token])\n",
        "            values.append(count)\n",
        "    return tuple([indices, values])"
      ]
    },
    {
      "cell_type": "code",
      "execution_count": null,
      "metadata": {
        "id": "AoQJn3nEn-fg"
      },
      "outputs": [],
      "source": [
        "from langchain_community.retrievers import (\n",
        "    QdrantSparseVectorRetriever,\n",
        ")\n",
        "\n",
        "sparse_retriever = QdrantSparseVectorRetriever(\n",
        "    client=qdrant_client,\n",
        "    collection_name=\"VectorEmbeddings\",\n",
        "    sparse_vector_name=\"text-sparse\",\n",
        "    sparse_encoder=sparse_encoder,\n",
        "    content_payload_key = \"chunk\",\n",
        "    metadata_payload_key = \"payload\"\n",
        "\n",
        ")"
      ]
    },
    {
      "cell_type": "code",
      "execution_count": null,
      "metadata": {
        "colab": {
          "base_uri": "https://localhost:8080/"
        },
        "id": "Z4Tu4X7DdFYb",
        "outputId": "2f6598d5-dba4-47db-9b61-8962c8bd3ccc"
      },
      "outputs": [
        {
          "data": {
            "text/plain": [
              "[Document(page_content='Asian Paints: Notes to the Consolidated Financial Statements (Contd.)Asian Paints Limited\\n466\\nIntegrated Annual Report 2022-23 (` in Crores) \\nName of the Entity Name of Struck off Company Nature of \\ntransactions with \\nstruck-off Company As at  \\n31.03.2023As at  \\n31.03.2022\\nAsian Paints Limited Fairgrowth Financial Services Limited Unclaimed Dividend  #  # \\nAsian Paints Limited Fairgrowth Investments Limited Unclaimed Dividend  #  # \\nAsian Paints Limited Fairtrade Securities Limited Unclaimed Dividend  #  # \\nAsian Paints Limited Kinnari Investments Private Limited Unclaimed Dividend  0.01  0.01 \\nAsian Paints Limited Mulraj Holdings & Finance Private Limited Unclaimed Dividend  #  # \\nAsian Paints Limited Optimist Finvest and Trading Private \\nLimited Unclaimed Dividend  #  # \\nAsian Paints Limited Palkhi Investment and Trading Company Private Limited Unclaimed Dividend  #  # \\nAsian Paints Limited Pax Holdings Private Limited Unclaimed Dividend  #  # \\nAsian Paints Limited Safna Consultancy Private Limited Unclaimed Dividend  #  # \\nAsian Paints Limited Salil Archana Invests Private Limited Unclaimed Dividend  #  # \\nAsian Paints Limited Siddha Papers Private Limited Unclaimed Dividend  #  # \\nAsian Paints Limited Smita Commercial Investment Limited Unclaimed Dividend  #  # \\nAsian Paints Limited Sunhari Trading and Commerce Private Limited Unclaimed Dividend  #  # \\nAsian Paints Limited Unicon Fincap Private Limited Unclaimed Dividend  #  # \\nAsian Paints PPG Private Limited Surface Care Technologist Pvt Ltd \\n(1) (2)Receivables  0.21  0.21 \\nAsian Paints PPG Private Limited Algypug Enclosures Private Limited (1) (2)Receivables  0.05  0.05', metadata={'_id': 2323, '_collection_name': 'VectorEmbeddings'}),\n",
              " Document(page_content='Asian Paints: Limited (1) (2)Receivables  0.09  0.09 \\nAsian Paints Limited D.R. Retails Private Limited (1) (2)Receivables  0.01  0.01 \\nAsian Paints Limited K.A.S. Housing Private Limited (1) (2)Receivables  0.01  0.01 \\nAsian Paints Limited Paint Shades Private Limited Receivables  0.35  0.23 \\nAsian Paints Limited Tirupati Suppliers Private Limited (1) (2)Receivables  0.40  0.40 \\nAsian Paints Limited Viva Concrete Technologies Private  Limited \\n(1) (2)Receivables  0.02  0.02 \\nAsian Paints Limited Dte Events Private Limited Payables  -    -   \\nAsian Paints Limited Gomistri Services Private Limited Payables  -    # \\nAsian Paints Limited Khatushyam Engineers Private Limited (2)Payables  (0.01)  (0.01)\\nAsian Paints Limited Maxin Hydro Dynamic India Private  Limited \\n(2)Payables  -    -   \\nAsian Paints Limited Milestone Market Research and Event Management Private Limited\\n (2)Payables  -    -   \\nAsian Paints Limited S E Security Services Private Limited (2)Payables  -    -   \\nAsian Paints Limited Swarna Homes Private Limited Payables  0.04  -   \\nAsian Paints Limited Vanshika Tours and Travels Private Limited Payables  (0.04)  (0.03)\\nAsian Paints Limited Alliance Invest and Finance Private Limited Unclaimed Dividend  #  # \\nAsian Paints Limited Boi Finance Limited Unclaimed Dividend  #  # \\nAsian Paints Limited Chinmaya Estates Private Limited Unclaimed Dividend  #  # \\nAsian Paints Limited Empyrean Consultant Private Limited Unclaimed Dividend  #  #', metadata={'_id': 2322, '_collection_name': 'VectorEmbeddings'}),\n",
              " Document(page_content='Asian Paints: venture% of shares \\nheld by the \\nCompany\\nA Subsidiaries of Asian Paints Limited\\n1. Asian Paints (Nepal) Private Limited Subsidiary 52.71\\n2. Asian Paints International Private Limited Subsidiary 100\\n3. Asian Paints Industrial Coatings Limited Subsidiary 100\\n4. Maxbhumi Developers Limited Subsidiary 100\\n5. Sleek International Private Limited Subsidiary 100\\n6. Weatherseal Fenestration Private Limited Subsidiary 51\\n7. Asian Paints (Polymers) Private Limited Subsidiary 100\\nB Subsidiaries of Asian Paints International Private Limited (APIPL)\\n8. Enterprise Paints Limited Subsidiary 100\\n9. Universal Paints Limited Subsidiary 100\\n10. Kadisco Paint and Adhesive Industry Share Company Subsidiary 51\\n11. PT Asian Paints Indonesia Subsidiary 100\\n12. PT Asian Paints Color Indonesia Subsidiary 100\\n13. Asian Paints (South Pacific) Pte Limited Subsidiary 54.07\\n14. Asian Paints (S.I) Limited Subsidiary 75\\n15. Asian Paints (Bangladesh) Limited Subsidiary 95.09\\n16. Asian Paints (Middle East) SPC Subsidiary 100\\n17. SCIB Chemicals S.A.E. Subsidiary 61.31\\n18. Samoa Paints Limited Subsidiary 80\\n19. Asian Paints (Vanuatu) Limited Subsidiary 60\\n20. Causeway Paints Lanka (Pvt) Limited Subsidiary 99.98\\n21. A P International Doha Trading W.L.L. (Note 2) Subsidiary 100\\nC Subsidiary of Enterprise Paints Limited\\n22. Nirvana Investments Limited Subsidiary 100\\nD Subsidiary of Nirvana Investments Limited\\n23. Berger Paints Emirates LLC Subsidiary 100', metadata={'_id': 1759, '_collection_name': 'VectorEmbeddings'}),\n",
              " Document(page_content='Asian Paints: Asian Paints PPG Private Limited Ssgm Sales India Private Limited (1) (2)Receivables  0.03  0.03 \\nAsian Paints PPG Private Limited G.S. Lighting (P) Ltd (1) (2)Receivables  0.05  0.05 \\nAsian Paints PPG Private Limited Urban Water Supply Private Limited (1) (2)Receivables  #  # \\nAsian Paints PPG Private Limited Pyrotech Electronics Pvt. Ltd Receivables  #  -   \\nSleek International Private Limited Naveli Décor Private Limited Receivables  (0.02)  -   \\nSleek International Private Limited Sarovar Portico Payables  -    -   \\nSleek International Private Limited Renest-Unique Mercantile India Ltd. Payables  -    -   \\n(1) The Company has made provision for doubtful debts for the balances.\\n(2) There were no new transactions with these companies during the year.\\nBelow struck off companies are equity shareholders of the Parent Company as on the Balance Sheet \\ndate\\nName of the Entity Name of Struck off Company Nature of transactions with struck-off Company\\nAsian Paints Limited Shanti Credit and Holdings Pvt Ltd Shares held by struck off Company\\nAsian Paints Limited Safna Consultancy Pvt Ltd Shares held by struck off Company\\nAsian Paints Limited Siddha Papers Pvt Ltd Shares held by struck off Company\\nAsian Paints Limited Fairtrade Securities Ltd Shares held by struck off Company\\nAsian Paints Limited Unicon Fincap Private Ltd Shares held by struck off Company\\nAsian Paints Limited Fairgrowth Investments Ltd Shares held by struck off Company\\nAsian Paints Limited Fairgrowth Financial Services Ltd Shares held by struck off Company\\nAsian Paints Limited Empyrean Consultant Pvt Ltd Shares held by struck off Company\\nAsian Paints Limited Aloke Speciality Machines and \\nComponents Pvt Ltd Shares held by struck off Company\\nNone of the above mentioned struck off companies are related party of the Group.NOTE 44 : ADDITIONAL REGULATORY INFORMATION REQUIRED BY SCHEDULE III TO THE \\nCOMPANIES ACT, 2013 (CONTD.)', metadata={'_id': 2324, '_collection_name': 'VectorEmbeddings'})]"
            ]
          },
          "execution_count": 66,
          "metadata": {},
          "output_type": "execute_result"
        }
      ],
      "source": [
        "sparse_retriever.get_relevant_documents(\"Asian Paints balance sheet\")"
      ]
    },
    {
      "cell_type": "code",
      "execution_count": null,
      "metadata": {
        "id": "YQHFalmM4UCr"
      },
      "outputs": [],
      "source": [
        "from langchain_community.embeddings import CohereEmbeddings\n",
        "embeddings = CohereEmbeddings(cohere_api_key = 'TBVEwMdI2gEhGDrSClPYR5P8MZLEaBNJl34EmiRW', model=\"embed-english-v3.0\")"
      ]
    },
    {
      "cell_type": "code",
      "execution_count": null,
      "metadata": {
        "id": "aYTWRNG9xzuG"
      },
      "outputs": [],
      "source": [
        "from langchain_community.vectorstores import Qdrant\n",
        "qdrant = Qdrant(qdrant_client,\"VectorEmbeddings\", embeddings, vector_name = \"text-dense\",content_payload_key = \"chunk\",\n",
        "    metadata_payload_key = \"payload\")"
      ]
    },
    {
      "cell_type": "markdown",
      "metadata": {
        "id": "3XnsNcwEe8CY"
      },
      "source": []
    },
    {
      "cell_type": "code",
      "execution_count": null,
      "metadata": {
        "id": "4pCsfvQ8zQ6M"
      },
      "outputs": [],
      "source": [
        "dense_retriever = qdrant.as_retriever(\n",
        "    search_type = \"similarity\"\n",
        ")"
      ]
    },
    {
      "cell_type": "code",
      "execution_count": null,
      "metadata": {
        "colab": {
          "base_uri": "https://localhost:8080/"
        },
        "id": "3YjamEY_dZXh",
        "outputId": "9a44a32a-5139-47c6-fe71-4e1fc6eecab2"
      },
      "outputs": [
        {
          "data": {
            "text/plain": [
              "[Document(page_content='Asian Paints: Asian Paints Limited\\n382\\nIntegrated Annual Report 2022-23Notes to the Consolidated Financial Statements  \\nfor the year ended 31st March, 2023\\nGROUP’S BACKGROUN D\\nThe Consolidated Financial Statements comprise financial \\nstatements of Asian Paints Limited (‘the Parent’ or ‘the \\nCompany’) and its subsidiaries (collectively, ‘the Group’) and includes share of profit of the Associates for the year \\nended 31\\nst March, 2023.\\nThe Parent is a public limited Company domiciled and \\nincorporated in India under the Indian Companies Act, \\n1913. The registered office of the Parent is located at 6A, \\nShantinagar, Santacruz East, Mumbai, India.\\nThe Group is engaged in the business of manufacturing, \\nselling and distribution of paints, coatings, products \\nrelated to home décor, bath fittings, modular kitchen & accessories and providing related services.\\n1. SIGNIFICANT ACCOUNTING POLICIES \\nAND KEY ACCOUNTING ESTIMATES AND \\nJUDGEMENTS\\n Significant Accounting Policies :\\n1.1. Basis of preparation of Consolidated Financial \\nStatements\\n These financial statements are the Consolidated \\nFinancial Statements of the Group prepared in \\naccordance with Indian Accounting Standards (‘Ind \\nAS’) notified under Section 133 of the Companies \\nAct 2013, read together with the Companies (Indian \\nAccounting Standards) Rules, 2015 (as amended).\\n These Consolidated Financial Statements have \\nbeen prepared and presented under the historical cost convention, on the accrual basis of accounting \\nexcept for certain financial assets and financial \\nliabilities that are measured at fair values at the \\nend of each reporting period, as stated in the accounting policies set out below. The accounting \\npolicies have been applied consistently over all the \\nperiods presented in these Consolidated Financial Statements.\\n The Consolidated Financial Statements are \\npresented in Indian Rupees (which is also the \\nfunctional currency of the Group) and is rounded', metadata={'_id': 2103, '_collection_name': 'VectorEmbeddings'}),\n",
              " Document(page_content='Asian Paints: Balance as at 31\\nst March, 2023 (D+E+F) 44.38 0.50 4,166.74 11,166.17  (29.25)  26.77  (110.89)  0.37  (3.05)  227.90 15,489.64\\nSignificant accounting policies and key accounting estimates and judgements (Refer note 1)See accompanying notes to the Standalone Financial Statements (Refer note 2-45)Statement of Changes in Equity  \\nfor the year ended 31st March, 2023\\nAs per our report of even date attached For and on behalf of the Board of Directors of Asian Paints Limited  \\nCIN : L24220MH1945PLC004598\\nFor Deloitte Haskins & Sells LLP  \\nChartered Accountants  \\nF.R.N : 117366W/W-100018Deepak Satwalekar  \\nChairman  \\nDIN : 00009627Amit Syngle  \\nManaging Director & CEO \\nDIN : 07232566\\nRupen K. Bhatt  \\nPartner  \\nMembership No : 046930Milind Sarwate  \\nChairman of Audit Committee  \\nDIN : 00109854R J Jeyamurugan  \\nCFO & Company Secretary\\nMumbai  \\n11th May, 2023Mumbai', metadata={'_id': 1863, '_collection_name': 'VectorEmbeddings'}),\n",
              " Document(page_content='Asian Paints: Asian Paints Limited\\n366\\nIntegrated Annual Report 2022-23Independent Auditor’s Report\\nTo the Members of Asian Paints Limited\\nREPORT ON THE AUDIT OF THE CONSOLIDATED \\nFINANCIAL STATEMENTS\\nOpinion\\nWe have audited the accompanying Consolidated \\nFinancial Statements of Asian Paints Limited (herein \\nafter referred to as ”the Parent”) and its subsidiaries, \\n(the Parent and its subsidiaries together referred to as “the Group”) which includes the Group’s share of profit in \\nits associates, which comprise the Consolidated Balance \\nSheet as at 31\\nst March, 2023, and the Consolidated \\nStatement of Profit and Loss (including Other \\nComprehensive Income), the Consolidated Cash Flow \\nStatement and the Consolidated Statement of Changes \\nin Equity for the year then ended, and a summary of \\nsignificant accounting policies and other explanatory information.\\nIn our opinion and to the best of our information and \\naccording to the explanations given to us, and based \\non the consideration of reports of the other auditors \\non separate financial statements of the subsidiaries and associates referred to in the Other Matters section \\nbelow, the aforesaid Consolidated Financial Statements \\ngive the information required by the Companies Act, 2013 (“the Act”) in the manner so required and give a true \\nand fair view in conformity with the Indian Accounting \\nStandards prescribed under Section 133 of the Act read with the Companies (Indian Accounting Standards) \\nRules, 2015, as amended (‘Ind AS’), and other accounting \\nprinciples generally accepted in India, of the consolidated state of affairs of the Group as at 31\\nst March, 2023, \\nand their consolidated profit, their consolidated total \\ncomprehensive income, their consolidated cash flows and their consolidated changes in equity for the year ended on that date.\\nBasis for Opinion\\nWe conducted our au dit of the Consolidated Financial \\nStatements in accordance with the Standards on Auditing \\n(S As) specified under Section 143 (10) of the Act. Our responsibilities under those Standards are further described in the Auditor’s Responsibility for the Audit', metadata={'_id': 2059, '_collection_name': 'VectorEmbeddings'}),\n",
              " Document(page_content='Asian Paints: -  Deposits with original maturity of less than 3 months  25.01 -\\nCheques, draft on hand  38.07  46.73\\nCash and cash equivalents  (Refer note 11A)  156.44  276.04\\nAdd : Investments in Fixed Maturity Plans (with original maturity of less than 3 months) \\n(Refer note 5(D)(ii)) 111.57 -\\nAdd : Investments in Liquid Mutual Funds (Refer note 5(D)(iii)) 2,436.48 1,788.55\\nCash and cash equivalents in Cash Flow Statement 2,704.49 2,064.59\\nSignificant accounting policies and key accounting estimates and judgements  (Refer note 1)\\nSee accompanying notes to the Standalone Financial Statements (Refer note 2-45)Cash Flow Statement (Contd.)  \\nfor the year ended 31st March, 2023\\nAs per our report of even date attached For and on behalf of the Board of Directors of Asian Paints Limited  \\nCIN : L24220MH1945PLC004598\\nFor Deloitte Haskins & Sells LLP  \\nChartered Accountants  \\nF.R.N : 117366W/W-100018Deepak Satwalekar  \\nChairman  \\nDIN : 00009627Amit Syngle  \\nManaging Director & CEO \\nDIN : 07232566\\nRupen K. Bhatt  \\nPartner  \\nMembership No : 046930Milind Sarwate  \\nChairman of Audit Committee  \\nDIN : 00109854R J Jeyamurugan  \\nCFO & Company Secretary\\nMumbai  \\n11th May, 2023Mumbai  \\n11th May, 2023291Overview ESG commitments Fundamentals Strengthening our capitals Statutory reports Financial statements COMPANY BACKGROUND\\nAsian Paints Limited (the ‘Company’) is a public limited \\nCompany domiciled and incorporated in India under the \\nIndian Companies Act, 1913. The registered office of the', metadata={'_id': 1868, '_collection_name': 'VectorEmbeddings'})]"
            ]
          },
          "execution_count": 65,
          "metadata": {},
          "output_type": "execute_result"
        }
      ],
      "source": [
        "dense_retriever.get_relevant_documents(\"Asian Paints Balance sheet\")"
      ]
    },
    {
      "cell_type": "code",
      "execution_count": null,
      "metadata": {
        "id": "oHIn3XM-Ks4a"
      },
      "outputs": [],
      "source": [
        "from langchain.retrievers import MergerRetriever\n",
        "\n",
        "lotr = MergerRetriever(retrievers=[dense_retriever, sparse_retriever])"
      ]
    },
    {
      "cell_type": "code",
      "execution_count": null,
      "metadata": {
        "id": "vEY5-Vq2cWtN"
      },
      "outputs": [],
      "source": [
        "retrieved_documents = lotr.get_relevant_documents(\"Balance sheet for Reliance Industries\")"
      ]
    },
    {
      "cell_type": "code",
      "execution_count": null,
      "metadata": {
        "colab": {
          "base_uri": "https://localhost:8080/"
        },
        "id": "H6TwsQEyccz0",
        "outputId": "71928249-c187-4516-e11c-2f144dc57074"
      },
      "outputs": [
        {
          "data": {
            "text/plain": [
              "[Document(page_content='Reliance Industries: BALANCE SHEET  \\nAs at 31st March, 2023\\n(C in crore)\\nNotes As at  \\n31st March 2023As at  \\n31st March 2022\\nAssets\\nNon-Current Assets\\nProperty, Plant and Equipment 1 2,32,238 2,23,824\\nIntangible Assets 1 12,926 15,802\\nCapital Work-in-Progress 1 30,958 19,267\\nIntangible Assets Under Development 1 17,957 15,395\\nFinancial Assets\\nInvestments 2 3,03,558 3,30,493\\nLoans 3 22,448 41,951\\nOther Financial Assets 4 2,215 2,247\\nOther Non-Current Assets 5  2,333 7,297\\nTotal Non-Current Assets 6,24,633 6,56,276\\nCurrent Assets\\nInventories 6 48,926 45,923\\nFinancial Assets\\nInvestments 7 86,074 78,304\\nTrade Receivables 8 16,898 14,394\\nCash and Cash Equivalents 9  56,811 21,714\\nLoans 10 595 161\\nOther Financial Assets 11  49,408 54,901\\nOther Current Assets 13 7,220 7,001\\nTotal Current Assets 2,65,932 2,22,398\\nTotal Assets 8,90,565 8,78,674(C in crore)\\nNotes As at  \\n31st March 2023As at  \\n31st March 2022\\nEquity and Liabilities\\nEquity\\nEquity Share capital 14 6,766 6,765\\nOther Equity 15  4,72,328 4,64,762\\nTotal Equity 4,79,094 4,71,527\\nLiabilities\\nNon-Current Liabilities\\nFinancial Liabilities\\nBorrowings 16 1,35,561 1,67,231\\nLease Liabilities 2,786 2,790', metadata={'_id': 737, '_collection_name': 'VectorEmbeddings'}),\n",
              " Document(page_content='Reliance Industries: ^ Relationships established during the year.Sr. No. Name of the Related Party Relationship \\n250 Reliance Global Energy Services Limited\\nSubsidiary251 Reliance Global Project Services Pte Ltd^\\n252 Reliance Global Project Services UK Limited^\\n253 Reliance Hydrogen Electrolysis Limited\\n254 Reliance Hydrogen Fuel Cell Limited\\n255 Reliance Industrial Investments and Holdings Limited @**\\n256 Reliance Industries (Middle East) DMCC\\n257 Reliance Infratel Limited^\\n258 Reliance Innovative Building Solutions Private Limited\\n259 Reliance International Limited\\n260 Reliance Jio Global Resources, LLC\\n261 Reliance Jio Infocomm Limited\\n262 Reliance Jio Infocomm Pte. Ltd.\\n263 Reliance Jio Infocomm UK Limited\\n264 Reliance Jio Infocomm USA, Inc.\\n265 Reliance Jio Media Limited\\n266 Reliance Jio Messaging Services Limited @\\n267 Reliance Lifestyle Products Private Limited\\n268 Reliance Lithium Werks B. V.^\\n269 Reliance Lithium Werks USA LLC^\\n270 Reliance Logistics and Warehouse Holdings Limited^\\n271 Reliance Mappedu Multi Modal Logistics Park Limited^\\n272 Reliance Marcellus II LLC @\\n273 Reliance Marcellus LLC\\n274 Reliance Neucomm LLC^\\n275 Reliance New Energy Battery Storage Limited^\\n276 Reliance New Energy Carbon Fibre Cylinder Limited\\n277 Reliance New Energy Hydrogen Electrolysis Limited\\n278 Reliance New Energy Hydrogen Fuel Cell Limited\\n279 Reliance New Energy Limited\\n280 Reliance New Energy Power Electronics Limited\\n281 Reliance New Energy Storage Limited\\n282 Reliance New Solar Energy Limited\\n283 Reliance O2C Limited @\\n284 Reliance Payment Solutions Limited @**\\n285 Reliance Petro Marketing Limited\\n286 Reliance Petro Materials Limited^\\n287 Reliance Polyester Limited (Formerly known as Reliance Petroleum Retail Limited)\\n288 Reliance Power Electronics Limited\\n289 Reliance Progressive Traders Private Limited\\n290 Reliance Projects & Property Management Services Limited\\n291 Reliance Prolific Commercial Private Limited\\n292 Reliance Prolific Traders Private Limited', metadata={'_id': 856, '_collection_name': 'VectorEmbeddings'}),\n",
              " Document(page_content='Reliance Industries: The Company adheres to a disciplined Capital Management framework in order to maintain a strong balance sheet. The main \\nobjectives are as follows:\\n a)  Maintain AAA rating domestically and investment grade rating internationally.\\n b) Manage foreign exchange, interest rates and commodity price risk, and minimise the impact of market volatility on earnings.\\n c) Diversify sources of financing and spread the maturity across tenure buckets in order to manage liquidity risk.\\n d) Leverage optimally in order to maximise shareholder returns.\\n The Net Gearing Ratio at end of the reporting period was as follows:\\n(C in crore)\\nParticulars As at  \\n31st March, 2023As at  \\n31st March, 2022\\nGross Debt 2,15,823 1,94,563\\nCash and Marketable Securities* 1,42,926 1,82,235\\nNet debt (A) 72,897 12,328\\nTotal Equity (As per Balance Sheet) (B) 4,79,094 4,71,527\\nNet Gearing (A/B) 0.15 0.03 \\n *  Cash & Marketable Securities include cash and cash equivalents of C 56,811 crore (Previous Year C 21,714 crore), current investments of C 86,074 \\ncrore (Previous Year C 78,304 crore), other marketable securities of C Nil (Previous Year C 82,136 crore including investments in Jio Digital Fibre \\nPrivate Limited and Summit Digitel Infrastructure Limited) and Share Call money receivable on rights issue of C 41 crore (Previous Year C 81 crore).\\n39. Financial Instruments\\n A. Fair Value Measurement Hierarchy\\n(C\\xa0in crore)\\nParticulars As at 31st March, 2023 As at 31st March, 2022\\nCarrying\\nAmount Level of input used in Carrying\\nAmount Level of input used in\\nLevel 1 Level 2 Level 3 Level 1 Level 2 Level 3\\nFinancial Assets \\nAt Amortised Cost \\nInvestments* 12,810 - - - 30,874 - - -', metadata={'_id': 893, '_collection_name': 'VectorEmbeddings'}),\n",
              " Document(page_content='Reliance Industries: Sr. No. Name of the Related Party Relationship \\n208 REC Solar (Japan) Co., Ltd.\\nSubsidiary209 REC Solar EMEA Gmb H\\n210 REC Solar France SAS\\n211 REC Solar Holdings AS\\n212 REC Solar Norway AS\\n213 REC Solar Pte. Ltd.\\n214 REC Systems (Thailand) Co., Ltd.\\n215 REC Trading (Shanghai) Co., Ltd.\\n216 REC US Holdings, Inc.\\n217 Recron (Malaysia) Sdn. Bhd.\\n218 Reliance 4IR Realty Development Limited\\n219 Reliance A&T Fashions Private limited (Formerly known as Abraham and Thakore Exports \\nPrivate Limited)\\n220 Reliance Abu Sandeep Private Limited (Formerly known as ABSA Fashions Private Limited)^\\n221 Reliance AK-OK Fashions Limited^\\n222 Reliance Ambit Trade Private Limited\\n223 Reliance Beauty & Personal Care Limited^\\n224 Reliance Bhutan Limited^\\n225 Reliance Bio Energy Limited^\\n226 Reliance BP Mobility Limited\\n227 Reliance Brands Holding UK Limited\\n228 Reliance Brands Limited\\n229 Reliance Brands Luxury Fashion Private Limited\\n230 Reliance Carbon Fibre Cylinder Limited\\n231 Reliance Chemicals and Materials Limited^\\n232 Reliance Clothing India Limited (Formerly known as Reliance Clothing India Private Limited)\\n233 Reliance Commercial Dealers Limited\\n234 Reliance Comtrade Private Limited\\n235 Reliance Consumer Products Limited^\\n236 Reliance Content Distribution Limited\\n237 Reliance Corporate IT Park Limited\\n238 Reliance Digital Health Limited\\n239 Reliance Digital Health USA Inc.\\n240 Reliance Eagleford Upstream Holding LP\\n241 Reliance Eagleford Upstream LLC\\n242 Reliance Eminent Trading & Commercial Private Limited\\n243 Reliance Ethane Holding Pte Limited\\n244 Reliance Ethane Pipeline Limited\\n245 Reliance Exploration & Production DMCC\\n246 Reliance Finance and Investments USA LLC^\\n247 Reliance GAS Lifestyle India Private Limited\\n248 Reliance Gas Pipelines Limited\\n249 Reliance Global Energy Services (Singapore) Pte. Limited\\n^ Relationships established during the year.Sr. No. Name of the Related Party Relationship \\n250 Reliance Global Energy Services Limited', metadata={'_id': 855, '_collection_name': 'VectorEmbeddings'}),\n",
              " Document(page_content='Reliance Industries: 1,000 1,000 2,000 4,097\\n   * Excludes C 8 crore (Non-Current) as fair valuation impact.\\n  b) Unsecured:\\n(C\\xa0in crore)\\nRate of Interest Non-Current * Current *\\nYear of Maturity\\n2028-29 2026-27 2025-26 2024-25 Total 2023-24\\nMIBOR+2.90% - - - - - 3,600\\nREPO+2.80% - - - - - 4,500\\n6.20% - 5,000 - - 5,000 -\\n6.95% - - - - - 550\\n7.05% - - - - - 2,340\\n7.20% - - - - - 3,405\\n7.40% - - 1,650 - 1,650 -\\n8.65% 2,190 - - - 2,190 -\\n8.70% 800 - - - 800 -\\n8.95% 1,990 - - - 1,990 -\\n9.00% - - - 850 850 -\\n9.05% 2,409 - - - 2,409 -\\n9.25% - - - 1,437 1,437 -\\n7,389 5,000 1,650 2,287 16,326 14,395\\n   *  Includes C 28 crore (Non-Current C 22 crore and Current C 6 crore) as prepaid finance charges and C 95 crore (Non-current) as \\nrevaluation gain.Corporate Overview    Management Review    Governance    Financial Statements\\nConsolidated\\nNOTES  \\nto the Consolidated Financial Statements for the year ended 31st March, 2023\\n450 451\\nReliance Industries Limited Integrated Annual Report 2022-23', metadata={'_id': 1045, '_collection_name': 'VectorEmbeddings'}),\n",
              " Document(page_content='Reliance Industries: America100.00%\\n254 Reliance Neu Comm LLC* United States of \\nAmerica100.00%\\n255 Reliance New Energy Battery Storage Limited India 100.00%\\n256 Reliance New Energy Carbon Fibre Cylinder Limited India 100.00%\\n257 Reliance New Energy Hydrogen Electrolysis Limited India 100.00%\\n258 Reliance New Energy Hydrogen Fuel Cell Limited India 100.00%\\n259 Reliance New Energy Limited India 100.00%\\n260 Reliance New Energy Power Electronics Limited India 100.00%\\n261 Reliance New Energy Storage Limited India 100.00%\\n262 Reliance New Solar Energy Limited India 100.00%\\n263 Reliance Payment Solutions Limited^ India 100.00%\\n264 Reliance Petro Marketing Limited India 100.00%\\n265 Reliance Petro Materials Limited India 100.00%\\n266 Reliance Polyester Limited (Formerly known as Reliance Petroleum Retail Limited) India 100.00%\\n267 Reliance Power Electronics Limited India 100.00%\\n* Company having 31st December as reporting date.\\n^ Demerged w.e.f. 31st March, 2023. Refer Note 44Sr. \\nNo.Name of the Enterprise Country of \\nIncorporation Proportion of \\nOwnership Interest\\n268 Reliance Progressive Traders Private Limited India 100.00%\\n269 Reliance Projects & Property Management Services Limited India 100.00%\\n270 Reliance Prolific Commercial Private Limited India 100.00%\\n271 Reliance Prolific Traders Private Limited India 100.00%\\n272 Reliance Rahul Mishra Fashion Private Limited (Formerly known as Rahul Mishra Fashion \\nPrivate Limited)India 43.38%\\n273 Reliance Retail and Fashion Lifestyle Limited India 85.06%\\n274 Reliance Retail Finance Limited^ India 100.00%\\n275 Reliance Retail Insurance Broking Limited^ India 100.00%\\n276 Reliance Retail Limited India 85.00%\\n277 Reliance Retail Ventures Limited India 85.06%\\n278 Reliance Ritu Kumar Private Limited India 44.41%', metadata={'_id': 1140, '_collection_name': 'VectorEmbeddings'}),\n",
              " Document(page_content='Reliance Industries: Group’s cash flow position and ensures that the Group is able to meet its financial obligation at all times including \\ncontingencies.\\n    The Group’s liquidity is managed centrally with operating units forecasting their cash and liquidity requirements. \\nTreasury pools the cash surpluses from across the different operating units and then arranges to either fund the net \\ndeficit or invest the net surplus in a range of short-dated, secure and liquid instruments including short-term bank \\ndeposits, money market funds, reverse repos and similar instruments. The portfolio of these investments is diversified to \\navoid concentration risk in any one instrument or counterparty.\\n(C in crore)\\nParticulars*Maturity Profile as at 31st March, 2023*\\nBelow 3 \\nMonths3-6 Months 6-12 Months 1-3 Years 3-5 Years Above 5 Years Total\\nBorrowings\\nNon-Current #@13,449 8,594 27,254 78,290 42,750 62,688 2,33,025\\nCurrent ^77,761 3,500 1,316 - - - 82,577\\nTotal 91,210 12,094 28,570 78,290 42,750 62,688 3,15,602\\nLease Liabilities (Gross) 1,491 1,495 2,877 8,820 6,327 15,153 36,163\\nDerivative Liabilities\\nForwards 2,658 3,102 405 71 4 - 6,240\\nOptions 106 20 63 35 - - 224\\nInterest Rate Swaps 3 13 44 97 139 3 299\\nTotal 2,767 3,135 512 203 143 3 6,763\\n* Does not include Trade Payables (Current) amounting to C 1,47,172 crore.\\n# Includes C 1,190 crore as Prepaid Finance Charges and C 127 crore as revaluation gain.\\n@ Does not include interest thereon (For Interest rate refer Note 16.4).', metadata={'_id': 1114, '_collection_name': 'VectorEmbeddings'}),\n",
              " Document(page_content='Reliance Industries: Sr. \\nNo.Name of the Enterprise Country of \\nIncorporation Proportion of \\nOwnership Interest\\n230 Reliance Gas Pipelines Limited India 100.00%\\n231 Reliance Global Energy Services (Singapore) Pte. Limited Singapore 100.00%\\n232 Reliance Global Energy Services Limited United Kingdom 100.00%\\n233 Reliance Global Project Services Pte. Ltd.* Singapore 100.00%\\n234 Reliance Global Project Services UK Limited* United Kingdom 100.00%\\n235 Reliance Hydrogen Electrolysis Limited India 100.00%\\n236 Reliance Hydrogen Fuel Cell Limited India 100.00%\\n237 Reliance Industrial Investments and Holdings Limited^ India 100.00%\\n238 Reliance Industries (Middle East) DMCC* United Arab \\nEmirates100.00%\\n239 Reliance Infratel Limited India 100.00%\\n240 Reliance Innovative Building Solutions Private Limited India 100.00%\\n241 Reliance International Limited United Arab \\nEmirates100.00%\\n242 Reliance Jio Global Resources, LLC* United States of \\nAmerica66.43%\\n243 Reliance Jio Infocomm Limited India 66.43%\\n244 Reliance Jio Infocomm Pte. Ltd.* Singapore 66.43%\\n245 Reliance Jio Infocomm UK Limited* United Kingdom 66.43%\\n246 Reliance Jio Infocomm USA, Inc.* United States of \\nAmerica66.43%\\n247 Reliance Jio Media Limited India 100.00%\\n248 Reliance Lifestyle Products Private Limited India 69.21%\\n249 Reliance Lithium Werks B. V.* Netherlands 85.79%\\n250 Reliance Lithium Werks USA LLC* United States of \\nAmerica85.79%\\n251 Reliance Logistics and Warehouse Holdings Limited India 85.06%\\n252 Reliance Mappedu Multi Modal Logistics Park Limited India 85.06%\\n253 Reliance Marcellus LLC* United States of \\nAmerica100.00%\\n254 Reliance Neu Comm LLC* United States of \\nAmerica100.00%', metadata={'_id': 1139, '_collection_name': 'VectorEmbeddings'})]"
            ]
          },
          "execution_count": 28,
          "metadata": {},
          "output_type": "execute_result"
        }
      ],
      "source": [
        "retrieved_documents"
      ]
    },
    {
      "cell_type": "code",
      "execution_count": null,
      "metadata": {
        "id": "W4gtUvmBX0zD"
      },
      "outputs": [],
      "source": [
        "from langchain.chains import ConversationalRetrievalChain\n",
        "qa = ConversationalRetrievalChain.from_llm(\n",
        "llm,\n",
        "retriever=lotr,\n",
        "memory=memory\n",
        ")"
      ]
    },
    {
      "cell_type": "code",
      "execution_count": null,
      "metadata": {
        "colab": {
          "base_uri": "https://localhost:8080/"
        },
        "id": "mtNSf2_WNowM",
        "outputId": "904d5b1a-15ec-41a1-81c7-5f75275094b8"
      },
      "outputs": [
        {
          "name": "stderr",
          "output_type": "stream",
          "text": [
            "/usr/local/lib/python3.10/dist-packages/langchain_core/_api/deprecation.py:117: LangChainDeprecationWarning: The function `__call__` was deprecated in LangChain 0.1.0 and will be removed in 0.2.0. Use invoke instead.\n",
            "  warn_deprecated(\n"
          ]
        }
      ],
      "source": [
        "question = \"What did Dhirubhai Ambani say about success of Reliance Industries\"\"\"\n",
        "result = qa({\"question\": question})"
      ]
    },
    {
      "cell_type": "code",
      "execution_count": null,
      "metadata": {
        "colab": {
          "base_uri": "https://localhost:8080/",
          "height": 71
        },
        "id": "0g-E8jQua9-F",
        "outputId": "44539770-6f2e-4f31-88ae-65ddd32f5ccc"
      },
      "outputs": [
        {
          "data": {
            "application/vnd.google.colaboratory.intrinsic+json": {
              "type": "string"
            },
            "text/plain": [
              "'Dhirubhai Ambani, the Founder Chairman of Reliance Industries, stated, \"Between my past, the present and the future, there is one common factor: Relationship and Trust. This is the foundation of our growth.\" This quote emphasizes the importance of relationships and trust in the success of Reliance Industries.'"
            ]
          },
          "execution_count": 16,
          "metadata": {},
          "output_type": "execute_result"
        }
      ],
      "source": [
        "result['answer']"
      ]
    },
    {
      "cell_type": "code",
      "execution_count": null,
      "metadata": {
        "id": "-turmNhkbkXL"
      },
      "outputs": [],
      "source": [
        "question = \"Is he the founder of this company??\"\n",
        "result = qa({\"question\": question})"
      ]
    },
    {
      "cell_type": "code",
      "execution_count": null,
      "metadata": {
        "colab": {
          "base_uri": "https://localhost:8080/",
          "height": 36
        },
        "id": "M-6NQ3TzbvVs",
        "outputId": "9053652d-49a1-4d48-fa41-04d46f654e38"
      },
      "outputs": [
        {
          "data": {
            "application/vnd.google.colaboratory.intrinsic+json": {
              "type": "string"
            },
            "text/plain": [
              "'Yes, Dhirubhai Ambani is indeed the founder of Reliance Industries.'"
            ]
          },
          "execution_count": 18,
          "metadata": {},
          "output_type": "execute_result"
        }
      ],
      "source": [
        "result['answer']"
      ]
    },
    {
      "cell_type": "code",
      "execution_count": null,
      "metadata": {
        "id": "kCvVlMKjgtNt"
      },
      "outputs": [],
      "source": [
        "question = \"Which digital platform did Reliance Industries launch in Mumbai??\"\n",
        "result = qa({\"question\": question})"
      ]
    },
    {
      "cell_type": "markdown",
      "metadata": {
        "id": "wcrUgYnbrmY1"
      },
      "source": [
        "# Qdrant"
      ]
    },
    {
      "cell_type": "code",
      "execution_count": null,
      "metadata": {
        "id": "3Nzn46SY_X1o"
      },
      "outputs": [],
      "source": [
        "import cohere\n",
        "\n",
        "from qdrant_client.http.models import Batch\n",
        "\n",
        "cohere_client = cohere.Client(\"xPQlz92wRppOVGZCHNETnpZhtN9o2ZfO2QEVWh22\")\n",
        "\n",
        "from qdrant_client import QdrantClient\n",
        "\n",
        "qdrant_client = QdrantClient(\n",
        "    url=\"https://68c3bd7c-85e8-4ddd-8da6-6d889578e82b.us-east4-0.gcp.cloud.qdrant.io:6333\",\n",
        "    api_key=\"G3knmZ-UwEnAyi27lvmVruwAos2I86KfnLIhu7qdLy0p8iqdGMvg-g\",\n",
        ")"
      ]
    },
    {
      "cell_type": "code",
      "execution_count": null,
      "metadata": {
        "colab": {
          "base_uri": "https://localhost:8080/",
          "height": 391
        },
        "id": "abO5jkcoAFdg",
        "outputId": "e637e1a6-f71a-433e-e4bf-91e9e0db832a"
      },
      "outputs": [
        {
          "ename": "UnexpectedResponse",
          "evalue": "Unexpected Response: 404 (Not Found)\nRaw response content:\nb'404 page not found\\n'",
          "output_type": "error",
          "traceback": [
            "\u001b[0;31m---------------------------------------------------------------------------\u001b[0m",
            "\u001b[0;31mUnexpectedResponse\u001b[0m                        Traceback (most recent call last)",
            "\u001b[0;32m<ipython-input-23-40cb1f206008>\u001b[0m in \u001b[0;36m<cell line: 2>\u001b[0;34m()\u001b[0m\n\u001b[1;32m      1\u001b[0m \u001b[0;32mfrom\u001b[0m \u001b[0mqdrant_client\u001b[0m\u001b[0;34m.\u001b[0m\u001b[0mmodels\u001b[0m \u001b[0;32mimport\u001b[0m \u001b[0mDistance\u001b[0m\u001b[0;34m,\u001b[0m \u001b[0mVectorParams\u001b[0m\u001b[0;34m\u001b[0m\u001b[0;34m\u001b[0m\u001b[0m\n\u001b[0;32m----> 2\u001b[0;31m qdrant_client.create_collection(collection_name=\"VectorEmbeddings\", vectors_config=\n\u001b[0m\u001b[1;32m      3\u001b[0m     VectorParams(\n\u001b[1;32m      4\u001b[0m         \u001b[0msize\u001b[0m\u001b[0;34m=\u001b[0m\u001b[0;36m1024\u001b[0m\u001b[0;34m,\u001b[0m\u001b[0;34m\u001b[0m\u001b[0;34m\u001b[0m\u001b[0m\n\u001b[1;32m      5\u001b[0m         \u001b[0mdistance\u001b[0m\u001b[0;34m=\u001b[0m\u001b[0mDistance\u001b[0m\u001b[0;34m.\u001b[0m\u001b[0mCOSINE\u001b[0m\u001b[0;34m,\u001b[0m\u001b[0;34m\u001b[0m\u001b[0;34m\u001b[0m\u001b[0m\n",
            "\u001b[0;32m/usr/local/lib/python3.10/dist-packages/qdrant_client/qdrant_client.py\u001b[0m in \u001b[0;36mcreate_collection\u001b[0;34m(self, collection_name, vectors_config, sparse_vectors_config, shard_number, sharding_method, replication_factor, write_consistency_factor, on_disk_payload, hnsw_config, optimizers_config, wal_config, quantization_config, init_from, timeout, **kwargs)\u001b[0m\n\u001b[1;32m   1676\u001b[0m         \u001b[0;32massert\u001b[0m \u001b[0mlen\u001b[0m\u001b[0;34m(\u001b[0m\u001b[0mkwargs\u001b[0m\u001b[0;34m)\u001b[0m \u001b[0;34m==\u001b[0m \u001b[0;36m0\u001b[0m\u001b[0;34m,\u001b[0m \u001b[0;34mf\"Unknown arguments: {list(kwargs.keys())}\"\u001b[0m\u001b[0;34m\u001b[0m\u001b[0;34m\u001b[0m\u001b[0m\n\u001b[1;32m   1677\u001b[0m \u001b[0;34m\u001b[0m\u001b[0m\n\u001b[0;32m-> 1678\u001b[0;31m         return self._client.create_collection(\n\u001b[0m\u001b[1;32m   1679\u001b[0m             \u001b[0mcollection_name\u001b[0m\u001b[0;34m=\u001b[0m\u001b[0mcollection_name\u001b[0m\u001b[0;34m,\u001b[0m\u001b[0;34m\u001b[0m\u001b[0;34m\u001b[0m\u001b[0m\n\u001b[1;32m   1680\u001b[0m             \u001b[0mvectors_config\u001b[0m\u001b[0;34m=\u001b[0m\u001b[0mvectors_config\u001b[0m\u001b[0;34m,\u001b[0m\u001b[0;34m\u001b[0m\u001b[0;34m\u001b[0m\u001b[0m\n",
            "\u001b[0;32m/usr/local/lib/python3.10/dist-packages/qdrant_client/qdrant_remote.py\u001b[0m in \u001b[0;36mcreate_collection\u001b[0;34m(self, collection_name, vectors_config, shard_number, replication_factor, write_consistency_factor, on_disk_payload, hnsw_config, optimizers_config, wal_config, quantization_config, init_from, timeout, sparse_vectors_config, sharding_method, **kwargs)\u001b[0m\n\u001b[1;32m   2231\u001b[0m         )\n\u001b[1;32m   2232\u001b[0m \u001b[0;34m\u001b[0m\u001b[0m\n\u001b[0;32m-> 2233\u001b[0;31m         result: Optional[bool] = self.http.collections_api.create_collection(\n\u001b[0m\u001b[1;32m   2234\u001b[0m             \u001b[0mcollection_name\u001b[0m\u001b[0;34m=\u001b[0m\u001b[0mcollection_name\u001b[0m\u001b[0;34m,\u001b[0m\u001b[0;34m\u001b[0m\u001b[0;34m\u001b[0m\u001b[0m\n\u001b[1;32m   2235\u001b[0m             \u001b[0mcreate_collection\u001b[0m\u001b[0;34m=\u001b[0m\u001b[0mcreate_collection_request\u001b[0m\u001b[0;34m,\u001b[0m\u001b[0;34m\u001b[0m\u001b[0;34m\u001b[0m\u001b[0m\n",
            "\u001b[0;32m/usr/local/lib/python3.10/dist-packages/qdrant_client/http/api/collections_api.py\u001b[0m in \u001b[0;36mcreate_collection\u001b[0;34m(self, collection_name, timeout, create_collection)\u001b[0m\n\u001b[1;32m   1178\u001b[0m         \u001b[0mCreate\u001b[0m \u001b[0mnew\u001b[0m \u001b[0mcollection\u001b[0m \u001b[0;32mwith\u001b[0m \u001b[0mgiven\u001b[0m \u001b[0mparameters\u001b[0m\u001b[0;34m\u001b[0m\u001b[0;34m\u001b[0m\u001b[0m\n\u001b[1;32m   1179\u001b[0m         \"\"\"\n\u001b[0;32m-> 1180\u001b[0;31m         return self._build_for_create_collection(\n\u001b[0m\u001b[1;32m   1181\u001b[0m             \u001b[0mcollection_name\u001b[0m\u001b[0;34m=\u001b[0m\u001b[0mcollection_name\u001b[0m\u001b[0;34m,\u001b[0m\u001b[0;34m\u001b[0m\u001b[0;34m\u001b[0m\u001b[0m\n\u001b[1;32m   1182\u001b[0m             \u001b[0mtimeout\u001b[0m\u001b[0;34m=\u001b[0m\u001b[0mtimeout\u001b[0m\u001b[0;34m,\u001b[0m\u001b[0;34m\u001b[0m\u001b[0;34m\u001b[0m\u001b[0m\n",
            "\u001b[0;32m/usr/local/lib/python3.10/dist-packages/qdrant_client/http/api/collections_api.py\u001b[0m in \u001b[0;36m_build_for_create_collection\u001b[0;34m(self, collection_name, timeout, create_collection)\u001b[0m\n\u001b[1;32m    114\u001b[0m         \u001b[0;32mif\u001b[0m \u001b[0;34m\"Content-Type\"\u001b[0m \u001b[0;32mnot\u001b[0m \u001b[0;32min\u001b[0m \u001b[0mheaders\u001b[0m\u001b[0;34m:\u001b[0m\u001b[0;34m\u001b[0m\u001b[0;34m\u001b[0m\u001b[0m\n\u001b[1;32m    115\u001b[0m             \u001b[0mheaders\u001b[0m\u001b[0;34m[\u001b[0m\u001b[0;34m\"Content-Type\"\u001b[0m\u001b[0;34m]\u001b[0m \u001b[0;34m=\u001b[0m \u001b[0;34m\"application/json\"\u001b[0m\u001b[0;34m\u001b[0m\u001b[0;34m\u001b[0m\u001b[0m\n\u001b[0;32m--> 116\u001b[0;31m         return self.api_client.request(\n\u001b[0m\u001b[1;32m    117\u001b[0m             \u001b[0mtype_\u001b[0m\u001b[0;34m=\u001b[0m\u001b[0mm\u001b[0m\u001b[0;34m.\u001b[0m\u001b[0mInlineResponse200\u001b[0m\u001b[0;34m,\u001b[0m\u001b[0;34m\u001b[0m\u001b[0;34m\u001b[0m\u001b[0m\n\u001b[1;32m    118\u001b[0m             \u001b[0mmethod\u001b[0m\u001b[0;34m=\u001b[0m\u001b[0;34m\"PUT\"\u001b[0m\u001b[0;34m,\u001b[0m\u001b[0;34m\u001b[0m\u001b[0;34m\u001b[0m\u001b[0m\n",
            "\u001b[0;32m/usr/local/lib/python3.10/dist-packages/qdrant_client/http/api_client.py\u001b[0m in \u001b[0;36mrequest\u001b[0;34m(self, type_, method, url, path_params, **kwargs)\u001b[0m\n\u001b[1;32m     72\u001b[0m         \u001b[0murl\u001b[0m \u001b[0;34m=\u001b[0m \u001b[0;34m(\u001b[0m\u001b[0mself\u001b[0m\u001b[0;34m.\u001b[0m\u001b[0mhost\u001b[0m \u001b[0;32mor\u001b[0m \u001b[0;34m\"\"\u001b[0m\u001b[0;34m)\u001b[0m \u001b[0;34m+\u001b[0m \u001b[0murl\u001b[0m\u001b[0;34m.\u001b[0m\u001b[0mformat\u001b[0m\u001b[0;34m(\u001b[0m\u001b[0;34m**\u001b[0m\u001b[0mpath_params\u001b[0m\u001b[0;34m)\u001b[0m\u001b[0;34m\u001b[0m\u001b[0;34m\u001b[0m\u001b[0m\n\u001b[1;32m     73\u001b[0m         \u001b[0mrequest\u001b[0m \u001b[0;34m=\u001b[0m \u001b[0mself\u001b[0m\u001b[0;34m.\u001b[0m\u001b[0m_client\u001b[0m\u001b[0;34m.\u001b[0m\u001b[0mbuild_request\u001b[0m\u001b[0;34m(\u001b[0m\u001b[0mmethod\u001b[0m\u001b[0;34m,\u001b[0m \u001b[0murl\u001b[0m\u001b[0;34m,\u001b[0m \u001b[0;34m**\u001b[0m\u001b[0mkwargs\u001b[0m\u001b[0;34m)\u001b[0m\u001b[0;34m\u001b[0m\u001b[0;34m\u001b[0m\u001b[0m\n\u001b[0;32m---> 74\u001b[0;31m         \u001b[0;32mreturn\u001b[0m \u001b[0mself\u001b[0m\u001b[0;34m.\u001b[0m\u001b[0msend\u001b[0m\u001b[0;34m(\u001b[0m\u001b[0mrequest\u001b[0m\u001b[0;34m,\u001b[0m \u001b[0mtype_\u001b[0m\u001b[0;34m)\u001b[0m\u001b[0;34m\u001b[0m\u001b[0;34m\u001b[0m\u001b[0m\n\u001b[0m\u001b[1;32m     75\u001b[0m \u001b[0;34m\u001b[0m\u001b[0m\n\u001b[1;32m     76\u001b[0m     \u001b[0;34m@\u001b[0m\u001b[0moverload\u001b[0m\u001b[0;34m\u001b[0m\u001b[0;34m\u001b[0m\u001b[0m\n",
            "\u001b[0;32m/usr/local/lib/python3.10/dist-packages/qdrant_client/http/api_client.py\u001b[0m in \u001b[0;36msend\u001b[0;34m(self, request, type_)\u001b[0m\n\u001b[1;32m     95\u001b[0m             \u001b[0;32mexcept\u001b[0m \u001b[0mValidationError\u001b[0m \u001b[0;32mas\u001b[0m \u001b[0me\u001b[0m\u001b[0;34m:\u001b[0m\u001b[0;34m\u001b[0m\u001b[0;34m\u001b[0m\u001b[0m\n\u001b[1;32m     96\u001b[0m                 \u001b[0;32mraise\u001b[0m \u001b[0mResponseHandlingException\u001b[0m\u001b[0;34m(\u001b[0m\u001b[0me\u001b[0m\u001b[0;34m)\u001b[0m\u001b[0;34m\u001b[0m\u001b[0;34m\u001b[0m\u001b[0m\n\u001b[0;32m---> 97\u001b[0;31m         \u001b[0;32mraise\u001b[0m \u001b[0mUnexpectedResponse\u001b[0m\u001b[0;34m.\u001b[0m\u001b[0mfor_response\u001b[0m\u001b[0;34m(\u001b[0m\u001b[0mresponse\u001b[0m\u001b[0;34m)\u001b[0m\u001b[0;34m\u001b[0m\u001b[0;34m\u001b[0m\u001b[0m\n\u001b[0m\u001b[1;32m     98\u001b[0m \u001b[0;34m\u001b[0m\u001b[0m\n\u001b[1;32m     99\u001b[0m     \u001b[0;32mdef\u001b[0m \u001b[0msend_inner\u001b[0m\u001b[0;34m(\u001b[0m\u001b[0mself\u001b[0m\u001b[0;34m,\u001b[0m \u001b[0mrequest\u001b[0m\u001b[0;34m:\u001b[0m \u001b[0mRequest\u001b[0m\u001b[0;34m)\u001b[0m \u001b[0;34m->\u001b[0m \u001b[0mResponse\u001b[0m\u001b[0;34m:\u001b[0m\u001b[0;34m\u001b[0m\u001b[0;34m\u001b[0m\u001b[0m\n",
            "\u001b[0;31mUnexpectedResponse\u001b[0m: Unexpected Response: 404 (Not Found)\nRaw response content:\nb'404 page not found\\n'"
          ]
        }
      ],
      "source": [
        "from qdrant_client.models import Distance, VectorParams\n",
        "qdrant_client.create_collection(collection_name=\"VectorEmbeddings\", vectors_config=\n",
        "    VectorParams(\n",
        "        size=1024,\n",
        "        distance=Distance.COSINE,\n",
        "    )\n",
        ")"
      ]
    },
    {
      "cell_type": "code",
      "execution_count": null,
      "metadata": {
        "colab": {
          "base_uri": "https://localhost:8080/"
        },
        "id": "oF4uo0tuu9h7",
        "outputId": "f6247408-775d-4319-a662-cfaed48eb06b"
      },
      "outputs": [
        {
          "data": {
            "text/plain": [
              "True"
            ]
          },
          "execution_count": 75,
          "metadata": {},
          "output_type": "execute_result"
        }
      ],
      "source": [
        "from qdrant_client.models import Distance, VectorParams\n",
        "qdrant_client.recreate_collection(collection_name=\"TestCollection\", vectors_config=\n",
        "    VectorParams(\n",
        "        size=1024,\n",
        "        distance=Distance.COSINE,\n",
        "    ),\n",
        "    sparse_vectors_config={\n",
        "        \"text\": models.SparseVectorParams(\n",
        "            index=models.SparseIndexParams(\n",
        "                on_disk=False,\n",
        "            )\n",
        "        )\n",
        "    },\n",
        ")"
      ]
    },
    {
      "cell_type": "code",
      "execution_count": null,
      "metadata": {
        "colab": {
          "base_uri": "https://localhost:8080/"
        },
        "id": "crMZVkrCU5-o",
        "outputId": "8fab64ef-aa34-4e57-bb7e-673b6c5c2697"
      },
      "outputs": [
        {
          "data": {
            "text/plain": [
              "UpdateResult(operation_id=1, status=<UpdateStatus.COMPLETED: 'completed'>)"
            ]
          },
          "execution_count": 68,
          "metadata": {},
          "output_type": "execute_result"
        }
      ],
      "source": [
        "from qdrant_client import QdrantClient\n",
        "from qdrant_client.http import models\n",
        "import numpy as np\n",
        "\n",
        "embeddings = cohere_client.embed(\n",
        "    model=\"embed-english-v3.0\",  # New Embed v3 model\n",
        "    input_type=\"search_document\",  # Input type for documents\n",
        "    texts=datalist,\n",
        "    truncate='None'\n",
        ").embeddings\n",
        "\n",
        "# Prepare your points with IDs, vectors, and metadata as payload\n",
        "points = points=[\n",
        "    models.PointStruct(\n",
        "        id=i,\n",
        "        vector=embeddings[i],  # Your vector data here\n",
        "        payload=data_metadata[i]  # Your metadata here\n",
        "    ) for i in range(len(datalist))\n",
        "]\n",
        "\n",
        "# Perform the upsert operation\n",
        "qdrant_client.upsert(\n",
        "    collection_name=\"TestCollection\",\n",
        "    wait=True,  # Wait for the operation to complete\n",
        "    points=points\n",
        ")"
      ]
    },
    {
      "cell_type": "code",
      "execution_count": null,
      "metadata": {
        "colab": {
          "base_uri": "https://localhost:8080/"
        },
        "id": "G3uq8sXdXTTs",
        "outputId": "10089809-92fb-4324-92e0-9c2e02283f38"
      },
      "outputs": [
        {
          "data": {
            "text/plain": [
              "[Document(page_content='Asian Paints is India’s leading paint and de ´cor company\\nwith a group turnover of D 345 billion. Asian Paints along with its \\nsubsidiaries operates in 15 countries and has 27 paint manufacturing facilities in the world serving consumers in 60+ countries. Besides Asian Paints, the group operates across the world through its various brands viz. Asian Paints Berger, Apco Coatings, SCIB Paints, Taubmans, Asian Paints Causeway and Kadisco Asian Paints. Asian Paints also oﬀers a wide range of Home Décor products and is an emerging strong player in the Home Décor space in India.Asian Paints Limited\\n6A, Shantinagar, Santacruz (East),Mumbai - 400 055, India. CIN: L24220MH1945PLC004598.investor.relations@asianpaints.com\\nwww.asianpaints.com', metadata={'source': '/content/Asian Paints IR22-23.pdf', 'page': 244})]"
            ]
          },
          "execution_count": 32,
          "metadata": {},
          "output_type": "execute_result"
        }
      ],
      "source": [
        "pages[-1:]"
      ]
    },
    {
      "cell_type": "code",
      "execution_count": null,
      "metadata": {
        "colab": {
          "base_uri": "https://localhost:8080/"
        },
        "id": "2KKhk_E6BF4C",
        "outputId": "1978d29b-00bb-419a-ef21-16214c6c0d0b"
      },
      "outputs": [
        {
          "data": {
            "text/plain": [
              "[ScoredPoint(id=1154, version=1, score=0.7302488, payload={'page': 244, 'source': '/content/Asian Paints IR22-23.pdf', 'uid': 'ASIANPAINTS-AR-2022-2023-1154'}, vector=None, shard_key=None),\n",
              " ScoredPoint(id=84, version=1, score=0.6782207, payload={'page': 34, 'source': '/content/Asian Paints IR22-23.pdf', 'uid': 'ASIANPAINTS-AR-2022-2023-84'}, vector=None, shard_key=None),\n",
              " ScoredPoint(id=201, version=1, score=0.6638369, payload={'page': 67, 'source': '/content/Asian Paints IR22-23.pdf', 'uid': 'ASIANPAINTS-AR-2022-2023-201'}, vector=None, shard_key=None),\n",
              " ScoredPoint(id=283, version=1, score=0.65380675, payload={'page': 81, 'source': '/content/Asian Paints IR22-23.pdf', 'uid': 'ASIANPAINTS-AR-2022-2023-283'}, vector=None, shard_key=None),\n",
              " ScoredPoint(id=17, version=1, score=0.6529378, payload={'page': 9, 'source': '/content/Asian Paints IR22-23.pdf', 'uid': 'ASIANPAINTS-AR-2022-2023-17'}, vector=None, shard_key=None),\n",
              " ScoredPoint(id=11, version=1, score=0.64885545, payload={'page': 6, 'source': '/content/Asian Paints IR22-23.pdf', 'uid': 'ASIANPAINTS-AR-2022-2023-11'}, vector=None, shard_key=None),\n",
              " ScoredPoint(id=92, version=1, score=0.63770884, payload={'page': 37, 'source': '/content/Asian Paints IR22-23.pdf', 'uid': 'ASIANPAINTS-AR-2022-2023-92'}, vector=None, shard_key=None),\n",
              " ScoredPoint(id=795, version=1, score=0.6261778, payload={'page': 177, 'source': '/content/Asian Paints IR22-23.pdf', 'uid': 'ASIANPAINTS-AR-2022-2023-795'}, vector=None, shard_key=None),\n",
              " ScoredPoint(id=72, version=1, score=0.620533, payload={'page': 30, 'source': '/content/Asian Paints IR22-23.pdf', 'uid': 'ASIANPAINTS-AR-2022-2023-72'}, vector=None, shard_key=None),\n",
              " ScoredPoint(id=206, version=1, score=0.61895126, payload={'page': 68, 'source': '/content/Asian Paints IR22-23.pdf', 'uid': 'ASIANPAINTS-AR-2022-2023-206'}, vector=None, shard_key=None)]"
            ]
          },
          "execution_count": 72,
          "metadata": {},
          "output_type": "execute_result"
        }
      ],
      "source": [
        "qdrant_client.search(\n",
        "    collection_name=\"TestCollection\",\n",
        "    query_vector=cohere_client.embed(\n",
        "        model=\"embed-english-v3.0\",  # New Embed v3 model\n",
        "        input_type=\"search_query\",  # Input type for search queries\n",
        "        texts=[\"How many Manufacturing facilities does asian paints maintain?\"],\n",
        "    ).embeddings[0],\n",
        ")"
      ]
    },
    {
      "cell_type": "code",
      "execution_count": null,
      "metadata": {
        "colab": {
          "base_uri": "https://localhost:8080/"
        },
        "id": "r7_tDqvVDbCH",
        "outputId": "034abb2d-0e43-4b51-b568-5f95a447d74c"
      },
      "outputs": [
        {
          "data": {
            "text/plain": [
              "610"
            ]
          },
          "execution_count": 26,
          "metadata": {},
          "output_type": "execute_result"
        }
      ],
      "source": [
        "len(datalist)"
      ]
    }
  ],
  "metadata": {
    "colab": {
      "provenance": []
    },
    "kernelspec": {
      "display_name": "Python 3",
      "name": "python3"
    },
    "language_info": {
      "name": "python"
    }
  },
  "nbformat": 4,
  "nbformat_minor": 0
}
