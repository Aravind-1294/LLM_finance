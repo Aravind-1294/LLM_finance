{
  "nbformat": 4,
  "nbformat_minor": 0,
  "metadata": {
    "colab": {
      "provenance": [],
      "gpuType": "T4"
    },
    "kernelspec": {
      "name": "python3",
      "display_name": "Python 3"
    },
    "language_info": {
      "name": "python"
    },
    "accelerator": "GPU"
  },
  "cells": [
    {
      "cell_type": "code",
      "source": [
        "!pip install PyMuPDF"
      ],
      "metadata": {
        "colab": {
          "base_uri": "https://localhost:8080/"
        },
        "id": "H2xMa0fvq_8X",
        "outputId": "99f6729b-d947-41d5-e11f-db732f788bad"
      },
      "execution_count": null,
      "outputs": [
        {
          "output_type": "stream",
          "name": "stdout",
          "text": [
            "Collecting PyMuPDF\n",
            "  Downloading PyMuPDF-1.23.8-cp310-none-manylinux2014_x86_64.whl (4.4 MB)\n",
            "\u001b[2K     \u001b[90m━━━━━━━━━━━━━━━━━━━━━━━━━━━━━━━━━━━━━━━━\u001b[0m \u001b[32m4.4/4.4 MB\u001b[0m \u001b[31m15.2 MB/s\u001b[0m eta \u001b[36m0:00:00\u001b[0m\n",
            "\u001b[?25hCollecting PyMuPDFb==1.23.7 (from PyMuPDF)\n",
            "  Downloading PyMuPDFb-1.23.7-py3-none-manylinux2014_x86_64.manylinux_2_17_x86_64.whl (30.6 MB)\n",
            "\u001b[2K     \u001b[90m━━━━━━━━━━━━━━━━━━━━━━━━━━━━━━━━━━━━━━━━\u001b[0m \u001b[32m30.6/30.6 MB\u001b[0m \u001b[31m15.3 MB/s\u001b[0m eta \u001b[36m0:00:00\u001b[0m\n",
            "\u001b[?25hInstalling collected packages: PyMuPDFb, PyMuPDF\n",
            "Successfully installed PyMuPDF-1.23.8 PyMuPDFb-1.23.7\n"
          ]
        }
      ]
    },
    {
      "cell_type": "code",
      "source": [
        "!pip install chromadb"
      ],
      "metadata": {
        "colab": {
          "base_uri": "https://localhost:8080/",
          "height": 1000
        },
        "id": "n0oV_vltEEQo",
        "outputId": "89459e4d-d5d6-49a7-9e6a-e95a5b16e330"
      },
      "execution_count": null,
      "outputs": [
        {
          "output_type": "stream",
          "name": "stdout",
          "text": [
            "Collecting chromadb\n",
            "  Downloading chromadb-0.4.20-py3-none-any.whl (507 kB)\n",
            "\u001b[2K     \u001b[90m━━━━━━━━━━━━━━━━━━━━━━━━━━━━━━━━━━━━━━━━\u001b[0m \u001b[32m507.7/507.7 kB\u001b[0m \u001b[31m3.1 MB/s\u001b[0m eta \u001b[36m0:00:00\u001b[0m\n",
            "\u001b[?25hRequirement already satisfied: requests>=2.28 in /usr/local/lib/python3.10/dist-packages (from chromadb) (2.31.0)\n",
            "Requirement already satisfied: pydantic>=1.9 in /usr/local/lib/python3.10/dist-packages (from chromadb) (1.10.13)\n",
            "Collecting chroma-hnswlib==0.7.3 (from chromadb)\n",
            "  Downloading chroma_hnswlib-0.7.3-cp310-cp310-manylinux_2_17_x86_64.manylinux2014_x86_64.whl (2.4 MB)\n",
            "\u001b[2K     \u001b[90m━━━━━━━━━━━━━━━━━━━━━━━━━━━━━━━━━━━━━━━━\u001b[0m \u001b[32m2.4/2.4 MB\u001b[0m \u001b[31m23.4 MB/s\u001b[0m eta \u001b[36m0:00:00\u001b[0m\n",
            "\u001b[?25hCollecting fastapi>=0.95.2 (from chromadb)\n",
            "  Downloading fastapi-0.105.0-py3-none-any.whl (93 kB)\n",
            "\u001b[2K     \u001b[90m━━━━━━━━━━━━━━━━━━━━━━━━━━━━━━━━━━━━━━━━\u001b[0m \u001b[32m93.1/93.1 kB\u001b[0m \u001b[31m13.3 MB/s\u001b[0m eta \u001b[36m0:00:00\u001b[0m\n",
            "\u001b[?25hCollecting uvicorn[standard]>=0.18.3 (from chromadb)\n",
            "  Downloading uvicorn-0.24.0.post1-py3-none-any.whl (59 kB)\n",
            "\u001b[2K     \u001b[90m━━━━━━━━━━━━━━━━━━━━━━━━━━━━━━━━━━━━━━━━\u001b[0m \u001b[32m59.7/59.7 kB\u001b[0m \u001b[31m6.5 MB/s\u001b[0m eta \u001b[36m0:00:00\u001b[0m\n",
            "\u001b[?25hRequirement already satisfied: numpy>=1.22.5 in /usr/local/lib/python3.10/dist-packages (from chromadb) (1.23.5)\n",
            "Collecting posthog>=2.4.0 (from chromadb)\n",
            "  Downloading posthog-3.1.0-py2.py3-none-any.whl (37 kB)\n",
            "Requirement already satisfied: typing-extensions>=4.5.0 in /usr/local/lib/python3.10/dist-packages (from chromadb) (4.9.0)\n",
            "Collecting pulsar-client>=3.1.0 (from chromadb)\n",
            "  Downloading pulsar_client-3.3.0-cp310-cp310-manylinux_2_17_x86_64.manylinux2014_x86_64.whl (5.4 MB)\n",
            "\u001b[2K     \u001b[90m━━━━━━━━━━━━━━━━━━━━━━━━━━━━━━━━━━━━━━━━\u001b[0m \u001b[32m5.4/5.4 MB\u001b[0m \u001b[31m50.0 MB/s\u001b[0m eta \u001b[36m0:00:00\u001b[0m\n",
            "\u001b[?25hCollecting onnxruntime>=1.14.1 (from chromadb)\n",
            "  Downloading onnxruntime-1.16.3-cp310-cp310-manylinux_2_17_x86_64.manylinux2014_x86_64.whl (6.4 MB)\n",
            "\u001b[2K     \u001b[90m━━━━━━━━━━━━━━━━━━━━━━━━━━━━━━━━━━━━━━━━\u001b[0m \u001b[32m6.4/6.4 MB\u001b[0m \u001b[31m55.7 MB/s\u001b[0m eta \u001b[36m0:00:00\u001b[0m\n",
            "\u001b[?25hCollecting opentelemetry-api>=1.2.0 (from chromadb)\n",
            "  Downloading opentelemetry_api-1.22.0-py3-none-any.whl (57 kB)\n",
            "\u001b[2K     \u001b[90m━━━━━━━━━━━━━━━━━━━━━━━━━━━━━━━━━━━━━━━━\u001b[0m \u001b[32m57.9/57.9 kB\u001b[0m \u001b[31m8.6 MB/s\u001b[0m eta \u001b[36m0:00:00\u001b[0m\n",
            "\u001b[?25hCollecting opentelemetry-exporter-otlp-proto-grpc>=1.2.0 (from chromadb)\n",
            "  Downloading opentelemetry_exporter_otlp_proto_grpc-1.22.0-py3-none-any.whl (18 kB)\n",
            "Collecting opentelemetry-instrumentation-fastapi>=0.41b0 (from chromadb)\n",
            "  Downloading opentelemetry_instrumentation_fastapi-0.43b0-py3-none-any.whl (11 kB)\n",
            "Collecting opentelemetry-sdk>=1.2.0 (from chromadb)\n",
            "  Downloading opentelemetry_sdk-1.22.0-py3-none-any.whl (105 kB)\n",
            "\u001b[2K     \u001b[90m━━━━━━━━━━━━━━━━━━━━━━━━━━━━━━━━━━━━━━━━\u001b[0m \u001b[32m105.6/105.6 kB\u001b[0m \u001b[31m15.6 MB/s\u001b[0m eta \u001b[36m0:00:00\u001b[0m\n",
            "\u001b[?25hRequirement already satisfied: tokenizers>=0.13.2 in /usr/local/lib/python3.10/dist-packages (from chromadb) (0.15.0)\n",
            "Collecting pypika>=0.48.9 (from chromadb)\n",
            "  Downloading PyPika-0.48.9.tar.gz (67 kB)\n",
            "\u001b[2K     \u001b[90m━━━━━━━━━━━━━━━━━━━━━━━━━━━━━━━━━━━━━━━━\u001b[0m \u001b[32m67.3/67.3 kB\u001b[0m \u001b[31m9.9 MB/s\u001b[0m eta \u001b[36m0:00:00\u001b[0m\n",
            "\u001b[?25h  Installing build dependencies ... \u001b[?25l\u001b[?25hdone\n",
            "  Getting requirements to build wheel ... \u001b[?25l\u001b[?25hdone\n",
            "  Preparing metadata (pyproject.toml) ... \u001b[?25l\u001b[?25hdone\n",
            "Requirement already satisfied: tqdm>=4.65.0 in /usr/local/lib/python3.10/dist-packages (from chromadb) (4.66.1)\n",
            "Collecting overrides>=7.3.1 (from chromadb)\n",
            "  Downloading overrides-7.4.0-py3-none-any.whl (17 kB)\n",
            "Requirement already satisfied: importlib-resources in /usr/local/lib/python3.10/dist-packages (from chromadb) (6.1.1)\n",
            "Requirement already satisfied: grpcio>=1.58.0 in /usr/local/lib/python3.10/dist-packages (from chromadb) (1.60.0)\n",
            "Collecting bcrypt>=4.0.1 (from chromadb)\n",
            "  Downloading bcrypt-4.1.2-cp39-abi3-manylinux_2_28_x86_64.whl (698 kB)\n",
            "\u001b[2K     \u001b[90m━━━━━━━━━━━━━━━━━━━━━━━━━━━━━━━━━━━━━━━━\u001b[0m \u001b[32m698.9/698.9 kB\u001b[0m \u001b[31m53.5 MB/s\u001b[0m eta \u001b[36m0:00:00\u001b[0m\n",
            "\u001b[?25hRequirement already satisfied: typer>=0.9.0 in /usr/local/lib/python3.10/dist-packages (from chromadb) (0.9.0)\n",
            "Collecting kubernetes>=28.1.0 (from chromadb)\n",
            "  Downloading kubernetes-28.1.0-py2.py3-none-any.whl (1.6 MB)\n",
            "\u001b[2K     \u001b[90m━━━━━━━━━━━━━━━━━━━━━━━━━━━━━━━━━━━━━━━━\u001b[0m \u001b[32m1.6/1.6 MB\u001b[0m \u001b[31m87.3 MB/s\u001b[0m eta \u001b[36m0:00:00\u001b[0m\n",
            "\u001b[?25hRequirement already satisfied: tenacity>=8.2.3 in /usr/local/lib/python3.10/dist-packages (from chromadb) (8.2.3)\n",
            "Requirement already satisfied: PyYAML>=6.0.0 in /usr/local/lib/python3.10/dist-packages (from chromadb) (6.0.1)\n",
            "Collecting mmh3>=4.0.1 (from chromadb)\n",
            "  Downloading mmh3-4.0.1-cp310-cp310-manylinux_2_5_x86_64.manylinux1_x86_64.manylinux_2_17_x86_64.manylinux2014_x86_64.whl (72 kB)\n",
            "\u001b[2K     \u001b[90m━━━━━━━━━━━━━━━━━━━━━━━━━━━━━━━━━━━━━━━━\u001b[0m \u001b[32m72.6/72.6 kB\u001b[0m \u001b[31m11.7 MB/s\u001b[0m eta \u001b[36m0:00:00\u001b[0m\n",
            "\u001b[?25hRequirement already satisfied: anyio<4.0.0,>=3.7.1 in /usr/local/lib/python3.10/dist-packages (from fastapi>=0.95.2->chromadb) (3.7.1)\n",
            "Collecting starlette<0.28.0,>=0.27.0 (from fastapi>=0.95.2->chromadb)\n",
            "  Downloading starlette-0.27.0-py3-none-any.whl (66 kB)\n",
            "\u001b[2K     \u001b[90m━━━━━━━━━━━━━━━━━━━━━━━━━━━━━━━━━━━━━━━━\u001b[0m \u001b[32m67.0/67.0 kB\u001b[0m \u001b[31m10.3 MB/s\u001b[0m eta \u001b[36m0:00:00\u001b[0m\n",
            "\u001b[?25hRequirement already satisfied: certifi>=14.05.14 in /usr/local/lib/python3.10/dist-packages (from kubernetes>=28.1.0->chromadb) (2023.11.17)\n",
            "Requirement already satisfied: six>=1.9.0 in /usr/local/lib/python3.10/dist-packages (from kubernetes>=28.1.0->chromadb) (1.16.0)\n",
            "Requirement already satisfied: python-dateutil>=2.5.3 in /usr/local/lib/python3.10/dist-packages (from kubernetes>=28.1.0->chromadb) (2.8.2)\n",
            "Requirement already satisfied: google-auth>=1.0.1 in /usr/local/lib/python3.10/dist-packages (from kubernetes>=28.1.0->chromadb) (2.17.3)\n",
            "Requirement already satisfied: websocket-client!=0.40.0,!=0.41.*,!=0.42.*,>=0.32.0 in /usr/local/lib/python3.10/dist-packages (from kubernetes>=28.1.0->chromadb) (1.7.0)\n",
            "Requirement already satisfied: requests-oauthlib in /usr/local/lib/python3.10/dist-packages (from kubernetes>=28.1.0->chromadb) (1.3.1)\n",
            "Requirement already satisfied: oauthlib>=3.2.2 in /usr/local/lib/python3.10/dist-packages (from kubernetes>=28.1.0->chromadb) (3.2.2)\n",
            "Collecting urllib3<2.0,>=1.24.2 (from kubernetes>=28.1.0->chromadb)\n",
            "  Downloading urllib3-1.26.18-py2.py3-none-any.whl (143 kB)\n",
            "\u001b[2K     \u001b[90m━━━━━━━━━━━━━━━━━━━━━━━━━━━━━━━━━━━━━━━━\u001b[0m \u001b[32m143.8/143.8 kB\u001b[0m \u001b[31m22.2 MB/s\u001b[0m eta \u001b[36m0:00:00\u001b[0m\n",
            "\u001b[?25hCollecting coloredlogs (from onnxruntime>=1.14.1->chromadb)\n",
            "  Downloading coloredlogs-15.0.1-py2.py3-none-any.whl (46 kB)\n",
            "\u001b[2K     \u001b[90m━━━━━━━━━━━━━━━━━━━━━━━━━━━━━━━━━━━━━━━━\u001b[0m \u001b[32m46.0/46.0 kB\u001b[0m \u001b[31m7.2 MB/s\u001b[0m eta \u001b[36m0:00:00\u001b[0m\n",
            "\u001b[?25hRequirement already satisfied: flatbuffers in /usr/local/lib/python3.10/dist-packages (from onnxruntime>=1.14.1->chromadb) (23.5.26)\n",
            "Requirement already satisfied: packaging in /usr/local/lib/python3.10/dist-packages (from onnxruntime>=1.14.1->chromadb) (23.2)\n",
            "Requirement already satisfied: protobuf in /usr/local/lib/python3.10/dist-packages (from onnxruntime>=1.14.1->chromadb) (3.20.3)\n",
            "Requirement already satisfied: sympy in /usr/local/lib/python3.10/dist-packages (from onnxruntime>=1.14.1->chromadb) (1.12)\n",
            "Collecting deprecated>=1.2.6 (from opentelemetry-api>=1.2.0->chromadb)\n",
            "  Downloading Deprecated-1.2.14-py2.py3-none-any.whl (9.6 kB)\n",
            "Requirement already satisfied: importlib-metadata<7.0,>=6.0 in /usr/local/lib/python3.10/dist-packages (from opentelemetry-api>=1.2.0->chromadb) (6.11.0)\n",
            "Requirement already satisfied: backoff<3.0.0,>=1.10.0 in /usr/local/lib/python3.10/dist-packages (from opentelemetry-exporter-otlp-proto-grpc>=1.2.0->chromadb) (2.2.1)\n",
            "Requirement already satisfied: googleapis-common-protos~=1.52 in /usr/local/lib/python3.10/dist-packages (from opentelemetry-exporter-otlp-proto-grpc>=1.2.0->chromadb) (1.62.0)\n",
            "Collecting opentelemetry-exporter-otlp-proto-common==1.22.0 (from opentelemetry-exporter-otlp-proto-grpc>=1.2.0->chromadb)\n",
            "  Downloading opentelemetry_exporter_otlp_proto_common-1.22.0-py3-none-any.whl (17 kB)\n",
            "Collecting opentelemetry-proto==1.22.0 (from opentelemetry-exporter-otlp-proto-grpc>=1.2.0->chromadb)\n",
            "  Downloading opentelemetry_proto-1.22.0-py3-none-any.whl (50 kB)\n",
            "\u001b[2K     \u001b[90m━━━━━━━━━━━━━━━━━━━━━━━━━━━━━━━━━━━━━━━━\u001b[0m \u001b[32m50.8/50.8 kB\u001b[0m \u001b[31m7.5 MB/s\u001b[0m eta \u001b[36m0:00:00\u001b[0m\n",
            "\u001b[?25hCollecting opentelemetry-instrumentation-asgi==0.43b0 (from opentelemetry-instrumentation-fastapi>=0.41b0->chromadb)\n",
            "  Downloading opentelemetry_instrumentation_asgi-0.43b0-py3-none-any.whl (14 kB)\n",
            "Collecting opentelemetry-instrumentation==0.43b0 (from opentelemetry-instrumentation-fastapi>=0.41b0->chromadb)\n",
            "  Downloading opentelemetry_instrumentation-0.43b0-py3-none-any.whl (28 kB)\n",
            "Collecting opentelemetry-semantic-conventions==0.43b0 (from opentelemetry-instrumentation-fastapi>=0.41b0->chromadb)\n",
            "  Downloading opentelemetry_semantic_conventions-0.43b0-py3-none-any.whl (36 kB)\n",
            "Collecting opentelemetry-util-http==0.43b0 (from opentelemetry-instrumentation-fastapi>=0.41b0->chromadb)\n",
            "  Downloading opentelemetry_util_http-0.43b0-py3-none-any.whl (6.9 kB)\n",
            "Requirement already satisfied: setuptools>=16.0 in /usr/local/lib/python3.10/dist-packages (from opentelemetry-instrumentation==0.43b0->opentelemetry-instrumentation-fastapi>=0.41b0->chromadb) (67.7.2)\n",
            "Requirement already satisfied: wrapt<2.0.0,>=1.0.0 in /usr/local/lib/python3.10/dist-packages (from opentelemetry-instrumentation==0.43b0->opentelemetry-instrumentation-fastapi>=0.41b0->chromadb) (1.14.1)\n",
            "Collecting asgiref~=3.0 (from opentelemetry-instrumentation-asgi==0.43b0->opentelemetry-instrumentation-fastapi>=0.41b0->chromadb)\n",
            "  Downloading asgiref-3.7.2-py3-none-any.whl (24 kB)\n",
            "Collecting monotonic>=1.5 (from posthog>=2.4.0->chromadb)\n",
            "  Downloading monotonic-1.6-py2.py3-none-any.whl (8.2 kB)\n",
            "Requirement already satisfied: charset-normalizer<4,>=2 in /usr/local/lib/python3.10/dist-packages (from requests>=2.28->chromadb) (3.3.2)\n",
            "Requirement already satisfied: idna<4,>=2.5 in /usr/local/lib/python3.10/dist-packages (from requests>=2.28->chromadb) (3.6)\n",
            "Requirement already satisfied: huggingface_hub<1.0,>=0.16.4 in /usr/local/lib/python3.10/dist-packages (from tokenizers>=0.13.2->chromadb) (0.19.4)\n",
            "Requirement already satisfied: click<9.0.0,>=7.1.1 in /usr/local/lib/python3.10/dist-packages (from typer>=0.9.0->chromadb) (8.1.7)\n",
            "Collecting h11>=0.8 (from uvicorn[standard]>=0.18.3->chromadb)\n",
            "  Downloading h11-0.14.0-py3-none-any.whl (58 kB)\n",
            "\u001b[2K     \u001b[90m━━━━━━━━━━━━━━━━━━━━━━━━━━━━━━━━━━━━━━━━\u001b[0m \u001b[32m58.3/58.3 kB\u001b[0m \u001b[31m8.7 MB/s\u001b[0m eta \u001b[36m0:00:00\u001b[0m\n",
            "\u001b[?25hCollecting httptools>=0.5.0 (from uvicorn[standard]>=0.18.3->chromadb)\n",
            "  Downloading httptools-0.6.1-cp310-cp310-manylinux_2_5_x86_64.manylinux1_x86_64.manylinux_2_17_x86_64.manylinux2014_x86_64.whl (341 kB)\n",
            "\u001b[2K     \u001b[90m━━━━━━━━━━━━━━━━━━━━━━━━━━━━━━━━━━━━━━━━\u001b[0m \u001b[32m341.4/341.4 kB\u001b[0m \u001b[31m33.7 MB/s\u001b[0m eta \u001b[36m0:00:00\u001b[0m\n",
            "\u001b[?25hCollecting python-dotenv>=0.13 (from uvicorn[standard]>=0.18.3->chromadb)\n",
            "  Downloading python_dotenv-1.0.0-py3-none-any.whl (19 kB)\n",
            "Collecting uvloop!=0.15.0,!=0.15.1,>=0.14.0 (from uvicorn[standard]>=0.18.3->chromadb)\n",
            "  Downloading uvloop-0.19.0-cp310-cp310-manylinux_2_17_x86_64.manylinux2014_x86_64.whl (3.4 MB)\n",
            "\u001b[2K     \u001b[90m━━━━━━━━━━━━━━━━━━━━━━━━━━━━━━━━━━━━━━━━\u001b[0m \u001b[32m3.4/3.4 MB\u001b[0m \u001b[31m58.0 MB/s\u001b[0m eta \u001b[36m0:00:00\u001b[0m\n",
            "\u001b[?25hCollecting watchfiles>=0.13 (from uvicorn[standard]>=0.18.3->chromadb)\n",
            "  Downloading watchfiles-0.21.0-cp310-cp310-manylinux_2_17_x86_64.manylinux2014_x86_64.whl (1.3 MB)\n",
            "\u001b[2K     \u001b[90m━━━━━━━━━━━━━━━━━━━━━━━━━━━━━━━━━━━━━━━━\u001b[0m \u001b[32m1.3/1.3 MB\u001b[0m \u001b[31m64.4 MB/s\u001b[0m eta \u001b[36m0:00:00\u001b[0m\n",
            "\u001b[?25hCollecting websockets>=10.4 (from uvicorn[standard]>=0.18.3->chromadb)\n",
            "  Downloading websockets-12.0-cp310-cp310-manylinux_2_5_x86_64.manylinux1_x86_64.manylinux_2_17_x86_64.manylinux2014_x86_64.whl (130 kB)\n",
            "\u001b[2K     \u001b[90m━━━━━━━━━━━━━━━━━━━━━━━━━━━━━━━━━━━━━━━━\u001b[0m \u001b[32m130.2/130.2 kB\u001b[0m \u001b[31m19.5 MB/s\u001b[0m eta \u001b[36m0:00:00\u001b[0m\n",
            "\u001b[?25hRequirement already satisfied: sniffio>=1.1 in /usr/local/lib/python3.10/dist-packages (from anyio<4.0.0,>=3.7.1->fastapi>=0.95.2->chromadb) (1.3.0)\n",
            "Requirement already satisfied: exceptiongroup in /usr/local/lib/python3.10/dist-packages (from anyio<4.0.0,>=3.7.1->fastapi>=0.95.2->chromadb) (1.2.0)\n",
            "Requirement already satisfied: cachetools<6.0,>=2.0.0 in /usr/local/lib/python3.10/dist-packages (from google-auth>=1.0.1->kubernetes>=28.1.0->chromadb) (5.3.2)\n",
            "Requirement already satisfied: pyasn1-modules>=0.2.1 in /usr/local/lib/python3.10/dist-packages (from google-auth>=1.0.1->kubernetes>=28.1.0->chromadb) (0.3.0)\n",
            "Requirement already satisfied: rsa<5,>=3.1.4 in /usr/local/lib/python3.10/dist-packages (from google-auth>=1.0.1->kubernetes>=28.1.0->chromadb) (4.9)\n",
            "Requirement already satisfied: filelock in /usr/local/lib/python3.10/dist-packages (from huggingface_hub<1.0,>=0.16.4->tokenizers>=0.13.2->chromadb) (3.13.1)\n",
            "Requirement already satisfied: fsspec>=2023.5.0 in /usr/local/lib/python3.10/dist-packages (from huggingface_hub<1.0,>=0.16.4->tokenizers>=0.13.2->chromadb) (2023.6.0)\n",
            "Requirement already satisfied: zipp>=0.5 in /usr/local/lib/python3.10/dist-packages (from importlib-metadata<7.0,>=6.0->opentelemetry-api>=1.2.0->chromadb) (3.17.0)\n",
            "Collecting humanfriendly>=9.1 (from coloredlogs->onnxruntime>=1.14.1->chromadb)\n",
            "  Downloading humanfriendly-10.0-py2.py3-none-any.whl (86 kB)\n",
            "\u001b[2K     \u001b[90m━━━━━━━━━━━━━━━━━━━━━━━━━━━━━━━━━━━━━━━━\u001b[0m \u001b[32m86.8/86.8 kB\u001b[0m \u001b[31m12.1 MB/s\u001b[0m eta \u001b[36m0:00:00\u001b[0m\n",
            "\u001b[?25hRequirement already satisfied: mpmath>=0.19 in /usr/local/lib/python3.10/dist-packages (from sympy->onnxruntime>=1.14.1->chromadb) (1.3.0)\n",
            "Requirement already satisfied: pyasn1<0.6.0,>=0.4.6 in /usr/local/lib/python3.10/dist-packages (from pyasn1-modules>=0.2.1->google-auth>=1.0.1->kubernetes>=28.1.0->chromadb) (0.5.1)\n",
            "Building wheels for collected packages: pypika\n",
            "  Building wheel for pypika (pyproject.toml) ... \u001b[?25l\u001b[?25hdone\n",
            "  Created wheel for pypika: filename=PyPika-0.48.9-py2.py3-none-any.whl size=53723 sha256=498e583d921f9461fa8b1980abb1a4329fc59236dcfd11ed1fae07dace637daf\n",
            "  Stored in directory: /root/.cache/pip/wheels/e1/26/51/d0bffb3d2fd82256676d7ad3003faea3bd6dddc9577af665f4\n",
            "Successfully built pypika\n",
            "Installing collected packages: pypika, monotonic, mmh3, websockets, uvloop, urllib3, python-dotenv, pulsar-client, overrides, opentelemetry-util-http, opentelemetry-semantic-conventions, opentelemetry-proto, humanfriendly, httptools, h11, deprecated, chroma-hnswlib, bcrypt, asgiref, watchfiles, uvicorn, starlette, opentelemetry-exporter-otlp-proto-common, opentelemetry-api, coloredlogs, posthog, opentelemetry-sdk, opentelemetry-instrumentation, onnxruntime, fastapi, opentelemetry-instrumentation-asgi, opentelemetry-exporter-otlp-proto-grpc, kubernetes, opentelemetry-instrumentation-fastapi, chromadb\n",
            "  Attempting uninstall: urllib3\n",
            "    Found existing installation: urllib3 2.0.7\n",
            "    Uninstalling urllib3-2.0.7:\n",
            "      Successfully uninstalled urllib3-2.0.7\n",
            "\u001b[31mERROR: pip's dependency resolver does not currently take into account all the packages that are installed. This behaviour is the source of the following dependency conflicts.\n",
            "lida 0.0.10 requires kaleido, which is not installed.\n",
            "lida 0.0.10 requires python-multipart, which is not installed.\n",
            "llmx 0.0.15a0 requires openai, which is not installed.\u001b[0m\u001b[31m\n",
            "\u001b[0mSuccessfully installed asgiref-3.7.2 bcrypt-4.1.2 chroma-hnswlib-0.7.3 chromadb-0.4.20 coloredlogs-15.0.1 deprecated-1.2.14 fastapi-0.105.0 h11-0.14.0 httptools-0.6.1 humanfriendly-10.0 kubernetes-28.1.0 mmh3-4.0.1 monotonic-1.6 onnxruntime-1.16.3 opentelemetry-api-1.22.0 opentelemetry-exporter-otlp-proto-common-1.22.0 opentelemetry-exporter-otlp-proto-grpc-1.22.0 opentelemetry-instrumentation-0.43b0 opentelemetry-instrumentation-asgi-0.43b0 opentelemetry-instrumentation-fastapi-0.43b0 opentelemetry-proto-1.22.0 opentelemetry-sdk-1.22.0 opentelemetry-semantic-conventions-0.43b0 opentelemetry-util-http-0.43b0 overrides-7.4.0 posthog-3.1.0 pulsar-client-3.3.0 pypika-0.48.9 python-dotenv-1.0.0 starlette-0.27.0 urllib3-1.26.18 uvicorn-0.24.0.post1 uvloop-0.19.0 watchfiles-0.21.0 websockets-12.0\n"
          ]
        },
        {
          "output_type": "display_data",
          "data": {
            "application/vnd.colab-display-data+json": {
              "pip_warning": {
                "packages": [
                  "urllib3"
                ]
              }
            }
          },
          "metadata": {}
        }
      ]
    },
    {
      "cell_type": "code",
      "source": [
        "!pip install pytesseract"
      ],
      "metadata": {
        "colab": {
          "base_uri": "https://localhost:8080/"
        },
        "id": "bsNJgiYTrZJo",
        "outputId": "134bb97e-a1aa-4e31-949c-8e76264ff7c3"
      },
      "execution_count": null,
      "outputs": [
        {
          "output_type": "stream",
          "name": "stdout",
          "text": [
            "Collecting pytesseract\n",
            "  Downloading pytesseract-0.3.10-py3-none-any.whl (14 kB)\n",
            "Requirement already satisfied: packaging>=21.3 in /usr/local/lib/python3.10/dist-packages (from pytesseract) (23.2)\n",
            "Requirement already satisfied: Pillow>=8.0.0 in /usr/local/lib/python3.10/dist-packages (from pytesseract) (9.4.0)\n",
            "Installing collected packages: pytesseract\n",
            "Successfully installed pytesseract-0.3.10\n"
          ]
        }
      ]
    },
    {
      "cell_type": "code",
      "source": [
        "!pip install pypdf\n",
        "!pip install unstructured"
      ],
      "metadata": {
        "colab": {
          "base_uri": "https://localhost:8080/"
        },
        "id": "yUeSiDWhrnms",
        "outputId": "8d0c6883-3908-4ab4-f95c-24c2605ab0c3"
      },
      "execution_count": null,
      "outputs": [
        {
          "output_type": "stream",
          "name": "stdout",
          "text": [
            "Collecting pypdf\n",
            "  Downloading pypdf-3.17.3-py3-none-any.whl (277 kB)\n",
            "\u001b[2K     \u001b[90m━━━━━━━━━━━━━━━━━━━━━━━━━━━━━━━━━━━━━━━━\u001b[0m \u001b[32m277.9/277.9 kB\u001b[0m \u001b[31m2.2 MB/s\u001b[0m eta \u001b[36m0:00:00\u001b[0m\n",
            "\u001b[?25hInstalling collected packages: pypdf\n",
            "Successfully installed pypdf-3.17.3\n",
            "Collecting unstructured\n",
            "  Downloading unstructured-0.11.5-py3-none-any.whl (1.7 MB)\n",
            "\u001b[2K     \u001b[90m━━━━━━━━━━━━━━━━━━━━━━━━━━━━━━━━━━━━━━━━\u001b[0m \u001b[32m1.7/1.7 MB\u001b[0m \u001b[31m2.6 MB/s\u001b[0m eta \u001b[36m0:00:00\u001b[0m\n",
            "\u001b[?25hRequirement already satisfied: chardet in /usr/local/lib/python3.10/dist-packages (from unstructured) (5.2.0)\n",
            "Collecting filetype (from unstructured)\n",
            "  Downloading filetype-1.2.0-py2.py3-none-any.whl (19 kB)\n",
            "Collecting python-magic (from unstructured)\n",
            "  Downloading python_magic-0.4.27-py2.py3-none-any.whl (13 kB)\n",
            "Requirement already satisfied: lxml in /usr/local/lib/python3.10/dist-packages (from unstructured) (4.9.3)\n",
            "Requirement already satisfied: nltk in /usr/local/lib/python3.10/dist-packages (from unstructured) (3.8.1)\n",
            "Requirement already satisfied: tabulate in /usr/local/lib/python3.10/dist-packages (from unstructured) (0.9.0)\n",
            "Requirement already satisfied: requests in /usr/local/lib/python3.10/dist-packages (from unstructured) (2.31.0)\n",
            "Requirement already satisfied: beautifulsoup4 in /usr/local/lib/python3.10/dist-packages (from unstructured) (4.11.2)\n",
            "Collecting emoji (from unstructured)\n",
            "  Downloading emoji-2.9.0-py2.py3-none-any.whl (397 kB)\n",
            "\u001b[2K     \u001b[90m━━━━━━━━━━━━━━━━━━━━━━━━━━━━━━━━━━━━━━━━\u001b[0m \u001b[32m397.5/397.5 kB\u001b[0m \u001b[31m3.2 MB/s\u001b[0m eta \u001b[36m0:00:00\u001b[0m\n",
            "\u001b[?25hCollecting dataclasses-json (from unstructured)\n",
            "  Downloading dataclasses_json-0.6.3-py3-none-any.whl (28 kB)\n",
            "Collecting python-iso639 (from unstructured)\n",
            "  Downloading python_iso639-2023.12.11-py3-none-any.whl (275 kB)\n",
            "\u001b[2K     \u001b[90m━━━━━━━━━━━━━━━━━━━━━━━━━━━━━━━━━━━━━━━━\u001b[0m \u001b[32m275.1/275.1 kB\u001b[0m \u001b[31m3.2 MB/s\u001b[0m eta \u001b[36m0:00:00\u001b[0m\n",
            "\u001b[?25hCollecting langdetect (from unstructured)\n",
            "  Downloading langdetect-1.0.9.tar.gz (981 kB)\n",
            "\u001b[2K     \u001b[90m━━━━━━━━━━━━━━━━━━━━━━━━━━━━━━━━━━━━━━━━\u001b[0m \u001b[32m981.5/981.5 kB\u001b[0m \u001b[31m3.5 MB/s\u001b[0m eta \u001b[36m0:00:00\u001b[0m\n",
            "\u001b[?25h  Preparing metadata (setup.py) ... \u001b[?25l\u001b[?25hdone\n",
            "Requirement already satisfied: numpy in /usr/local/lib/python3.10/dist-packages (from unstructured) (1.23.5)\n",
            "Collecting rapidfuzz (from unstructured)\n",
            "  Downloading rapidfuzz-3.5.2-cp310-cp310-manylinux_2_17_x86_64.manylinux2014_x86_64.whl (3.3 MB)\n",
            "\u001b[2K     \u001b[90m━━━━━━━━━━━━━━━━━━━━━━━━━━━━━━━━━━━━━━━━\u001b[0m \u001b[32m3.3/3.3 MB\u001b[0m \u001b[31m3.6 MB/s\u001b[0m eta \u001b[36m0:00:00\u001b[0m\n",
            "\u001b[?25hCollecting backoff (from unstructured)\n",
            "  Downloading backoff-2.2.1-py3-none-any.whl (15 kB)\n",
            "Requirement already satisfied: typing-extensions in /usr/local/lib/python3.10/dist-packages (from unstructured) (4.5.0)\n",
            "Collecting unstructured-client (from unstructured)\n",
            "  Downloading unstructured_client-0.15.0-py3-none-any.whl (20 kB)\n",
            "Requirement already satisfied: wrapt in /usr/local/lib/python3.10/dist-packages (from unstructured) (1.14.1)\n",
            "Requirement already satisfied: soupsieve>1.2 in /usr/local/lib/python3.10/dist-packages (from beautifulsoup4->unstructured) (2.5)\n",
            "Collecting marshmallow<4.0.0,>=3.18.0 (from dataclasses-json->unstructured)\n",
            "  Downloading marshmallow-3.20.1-py3-none-any.whl (49 kB)\n",
            "\u001b[2K     \u001b[90m━━━━━━━━━━━━━━━━━━━━━━━━━━━━━━━━━━━━━━━━\u001b[0m \u001b[32m49.4/49.4 kB\u001b[0m \u001b[31m2.0 MB/s\u001b[0m eta \u001b[36m0:00:00\u001b[0m\n",
            "\u001b[?25hCollecting typing-inspect<1,>=0.4.0 (from dataclasses-json->unstructured)\n",
            "  Downloading typing_inspect-0.9.0-py3-none-any.whl (8.8 kB)\n",
            "Requirement already satisfied: six in /usr/local/lib/python3.10/dist-packages (from langdetect->unstructured) (1.16.0)\n",
            "Requirement already satisfied: click in /usr/local/lib/python3.10/dist-packages (from nltk->unstructured) (8.1.7)\n",
            "Requirement already satisfied: joblib in /usr/local/lib/python3.10/dist-packages (from nltk->unstructured) (1.3.2)\n",
            "Requirement already satisfied: regex>=2021.8.3 in /usr/local/lib/python3.10/dist-packages (from nltk->unstructured) (2023.6.3)\n",
            "Requirement already satisfied: tqdm in /usr/local/lib/python3.10/dist-packages (from nltk->unstructured) (4.66.1)\n",
            "Requirement already satisfied: charset-normalizer<4,>=2 in /usr/local/lib/python3.10/dist-packages (from requests->unstructured) (3.3.2)\n",
            "Requirement already satisfied: idna<4,>=2.5 in /usr/local/lib/python3.10/dist-packages (from requests->unstructured) (3.6)\n",
            "Requirement already satisfied: urllib3<3,>=1.21.1 in /usr/local/lib/python3.10/dist-packages (from requests->unstructured) (2.0.7)\n",
            "Requirement already satisfied: certifi>=2017.4.17 in /usr/local/lib/python3.10/dist-packages (from requests->unstructured) (2023.11.17)\n",
            "Collecting jsonpath-python>=1.0.6 (from unstructured-client->unstructured)\n",
            "  Downloading jsonpath_python-1.0.6-py3-none-any.whl (7.6 kB)\n",
            "Collecting mypy-extensions>=1.0.0 (from unstructured-client->unstructured)\n",
            "  Downloading mypy_extensions-1.0.0-py3-none-any.whl (4.7 kB)\n",
            "Requirement already satisfied: packaging>=23.1 in /usr/local/lib/python3.10/dist-packages (from unstructured-client->unstructured) (23.2)\n",
            "Requirement already satisfied: python-dateutil>=2.8.2 in /usr/local/lib/python3.10/dist-packages (from unstructured-client->unstructured) (2.8.2)\n",
            "Collecting typing-extensions (from unstructured)\n",
            "  Downloading typing_extensions-4.9.0-py3-none-any.whl (32 kB)\n",
            "Building wheels for collected packages: langdetect\n",
            "  Building wheel for langdetect (setup.py) ... \u001b[?25l\u001b[?25hdone\n",
            "  Created wheel for langdetect: filename=langdetect-1.0.9-py3-none-any.whl size=993225 sha256=9d08b1eb10384bdd4b0aec72049c2ba39c79ec0c722c9edf81e6cb41a1b1c2b4\n",
            "  Stored in directory: /root/.cache/pip/wheels/95/03/7d/59ea870c70ce4e5a370638b5462a7711ab78fba2f655d05106\n",
            "Successfully built langdetect\n",
            "Installing collected packages: filetype, typing-extensions, rapidfuzz, python-magic, python-iso639, mypy-extensions, marshmallow, langdetect, jsonpath-python, emoji, backoff, typing-inspect, dataclasses-json, unstructured-client, unstructured\n",
            "  Attempting uninstall: typing-extensions\n",
            "    Found existing installation: typing_extensions 4.5.0\n",
            "    Uninstalling typing_extensions-4.5.0:\n",
            "      Successfully uninstalled typing_extensions-4.5.0\n",
            "\u001b[31mERROR: pip's dependency resolver does not currently take into account all the packages that are installed. This behaviour is the source of the following dependency conflicts.\n",
            "tensorflow-probability 0.22.0 requires typing-extensions<4.6.0, but you have typing-extensions 4.9.0 which is incompatible.\u001b[0m\u001b[31m\n",
            "\u001b[0mSuccessfully installed backoff-2.2.1 dataclasses-json-0.6.3 emoji-2.9.0 filetype-1.2.0 jsonpath-python-1.0.6 langdetect-1.0.9 marshmallow-3.20.1 mypy-extensions-1.0.0 python-iso639-2023.12.11 python-magic-0.4.27 rapidfuzz-3.5.2 typing-extensions-4.9.0 typing-inspect-0.9.0 unstructured-0.11.5 unstructured-client-0.15.0\n"
          ]
        }
      ]
    },
    {
      "cell_type": "code",
      "source": [
        "!pip install pdf2image"
      ],
      "metadata": {
        "colab": {
          "base_uri": "https://localhost:8080/"
        },
        "id": "xqq87VV_u_0c",
        "outputId": "67d66685-f9f8-4720-cfd0-8debff7aaf09"
      },
      "execution_count": null,
      "outputs": [
        {
          "output_type": "stream",
          "name": "stdout",
          "text": [
            "Collecting pdf2image\n",
            "  Downloading pdf2image-1.16.3-py3-none-any.whl (11 kB)\n",
            "Requirement already satisfied: pillow in /usr/local/lib/python3.10/dist-packages (from pdf2image) (9.4.0)\n",
            "Installing collected packages: pdf2image\n",
            "Successfully installed pdf2image-1.16.3\n"
          ]
        }
      ]
    },
    {
      "cell_type": "code",
      "source": [
        "!pip install langchain"
      ],
      "metadata": {
        "colab": {
          "base_uri": "https://localhost:8080/"
        },
        "id": "k6C-PpG3vbW9",
        "outputId": "20096198-6ba9-4c4c-931a-eacc2c6f0d61"
      },
      "execution_count": null,
      "outputs": [
        {
          "output_type": "stream",
          "name": "stdout",
          "text": [
            "Collecting langchain\n",
            "  Downloading langchain-0.0.351-py3-none-any.whl (794 kB)\n",
            "\u001b[2K     \u001b[90m━━━━━━━━━━━━━━━━━━━━━━━━━━━━━━━━━━━━━━━━\u001b[0m \u001b[32m794.3/794.3 kB\u001b[0m \u001b[31m4.6 MB/s\u001b[0m eta \u001b[36m0:00:00\u001b[0m\n",
            "\u001b[?25hRequirement already satisfied: PyYAML>=5.3 in /usr/local/lib/python3.10/dist-packages (from langchain) (6.0.1)\n",
            "Requirement already satisfied: SQLAlchemy<3,>=1.4 in /usr/local/lib/python3.10/dist-packages (from langchain) (2.0.23)\n",
            "Requirement already satisfied: aiohttp<4.0.0,>=3.8.3 in /usr/local/lib/python3.10/dist-packages (from langchain) (3.9.1)\n",
            "Requirement already satisfied: async-timeout<5.0.0,>=4.0.0 in /usr/local/lib/python3.10/dist-packages (from langchain) (4.0.3)\n",
            "Requirement already satisfied: dataclasses-json<0.7,>=0.5.7 in /usr/local/lib/python3.10/dist-packages (from langchain) (0.6.3)\n",
            "Collecting jsonpatch<2.0,>=1.33 (from langchain)\n",
            "  Downloading jsonpatch-1.33-py2.py3-none-any.whl (12 kB)\n",
            "Collecting langchain-community<0.1,>=0.0.2 (from langchain)\n",
            "  Downloading langchain_community-0.0.4-py3-none-any.whl (1.5 MB)\n",
            "\u001b[2K     \u001b[90m━━━━━━━━━━━━━━━━━━━━━━━━━━━━━━━━━━━━━━━━\u001b[0m \u001b[32m1.5/1.5 MB\u001b[0m \u001b[31m24.3 MB/s\u001b[0m eta \u001b[36m0:00:00\u001b[0m\n",
            "\u001b[?25hCollecting langchain-core<0.2,>=0.1 (from langchain)\n",
            "  Downloading langchain_core-0.1.1-py3-none-any.whl (190 kB)\n",
            "\u001b[2K     \u001b[90m━━━━━━━━━━━━━━━━━━━━━━━━━━━━━━━━━━━━━━━━\u001b[0m \u001b[32m190.6/190.6 kB\u001b[0m \u001b[31m26.9 MB/s\u001b[0m eta \u001b[36m0:00:00\u001b[0m\n",
            "\u001b[?25hCollecting langsmith<0.1.0,>=0.0.70 (from langchain)\n",
            "  Downloading langsmith-0.0.72-py3-none-any.whl (46 kB)\n",
            "\u001b[2K     \u001b[90m━━━━━━━━━━━━━━━━━━━━━━━━━━━━━━━━━━━━━━━━\u001b[0m \u001b[32m46.3/46.3 kB\u001b[0m \u001b[31m7.2 MB/s\u001b[0m eta \u001b[36m0:00:00\u001b[0m\n",
            "\u001b[?25hRequirement already satisfied: numpy<2,>=1 in /usr/local/lib/python3.10/dist-packages (from langchain) (1.23.5)\n",
            "Requirement already satisfied: pydantic<3,>=1 in /usr/local/lib/python3.10/dist-packages (from langchain) (1.10.13)\n",
            "Requirement already satisfied: requests<3,>=2 in /usr/local/lib/python3.10/dist-packages (from langchain) (2.31.0)\n",
            "Requirement already satisfied: tenacity<9.0.0,>=8.1.0 in /usr/local/lib/python3.10/dist-packages (from langchain) (8.2.3)\n",
            "Requirement already satisfied: attrs>=17.3.0 in /usr/local/lib/python3.10/dist-packages (from aiohttp<4.0.0,>=3.8.3->langchain) (23.1.0)\n",
            "Requirement already satisfied: multidict<7.0,>=4.5 in /usr/local/lib/python3.10/dist-packages (from aiohttp<4.0.0,>=3.8.3->langchain) (6.0.4)\n",
            "Requirement already satisfied: yarl<2.0,>=1.0 in /usr/local/lib/python3.10/dist-packages (from aiohttp<4.0.0,>=3.8.3->langchain) (1.9.4)\n",
            "Requirement already satisfied: frozenlist>=1.1.1 in /usr/local/lib/python3.10/dist-packages (from aiohttp<4.0.0,>=3.8.3->langchain) (1.4.0)\n",
            "Requirement already satisfied: aiosignal>=1.1.2 in /usr/local/lib/python3.10/dist-packages (from aiohttp<4.0.0,>=3.8.3->langchain) (1.3.1)\n",
            "Requirement already satisfied: marshmallow<4.0.0,>=3.18.0 in /usr/local/lib/python3.10/dist-packages (from dataclasses-json<0.7,>=0.5.7->langchain) (3.20.1)\n",
            "Requirement already satisfied: typing-inspect<1,>=0.4.0 in /usr/local/lib/python3.10/dist-packages (from dataclasses-json<0.7,>=0.5.7->langchain) (0.9.0)\n",
            "Collecting jsonpointer>=1.9 (from jsonpatch<2.0,>=1.33->langchain)\n",
            "  Downloading jsonpointer-2.4-py2.py3-none-any.whl (7.8 kB)\n",
            "Requirement already satisfied: anyio<5,>=3 in /usr/local/lib/python3.10/dist-packages (from langchain-core<0.2,>=0.1->langchain) (3.7.1)\n",
            "Requirement already satisfied: packaging<24.0,>=23.2 in /usr/local/lib/python3.10/dist-packages (from langchain-core<0.2,>=0.1->langchain) (23.2)\n",
            "Requirement already satisfied: typing-extensions>=4.2.0 in /usr/local/lib/python3.10/dist-packages (from pydantic<3,>=1->langchain) (4.9.0)\n",
            "Requirement already satisfied: charset-normalizer<4,>=2 in /usr/local/lib/python3.10/dist-packages (from requests<3,>=2->langchain) (3.3.2)\n",
            "Requirement already satisfied: idna<4,>=2.5 in /usr/local/lib/python3.10/dist-packages (from requests<3,>=2->langchain) (3.6)\n",
            "Requirement already satisfied: urllib3<3,>=1.21.1 in /usr/local/lib/python3.10/dist-packages (from requests<3,>=2->langchain) (2.0.7)\n",
            "Requirement already satisfied: certifi>=2017.4.17 in /usr/local/lib/python3.10/dist-packages (from requests<3,>=2->langchain) (2023.11.17)\n",
            "Requirement already satisfied: greenlet!=0.4.17 in /usr/local/lib/python3.10/dist-packages (from SQLAlchemy<3,>=1.4->langchain) (3.0.2)\n",
            "Requirement already satisfied: sniffio>=1.1 in /usr/local/lib/python3.10/dist-packages (from anyio<5,>=3->langchain-core<0.2,>=0.1->langchain) (1.3.0)\n",
            "Requirement already satisfied: exceptiongroup in /usr/local/lib/python3.10/dist-packages (from anyio<5,>=3->langchain-core<0.2,>=0.1->langchain) (1.2.0)\n",
            "Requirement already satisfied: mypy-extensions>=0.3.0 in /usr/local/lib/python3.10/dist-packages (from typing-inspect<1,>=0.4.0->dataclasses-json<0.7,>=0.5.7->langchain) (1.0.0)\n",
            "Installing collected packages: jsonpointer, langsmith, jsonpatch, langchain-core, langchain-community, langchain\n",
            "Successfully installed jsonpatch-1.33 jsonpointer-2.4 langchain-0.0.351 langchain-community-0.0.4 langchain-core-0.1.1 langsmith-0.0.72\n"
          ]
        }
      ]
    },
    {
      "cell_type": "code",
      "source": [
        "!pip install tiktoken"
      ],
      "metadata": {
        "colab": {
          "base_uri": "https://localhost:8080/"
        },
        "id": "ZeOjhqyDxtZ9",
        "outputId": "7843a1dd-70cb-4843-a01a-e6a026bb0a49"
      },
      "execution_count": null,
      "outputs": [
        {
          "output_type": "stream",
          "name": "stdout",
          "text": [
            "Collecting tiktoken\n",
            "  Downloading tiktoken-0.5.2-cp310-cp310-manylinux_2_17_x86_64.manylinux2014_x86_64.whl (2.0 MB)\n",
            "\u001b[2K     \u001b[90m━━━━━━━━━━━━━━━━━━━━━━━━━━━━━━━━━━━━━━━━\u001b[0m \u001b[32m2.0/2.0 MB\u001b[0m \u001b[31m8.9 MB/s\u001b[0m eta \u001b[36m0:00:00\u001b[0m\n",
            "\u001b[?25hRequirement already satisfied: regex>=2022.1.18 in /usr/local/lib/python3.10/dist-packages (from tiktoken) (2023.6.3)\n",
            "Requirement already satisfied: requests>=2.26.0 in /usr/local/lib/python3.10/dist-packages (from tiktoken) (2.31.0)\n",
            "Requirement already satisfied: charset-normalizer<4,>=2 in /usr/local/lib/python3.10/dist-packages (from requests>=2.26.0->tiktoken) (3.3.2)\n",
            "Requirement already satisfied: idna<4,>=2.5 in /usr/local/lib/python3.10/dist-packages (from requests>=2.26.0->tiktoken) (3.6)\n",
            "Requirement already satisfied: urllib3<3,>=1.21.1 in /usr/local/lib/python3.10/dist-packages (from requests>=2.26.0->tiktoken) (2.0.7)\n",
            "Requirement already satisfied: certifi>=2017.4.17 in /usr/local/lib/python3.10/dist-packages (from requests>=2.26.0->tiktoken) (2023.11.17)\n",
            "Installing collected packages: tiktoken\n",
            "\u001b[31mERROR: pip's dependency resolver does not currently take into account all the packages that are installed. This behaviour is the source of the following dependency conflicts.\n",
            "llmx 0.0.15a0 requires cohere, which is not installed.\n",
            "llmx 0.0.15a0 requires openai, which is not installed.\u001b[0m\u001b[31m\n",
            "\u001b[0mSuccessfully installed tiktoken-0.5.2\n"
          ]
        }
      ]
    },
    {
      "cell_type": "code",
      "execution_count": null,
      "metadata": {
        "id": "iQDtfFz8p__0"
      },
      "outputs": [],
      "source": [
        "import fitz\n",
        "from PIL import Image\n",
        "import pytesseract\n",
        "import io\n",
        "\n",
        "def extract_text_from_pdf(pdf_path):\n",
        "    doc = fitz.open(pdf_path)\n",
        "    text = \"\"\n",
        "\n",
        "    for page_number in range(doc.page_count):\n",
        "        page = doc[page_number]\n",
        "        text += page.get_text()\n",
        "        image_list = page.get_images(full=True)\n",
        "        for img_index, img_info in enumerate(image_list):\n",
        "            try:\n",
        "                base_image = doc.extract_image(img_index)\n",
        "                if not base_image:\n",
        "                    continue\n",
        "                image_bytes = base_image[\"image\"]\n",
        "                image = Image.open(io.BytesIO(image_bytes))\n",
        "                image_text = pytesseract.image_to_string(image)\n",
        "                text += image_text\n",
        "            except Exception as e:\n",
        "                print(f\"Error extracting image on page {page_number + 1}: {str(e)}\")\n",
        "\n",
        "    doc.close()\n",
        "    return text\n",
        "\n",
        "pdf_path = \"/content/Ruchira_papers.pdf\"\n",
        "extracted_text = extract_text_from_pdf(pdf_path)\n",
        "print(f\"Total extracted pages: {extracted_text[1]}\")\n",
        "print(extracted_text)"
      ]
    },
    {
      "cell_type": "code",
      "source": [
        "import tiktoken\n",
        "tokenizer= tiktoken.get_encoding('cl100k_base')\n",
        "def tiktoken_len(text):\n",
        "  tokens = tokenizer.encode(text,disallowed_special=())\n",
        "  return len(tokens)"
      ],
      "metadata": {
        "id": "LRdSJClUzH4c"
      },
      "execution_count": null,
      "outputs": []
    },
    {
      "cell_type": "code",
      "source": [
        "from langchain.text_splitter import RecursiveCharacterTextSplitter\n",
        "\n",
        "text_splitter = RecursiveCharacterTextSplitter(\n",
        "    chunk_size = 600,\n",
        "    chunk_overlap=30,\n",
        "    length_function=tiktoken_len,\n",
        "    separators=['\\n\\n','\\n',' ','']\n",
        ")"
      ],
      "metadata": {
        "id": "tFAusiO0zNDD"
      },
      "execution_count": null,
      "outputs": []
    },
    {
      "cell_type": "code",
      "source": [
        "!pip install cohere"
      ],
      "metadata": {
        "colab": {
          "base_uri": "https://localhost:8080/"
        },
        "id": "9zGTgpLp0eAE",
        "outputId": "40799ab8-029d-4b1d-ca78-ec86d08f210f"
      },
      "execution_count": null,
      "outputs": [
        {
          "output_type": "stream",
          "name": "stdout",
          "text": [
            "Collecting cohere\n",
            "  Downloading cohere-4.39-py3-none-any.whl (51 kB)\n",
            "\u001b[2K     \u001b[90m━━━━━━━━━━━━━━━━━━━━━━━━━━━━━━━━━━━━━━━━\u001b[0m \u001b[32m51.7/51.7 kB\u001b[0m \u001b[31m883.0 kB/s\u001b[0m eta \u001b[36m0:00:00\u001b[0m\n",
            "\u001b[?25hRequirement already satisfied: aiohttp<4.0,>=3.0 in /usr/local/lib/python3.10/dist-packages (from cohere) (3.9.1)\n",
            "Requirement already satisfied: backoff<3.0,>=2.0 in /usr/local/lib/python3.10/dist-packages (from cohere) (2.2.1)\n",
            "Collecting fastavro<2.0,>=1.8 (from cohere)\n",
            "  Downloading fastavro-1.9.1-cp310-cp310-manylinux_2_17_x86_64.manylinux2014_x86_64.whl (3.1 MB)\n",
            "\u001b[2K     \u001b[90m━━━━━━━━━━━━━━━━━━━━━━━━━━━━━━━━━━━━━━━━\u001b[0m \u001b[32m3.1/3.1 MB\u001b[0m \u001b[31m14.9 MB/s\u001b[0m eta \u001b[36m0:00:00\u001b[0m\n",
            "\u001b[?25hCollecting importlib_metadata<7.0,>=6.0 (from cohere)\n",
            "  Downloading importlib_metadata-6.11.0-py3-none-any.whl (23 kB)\n",
            "Requirement already satisfied: requests<3.0.0,>=2.25.0 in /usr/local/lib/python3.10/dist-packages (from cohere) (2.31.0)\n",
            "Requirement already satisfied: urllib3<3,>=1.26 in /usr/local/lib/python3.10/dist-packages (from cohere) (2.0.7)\n",
            "Requirement already satisfied: attrs>=17.3.0 in /usr/local/lib/python3.10/dist-packages (from aiohttp<4.0,>=3.0->cohere) (23.1.0)\n",
            "Requirement already satisfied: multidict<7.0,>=4.5 in /usr/local/lib/python3.10/dist-packages (from aiohttp<4.0,>=3.0->cohere) (6.0.4)\n",
            "Requirement already satisfied: yarl<2.0,>=1.0 in /usr/local/lib/python3.10/dist-packages (from aiohttp<4.0,>=3.0->cohere) (1.9.4)\n",
            "Requirement already satisfied: frozenlist>=1.1.1 in /usr/local/lib/python3.10/dist-packages (from aiohttp<4.0,>=3.0->cohere) (1.4.0)\n",
            "Requirement already satisfied: aiosignal>=1.1.2 in /usr/local/lib/python3.10/dist-packages (from aiohttp<4.0,>=3.0->cohere) (1.3.1)\n",
            "Requirement already satisfied: async-timeout<5.0,>=4.0 in /usr/local/lib/python3.10/dist-packages (from aiohttp<4.0,>=3.0->cohere) (4.0.3)\n",
            "Requirement already satisfied: zipp>=0.5 in /usr/local/lib/python3.10/dist-packages (from importlib_metadata<7.0,>=6.0->cohere) (3.17.0)\n",
            "Requirement already satisfied: charset-normalizer<4,>=2 in /usr/local/lib/python3.10/dist-packages (from requests<3.0.0,>=2.25.0->cohere) (3.3.2)\n",
            "Requirement already satisfied: idna<4,>=2.5 in /usr/local/lib/python3.10/dist-packages (from requests<3.0.0,>=2.25.0->cohere) (3.6)\n",
            "Requirement already satisfied: certifi>=2017.4.17 in /usr/local/lib/python3.10/dist-packages (from requests<3.0.0,>=2.25.0->cohere) (2023.11.17)\n",
            "Installing collected packages: importlib_metadata, fastavro, cohere\n",
            "  Attempting uninstall: importlib_metadata\n",
            "    Found existing installation: importlib-metadata 7.0.0\n",
            "    Uninstalling importlib-metadata-7.0.0:\n",
            "      Successfully uninstalled importlib-metadata-7.0.0\n",
            "\u001b[31mERROR: pip's dependency resolver does not currently take into account all the packages that are installed. This behaviour is the source of the following dependency conflicts.\n",
            "llmx 0.0.15a0 requires openai, which is not installed.\u001b[0m\u001b[31m\n",
            "\u001b[0mSuccessfully installed cohere-4.39 fastavro-1.9.1 importlib_metadata-6.11.0\n"
          ]
        }
      ]
    },
    {
      "cell_type": "code",
      "source": [
        "from langchain.schema import Document\n",
        "\n",
        "doc = Document(page_content=extracted_text)\n",
        "data = text_splitter.split_documents([doc])"
      ],
      "metadata": {
        "id": "7Ux5OVfazTv8"
      },
      "execution_count": null,
      "outputs": []
    },
    {
      "cell_type": "code",
      "source": [
        "from langchain.embeddings import CohereEmbeddings\n",
        "model = 'embed-english-v3.0'\n",
        "embed = CohereEmbeddings(cohere_api_key='xPQlz92wRppOVGZCHNETnpZhtN9o2ZfO2QEVWh22')"
      ],
      "metadata": {
        "id": "xD9HLgrDCwO3"
      },
      "execution_count": null,
      "outputs": []
    },
    {
      "cell_type": "code",
      "source": [
        "!pip install faiss-cpu"
      ],
      "metadata": {
        "colab": {
          "base_uri": "https://localhost:8080/"
        },
        "id": "cwW3ykqqBnBJ",
        "outputId": "80a61efe-65d3-47e7-9841-22bf103d3050"
      },
      "execution_count": null,
      "outputs": [
        {
          "output_type": "stream",
          "name": "stdout",
          "text": [
            "Collecting faiss-cpu\n",
            "  Downloading faiss_cpu-1.7.4-cp310-cp310-manylinux_2_17_x86_64.manylinux2014_x86_64.whl (17.6 MB)\n",
            "\u001b[2K     \u001b[90m━━━━━━━━━━━━━━━━━━━━━━━━━━━━━━━━━━━━━━━━\u001b[0m \u001b[32m17.6/17.6 MB\u001b[0m \u001b[31m50.8 MB/s\u001b[0m eta \u001b[36m0:00:00\u001b[0m\n",
            "\u001b[?25hInstalling collected packages: faiss-cpu\n",
            "Successfully installed faiss-cpu-1.7.4\n"
          ]
        }
      ]
    },
    {
      "cell_type": "code",
      "source": [
        "from langchain.vectorstores import FAISS"
      ],
      "metadata": {
        "id": "b0j1D84ZG82f"
      },
      "execution_count": null,
      "outputs": []
    },
    {
      "cell_type": "code",
      "source": [
        "db = FAISS.from_documents(data, embed)"
      ],
      "metadata": {
        "id": "NK5TDZQcG_om"
      },
      "execution_count": null,
      "outputs": []
    },
    {
      "cell_type": "code",
      "source": [
        "db.save_local(\"Ruchi_papers_embeddings\")"
      ],
      "metadata": {
        "id": "K7RolUqHHB-N"
      },
      "execution_count": null,
      "outputs": []
    },
    {
      "cell_type": "code",
      "source": [
        "from langchain import Cohere, ConversationChain, LLMChain, PromptTemplate\n",
        "from langchain.memory import ConversationBufferMemory\n",
        "from langchain.chains.question_answering import load_qa_chain"
      ],
      "metadata": {
        "id": "d1k321d5HKMn"
      },
      "execution_count": null,
      "outputs": []
    },
    {
      "cell_type": "code",
      "source": [
        "super = Cohere(cohere_api_key='xPQlz92wRppOVGZCHNETnpZhtN9o2ZfO2QEVWh22')"
      ],
      "metadata": {
        "id": "O4_E_jZ-HXWb"
      },
      "execution_count": null,
      "outputs": []
    },
    {
      "cell_type": "code",
      "source": [
        "template = \"\"\"You are a Financial advisor and your main aim is to do Management analysis required for invesing by using the information in Context and answer the query.\n",
        "\n",
        "Context : {context}\n",
        "{query}\"\"\"\n",
        "\n",
        "prompt = PromptTemplate(input_variables=[\"context\",\"query\"], template=template)"
      ],
      "metadata": {
        "id": "9DFnPSXkIDDW"
      },
      "execution_count": null,
      "outputs": []
    },
    {
      "cell_type": "code",
      "source": [
        "chain = LLMChain(\n",
        "    llm=super,\n",
        "    prompt=prompt,\n",
        "    verbose=True,\n",
        "    )"
      ],
      "metadata": {
        "id": "7XlcXMsHK6Cr"
      },
      "execution_count": null,
      "outputs": []
    },
    {
      "cell_type": "code",
      "source": [
        "query ='From the Annual report give me all the details about the related party transactions of the company and tell me in the form of text also provide the percentage of amount being traded among them,also tell the sentiment of the answer'"
      ],
      "metadata": {
        "id": "yVKu2gdOLNTz"
      },
      "execution_count": null,
      "outputs": []
    },
    {
      "cell_type": "code",
      "source": [
        "context = db.similarity_search(query)"
      ],
      "metadata": {
        "id": "0Ul-Y8q0LDkG"
      },
      "execution_count": null,
      "outputs": []
    },
    {
      "cell_type": "code",
      "source": [
        "chain({\"input_documents\": context , \"query\":query}, return_only_outputs=True)"
      ],
      "metadata": {
        "colab": {
          "base_uri": "https://localhost:8080/"
        },
        "id": "nlMtQ9JGLjBd",
        "outputId": "b58cb0cf-c7b3-49fd-b5d8-b2aa754be709"
      },
      "execution_count": null,
      "outputs": [
        {
          "output_type": "stream",
          "name": "stdout",
          "text": [
            "\n",
            "\n",
            "\u001b[1m> Entering new StuffDocumentsChain chain...\u001b[0m\n",
            "\n",
            "\n",
            "\u001b[1m> Entering new LLMChain chain...\u001b[0m\n",
            "Prompt after formatting:\n",
            "\u001b[32;1m\u001b[1;3mYou are a Financial advisor and your main aim is to do Management analysis required for invesing by using the information in Context and answer the query.Answer the\n",
            "question by the rules given in single quotaions,\n",
            "\n",
            "Context : details would be w.r.t. \n",
            "the country of his \n",
            "origin).\n",
            "The remuneration proposed to be paid \n",
            "to the Director is comparable with the \n",
            "remuneration being paid for similar \n",
            "assignments in the Industry.\n",
            "The remuneration proposed to be paid \n",
            "to the Director is comparable with the \n",
            "remuneration being paid for similar \n",
            "assignments in the Industry.\n",
            "The remuneration proposed to be paid \n",
            "to the Director is comparable with the \n",
            "remuneration being paid for similar \n",
            "assignments in the Industry.\n",
            "7.\n",
            "Pecuniary relationship \n",
            "directly or indirectly \n",
            "with the Company, \n",
            "or relationship with \n",
            "managerial personnel, \n",
            "if any.\n",
            "Beside the Remuneration Proposed \n",
            "no pecuniary relationship with the \n",
            "Company \n",
            "except \n",
            "that \n",
            "Mr. \n",
            "Umesh \n",
            "Chander Garg, Brother and Mrs. Ruchica \n",
            "Garg Kumar, Daughter.\n",
            "Beside the Remuneration Proposed \n",
            "no pecuniary relationship with the \n",
            "Company except that Mr. Daljeet Singh \n",
            "Mandhan, Son.\n",
            "Beside the Remuneration Proposed \n",
            "no pecuniary relationship with the \n",
            "Company except that Mr. Subhash \n",
            "Chander Garg, Brother and Mr. Deepan \n",
            "Garg, Son.\n",
            "132 | Ruchira Papers Limited\n",
            "Mrs. Ruchica Garg Kumar,  \n",
            "Director Marketing\n",
            "Mr. Deepan Garg,  \n",
            "Director Technical\n",
            "Mr. Daljeet Singh Mandhan, \n",
            "Director Commercial\n",
            "Mr. Vipin Gupta, CFO & Executive \n",
            "Director.\n",
            "1.\n",
            "Background Details \n",
            "Mrs. Ruchica Garg Kumar, aged 52 \n",
            "years, is Post Graduated and has \n",
            "expertise in the field of marketing. \n",
            "She belongs to Promoter Group of \n",
            "Ruchira Papers Limited. She has \n",
            "been looking after the Marketing \n",
            "and Sales functions of Ruchira \n",
            "Papers Limited since 01st July 2016 \n",
            "and has acquired rich marketing \n",
            "experience.\n",
            "Mr. Deepan aged 48 years, is \n",
            "Graduate in Engineering and has \n",
            "expertise in field of Mechanical. \n",
            "He belongs to Promoter Group of \n",
            "Ruchira Papers Limited. \n",
            "He has been looking after the \n",
            "Production, \n",
            "Maintenance \n",
            "and \n",
            "Technical aspects of the Ruchira \n",
            "Papers Limited since 01st April 2013 \n",
            "and has acquired rich experience in \n",
            "technical and mechanical field.\n",
            "Mr. Daljeet Singh Mandhan, aged \n",
            "36 years, is Graduate and has \n",
            "expertise in the field of Commercial \n",
            "Procurement. \n",
            "He \n",
            "belongs\n",
            "\n",
            "Promoters of Ruchira Papers Limited \n",
            "and controlling day-to-day affairs of the \n",
            "Company as the Managing Director.\n",
            "He has been the key man in the selection \n",
            "of various machineries and all expansion \n",
            "projects \n",
            "were \n",
            "executed \n",
            "under \n",
            "his \n",
            "guidance. He has been looking after the \n",
            "Production, Maintenance and Technical \n",
            "aspects of the company.\n",
            "Chairman/ \n",
            "Member of \n",
            "committees of \n",
            "the Board of \n",
            "Companies of \n",
            "which he is a \n",
            "director\n",
            "Ruchira Papers Limited:\n",
            "Member: \n",
            "Stakeholders \n",
            "Relationship \n",
            "Committee \n",
            "& \n",
            "Corporate Social Responsibility \n",
            "Committee.\n",
            "Ruchira Papers Limited.\n",
            "Member: \n",
            "Audit \n",
            "Committee, \n",
            "Stakeholders \n",
            "Relationship \n",
            "Committee, \n",
            "Corporate \n",
            "Social \n",
            "Responsibility \n",
            "Committee \n",
            "and \n",
            "Allotment Committee.\n",
            "Ruchira Papers Limited:\n",
            "Member: Corporate Social Responsibility \n",
            "Committee.\n",
            "Shareholding as \n",
            "on 31.03.2023\n",
            "(2.98%) 888092 Equity Shares.\n",
            "(9.64%) 2876498 Equity Shares\n",
            "(6.17%) 1841999 Equity Shares.\n",
            "Last \n",
            "Remuneration \n",
            "Drawn (Including \n",
            "sitting fees, if any) \n",
            "H16.00 Lakh p.m. Plus 20% (HRA) \n",
            "plus other benefits as approved \n",
            "by \n",
            "Shareholders \n",
            "vide \n",
            "Special \n",
            "Resolution dated 25.09.2020. (For \n",
            "remuneration details, please refer \n",
            "Corporate Governance Report).\n",
            "H16.00 Lakh p.m. Plus 20% (HRA) \n",
            "plus other benefits as approved \n",
            "by \n",
            "Shareholders \n",
            "vide \n",
            "Special \n",
            "Resolution dated 25.09.2020. (For \n",
            "remuneration details, please refer \n",
            "Corporate Governance Report).\n",
            "H16.00 Lakh p.m. Plus 20% (HRA) \n",
            "plus other benefits as approved by \n",
            "Shareholders vide Special Resolution \n",
            "dated 25.09.2020. (For remuneration \n",
            "details, \n",
            "please \n",
            "refer \n",
            "Corporate \n",
            "Governance Report).\n",
            "Terms and \n",
            "Conditions of \n",
            "Appointment/Re-\n",
            "appointment\n",
            "Not applicable as only increase in \n",
            "remuneration proposed.\n",
            "Not applicable as only increase in \n",
            "remuneration proposed.\n",
            "Not applicable as only increase in \n",
            "remuneration proposed.\n",
            "Relationship with \n",
            "other Directors/\n",
            "KMP inter-se\n",
            "Related to Mr. Umesh Chander \n",
            "Garg, Managing Director of the\n",
            "\n",
            "Mr. Jatinder Singh aged 69 years is \n",
            "Whole-Time Director of the Company. \n",
            "He is an Engineering graduate and is \n",
            "looking after Finance, Administration \n",
            "and HR Functions. He is associated \n",
            "with the Company since its inception as \n",
            "Promoter Director.\n",
            "Mr. Umesh Chander Garg aged 74 years \n",
            "is Managing Director of the Company. \n",
            "He is looking after the production, \n",
            "maintenance,\n",
            "Plant \n",
            "erection \n",
            "and \n",
            "expansion \n",
            "programmes. He is associated with the \n",
            "Company since its inception as Promoter \n",
            "Director.\n",
            "2.\n",
            "Past Remuneration \n",
            "H16.00 Lakh p.m. Plus 20% (HRA) plus other \n",
            "benefits as approved by Shareholders \n",
            "vide Special Resolution dated 25.09.2020. \n",
            "(For remuneration details, please refer \n",
            "Corporate Governance Report).\n",
            "H16.00 Lakh p.m. Plus 20% (HRA) plus other \n",
            "benefits as approved by Shareholders \n",
            "vide Special Resolution dated 25.09.2020. \n",
            "(For remuneration details, please refer \n",
            "Corporate Governance Report).\n",
            "H16.00 Lakh p.m. Plus 20% (HRA) plus other \n",
            "benefits as approved by Shareholders \n",
            "vide Special Resolution dated 25.09.2020. \n",
            "(For remuneration details, please refer \n",
            "Corporate Governance Report).\n",
            "3.\n",
            "Recognition or awards.\n",
            "He is closely associated with the ROTARY \n",
            "CLUB and has also served as District \n",
            "Governor, D.I.-3080.\n",
            "-----------\n",
            "He is a President of Kala-Amb Chamber \n",
            "of Commerce and Industries, Kala-Amb.\n",
            "4.\n",
            "Job Profile and his \n",
            "suitability.\n",
            "As per (1) above\n",
            "As per (1) above\n",
            "As per (1) above\n",
            "5.\n",
            "Remuneration \n",
            "proposed.\n",
            "As set out in the resolution at Item No. 08 \n",
            "of the Notice of the 43rd Annual General \n",
            "Meeting.\n",
            "As set out in the resolution at Item No. 09 \n",
            "of the Notice of the 43rd annual general \n",
            "meeting.\n",
            "As set out in the resolution at Item No. 10 \n",
            "of the Notice of the 43rd Annual General \n",
            "Meeting.\n",
            "6.\n",
            "Comparative \n",
            "remuneration profile \n",
            "with respect to industry, \n",
            "size of the Company, \n",
            "profile of the position \n",
            "and person (in case of \n",
            "expatriates the relevant \n",
            "details would be w.r.t. \n",
            "the country of his \n",
            "origin).\n",
            "The remuneration proposed to be paid\n",
            "\n",
            "Jatinder Singh\n",
            "Whole Time Director\n",
            "Nil\n",
            "03.\n",
            "Umesh Chander Garg\n",
            "Managing Director\n",
            "Nil\n",
            "04.\n",
            "Vipin Gupta\n",
            "CFO \n",
            "& \n",
            "Executive \n",
            "Director\n",
            "12.10%\n",
            "05.\n",
            "Ruchica Garg Kumar\n",
            "Whole Time Director\n",
            "NA*\n",
            "06.\n",
            "Daljeet Singh Mandhan\n",
            "Whole Time Director\n",
            "NA*\n",
            "07.\n",
            "Deepan Garg\n",
            "Whole Time Director\n",
            "NA*\n",
            "08.\n",
            "Iqbal Singh\n",
            "Company Secretary\n",
            "NA*\n",
            "iii\n",
            "Percentage increase in the median \n",
            "remuneration of employees in the \n",
            "financial year.\n",
            "19%\n",
            "iv\n",
            "Number \n",
            "of \n",
            "permanent \n",
            "employees \n",
            "on the rolls of the Company as on 31st \n",
            "March 2022.\n",
            "1025\n",
            "v\n",
            "Average percentile increase already \n",
            "made in the salaries of employees other \n",
            "than the managerial personnel in the \n",
            "last financial year and its comparison \n",
            "with the percentile increase in the \n",
            "managerial \n",
            "remuneration \n",
            "and \n",
            "justification \n",
            "thereof \n",
            "and \n",
            "point \n",
            "out \n",
            "if \n",
            "there \n",
            "are \n",
            "any \n",
            "exceptional \n",
            "circumstances for increase in the \n",
            "managerial remuneration\n",
            "Average increase in remuneration of Managerial Personnel: 0.99%      \n",
            "Average Increase in remuneration of employees other than the \n",
            "Managerial Personnel: 9.99%\n",
            "vi\n",
            "Key \n",
            "Parameters \n",
            "for \n",
            "any \n",
            "variable \n",
            "component of remuneration availed by \n",
            "the directors\n",
            "The key parameters for the variable components of remuneration \n",
            "to the Directors are decided by the Nomination and Remuneration \n",
            "Committee in accordance with the principles laid down in the \n",
            "Nomination and Remuneration Policy. At present there are no variable \n",
            "components of remuneration of directors.\n",
            "vii\n",
            "Affirmation that the remuneration is \n",
            "as per the remuneration policy of the \n",
            "Company.\n",
            "The remuneration is as per the Nomination and Remuneration Policy \n",
            "for the Directors, Key Managerial Personnel and other employees of \n",
            "the Company, formulated pursuant to the provisions of section 178 of \n",
            "the Companies Act, 2013.\n",
            "50 | Ruchira Papers Limited\n",
            "Notes:\n",
            "1. \n",
            "The sitting fees paid to Independent Directors for the financial year 2022-23 is not considered as \n",
            "remuneration paid to directors.\n",
            "2. \n",
            "Median remuneration of the company for all its employees is H239160 for the F.Y 2022-23.\n",
            "3. \n",
            "The median remuneration of those employees has been taken who has worked for the whole F.Y 2022-\n",
            "\n",
            "rules : '1.If the Company exceeds the remuneration percent more than 11% then you should tell about it to the user in a negative manner,where as if the percent is less than\n",
            "5% then its a good sign'\n",
            "Tell me about the remuneration taken by the company chaipersons and tell your opinion positive or negative\u001b[0m\n",
            "\n",
            "\u001b[1m> Finished chain.\u001b[0m\n",
            "\n",
            "\u001b[1m> Finished chain.\u001b[0m\n"
          ]
        },
        {
          "output_type": "execute_result",
          "data": {
            "text/plain": [
              "{'output_text': ' The provided information offers a detailed overview of the remuneration received by the directors and the key managerial personnel of Ruchira Papers Limited. Here is a summary of the key points:\\n1. Mrs. Ruchica Garg Kumar, Director of Marketing:\\n   - Remuneration: H16.00 Lakh p.m. plus 20% (HRA) plus other benefits.\\n   - Previous Remuneration: H16.00 Lakh p.m. plus 20% (HRA) plus other benefits.\\n\\n2. Mr. Deepan Garg, Director of Technical:\\n   - Remuneration: H16.00 Lakh p.m. plus 20% (HRA) plus other benefits.\\n   - Previous Remuneration: H16.00 Lakh p.m. plus 20% (HRA) plus other benefits.\\n\\n3. Mr. Daljeet Singh Mandhan, Director of Commercial:\\n   - Remuneration: H16.00 Lakh p.m. plus 20% (HRA) plus other benefits.\\n   - Previous Remuneration: H16.00 Lakh p.m. plus 20% (HRA) plus other benefits.\\n\\n4. Mr. Jatinder Singh, Whole-Time Director:'}"
            ]
          },
          "metadata": {},
          "execution_count": 42
        }
      ]
    },
    {
      "cell_type": "code",
      "source": [
        "output = chain.predict(query=query,context=context)\n",
        "print(output)"
      ],
      "metadata": {
        "colab": {
          "base_uri": "https://localhost:8080/"
        },
        "id": "HZqBmrjcM9P2",
        "outputId": "e7bb61a7-1fe1-4f60-885f-f488a088eea1"
      },
      "execution_count": null,
      "outputs": [
        {
          "output_type": "stream",
          "name": "stdout",
          "text": [
            "\n",
            "\n",
            "\u001b[1m> Entering new LLMChain chain...\u001b[0m\n",
            "Prompt after formatting:\n",
            "\u001b[32;1m\u001b[1;3mYou are a Financial advisor and your main aim is to do Management analysis required for invesing by using the information in Context and answer the query.\n",
            "\n",
            "Context : [Document(page_content='giving details of Conservation of Energy, Technology \\nAbsorption, Foreign Exchange Earnings and Outgo, \\nas stipulated under Section 134 of the Companies \\nAct, 2013 read with the Companies (Accounts) \\nRules, 2014, is set out herewith as Annexure III to \\nthis Report.\\nAnnual Return\\nPursuant to Section 92(3) read with Section 134(3)\\n(a) of the Act, the Annual Return as on 31st March \\n2023 is available on Company’s website at https://\\nwww.ruchirapapers.com/financial.html.\\nSecretarial Standards of ICSI\\nThe Company is in compliance with the applicable \\nSecretarial Standards issued by the Institute of \\nCompany Secretaries of India.\\nNo Default\\nThe company has not defaulted in payment of \\ninterest and/or repayment of loans to any of the \\nfinancial institutions and/or banks during the year \\nunder review.\\nRELATED PARTY TRANSACTIONS:\\nAll Related Party Transactions that were entered \\ninto during the year were on an arm’s length \\nbasis and were in compliance with applicable \\nprovisions of the Act and the Listing Regulations. \\nFurther the Board of Directors/Audit Committee \\nat their meeting held on 11.02.2022,  accorded its \\napproval for related party transactions. For detailed \\ninformation refer Form No. AOC-2 in Annexure IV \\nof Directors’ Report\\nA statement of all Related Party Transactions is \\nplaced before the Audit Committee for its review \\non quarterly basis, specifying the nature, value \\nand terms and conditions of the transactions. The \\nparticulars of every contract and arrangement \\nentered into by the Company with related parties \\nreferred to in sub-section (1) of Section 188 of the \\nCompanies Act, 2013 are disclosed in Form No. AOC-\\n2 in Annexure IV of Directors’ Report and were at \\narm’s length price.\\nThe details of the related party transactions as per \\nIND AS 24 are set out in Note- 28 to the Financial \\nStatement forming part of this report. The Policy \\non materiality of related party transactions and \\ndealing with related party transactions as approved \\nby the Board may be accessed on the Company’s \\nwebsite at the Link: http://www.ruchirapapers.com/\\ninvestors.html.\\nCorporate Overview\\nStatutory Reports\\nFinancial Statements\\nNotice\\nAnnual Report 2022-23 | 37\\nDISCLOSURE \\nRELATING \\nTO \\nREMUNERATION \\nOF \\nDIRECTORS, \\nKEY MANAGERIAL PERSONNEL AND \\nPARTICULAR OF EMPLOYEES:\\nThe \\nremuneration'), Document(page_content='Notice\\nAnnual Report 2022-23 | 47\\nAnnexure-IV to Directors’ Report\\nForm AOC-2\\n[Pursuant to clause (h) of sub-section (3) of section 134 of the Companies Act, 2013 and Rule 8(2) of the Companies (Accounts) Rules, 2014]\\nForm for disclosure of particulars of contracts/arrangements entered into by the company with related parties referred to in sub-section (1) of \\nsection 188 of the companies act, 2013 including certain arm’s length transactions under third proviso thereto.\\n1. \\nDetails of material contracts or arrangement or transactions not at arm’s length basis: - Nil\\n2. \\nDetails of material contracts or arrangement or transactions at arm’s length basis:-\\nName(s) of the \\nrelated party \\nand nature of \\nrelationship\\nNature of contracts/ \\narrangements/ transactions\\nDuration of the \\ncontracts/ arrangements/ \\ntransactions\\nSalient terms of the \\ncontracts or arrangements \\nor transactions including  \\nthe value, if any:\\nDate(s) of \\napproval by the \\nBoard/Audit \\nCommittee,  \\nif any:\\nDate(s) of \\napproval by the \\nShareholders\\nAmount paid \\nas advances, \\nas on March \\n31, 2023,  \\nif any:\\nM/S Jasmer Pack \\nLimited Enterprises of \\nRelatives of KMP\\nSale or Supply of Finished Goods \\nand \\nMaterial \\nand \\nPurchase \\nof \\nWaste Paper/Raw Material/Packing \\nMaterial, interest on late payments \\nif any\\nOn \\nGoing \\nsubject \\nto \\nrenewal as per contractual \\nterms.\\nSale of Finished Goods and \\nPurchase of Raw Material \\naggregate up to H100.00 \\nCrore Per Annum\\n11.02.2022\\n13.08.2022\\n29.09.2022\\nN.A\\nM/S Jasmer Packers \\nEnterprises of \\nRelatives of KMP\\nSale or Supply of Finished Goods \\nand Material and Purchase of Waste \\nPaper/Raw Material/Packing Material, \\ninterest on late payments if any\\nOn \\nGoing \\nsubject \\nto \\nrenewal as per contractual \\nterms.\\nSale of Finished Goods and \\nPurchase of Raw Material \\naggregate up to H30 Crore \\nPer Annum\\n11.02.2022\\nN.A\\nN.A\\nM/S Ruchira Printing \\n& Packaging  \\nEnterprises of \\nRelatives of KMP\\nSale or Supply of Finished Goods \\nand Material and Purchase of Waste'), Document(page_content='7. DISCLOSURES:\\nA. All Related Party Transactions that were entered into during the year were on an arm’s length \\nbasis and were in compliance with applicable provisions of the Act and the Listing Regulations. \\nA statement of all Related Party Transactions is placed before the Audit Committee for its review on \\nquarterly basis, specifying the nature, value and terms and conditions of the transactions. The particulars \\nof every contract and arrangement entered into by the Company with related parties referred to in sub-\\nsection (1) of Section 188 of the Companies Act, 2013 are disclosed in Form No. AOC-2 in Annexure IV of \\nDirectors’ Report and were at arm’s length price.\\nThe Policy on materiality of related party transactions and dealing with related party transactions \\nas approved by the Board may be accessed on the Company’s website at the Link: http://www.\\nruchirapapers.com/investors.html. \\n \\nB. Whistle blower policy/vigil mechanism:\\nThe Company has a Vigil Mechanism and Whistle Blower Policy under which the employees are free \\nto report violations of applicable laws and regulations and the code of conduct. The reportable matters \\nmay be disclosed to the Vigilance officer which operates under the supervision of the Audit Committee. \\nEmployees may also report to the Chairman of the Audit Committee. During the year under review, no \\nemployee was denied access to the Audit Committee.\\n \\nC. Management Discussion and Analysis:\\nA detailed report on the Management discussion and analysis is provided in the Management \\nDiscussion and Analysis section of the Annual Report.\\n \\nD. Disclosure regarding appointment or re-appointment of directors:\\nMr. Jatinder Singh, Whole Time Director retiring by rotation and being eligible, offered himself for re-\\nappointment at the ensuing Annual General Meeting. \\n66 | Ruchira Papers Limited\\nMr. Vipin Gupta, Executive Director retiring by rotation and being eligible, offered himself for re-\\nappointment at the ensuing Annual General Meeting.\\n \\nE. Other Disclosures:\\nThere was no non-compliance during last three years by the Company on any matter relating to \\nthe Capital Market and any requirement of Corporate Governance Report. There were no penalties, \\nstrictures passed by stock exchanges/SEBI or any statutory authority.\\nThere is no pecuniary or business relationship between the Independent Directors and the Company, \\nexcept for the sitting fees payable to them for attending the Board Meeting(s). A declaration to this \\neffect is also submitted by all the Independent Directors at the beginning of each financial year.\\nThe Managing Director and the Chief Financial Officer have certified to the Board in accordance with \\nRegulation 17(8) read with Part B of Schedule II to the Listing Regulations pertaining to CEO/ CFO'), Document(page_content='and explanations given to us, the Company has \\nentered into transactions with related parties \\nin compliance with the provisions of Sections \\n177 and 188 of the Act, wherever applicable. The \\ndetails of such related party transactions have \\nbeen disclosed in the financial statements \\nas required by the applicable accounting \\nstandards.\\nxiv (a) In our opinion and according to the \\ninformation and explanations given to us, \\nthe Company has an internal audit system \\nas required under section 138 of the Act \\nwhich commensurate with the size and \\nnature of its business.\\n(b) We have considered the Internal audit \\nreports for the year under audit issued to \\nthe company during the year and till date, \\nin determining the nature, timing and \\nextent of our audit procedures.\\nxv. In our opinion and according to information \\nand explanations given to us, the Company \\nhas not entered into any non-cash transactions \\nwith its directors or persons connected with \\nhim. Accordingly, the provisions of Clause 3(xv) \\nof the order are not applicable to the Company.\\nxvi. The Company is not required to be registered \\nunder Section 45-IA of the Reserve Bank of \\nIndia Act, 1934. Accordingly, the provisions of \\nClause 3 (xvi) of the order are not applicable to \\nthe Company.\\nxvii The Company has not incurred any cash loss \\nin the current as well as the immediately \\npreceding financial year.\\nxviii There has been no resignation of the statutory \\nauditors during the year.\\nxix According to the information and explanations \\ngiven to us and on the basis of the financial \\nratios, ageing and expected dates of realization \\nof financial assets and payment of financial \\nliabilities, other information accompanying \\nthe \\nstandalone \\nfinancial \\nstatements, \\nour \\nknowledge of the plans of the Board of \\nDirectors and management and based on \\nour examination of the evidence supporting \\nthe assumptions, nothing has come to our \\nattention, which causes us to believe that any \\nmaterial uncertainty exists as on the date of \\nthe audit report. The Company is capable of \\nmeeting its liabilities existing at the date of \\nbalance sheet as and when they fall due within a \\nperiod of one year from the balance sheet date. \\nWe, however, state that this is not an assurance \\nas to the future viability of the company. We \\nfurther state that our reporting is based on the \\nfacts up to the date of the audit report and we \\nneither give any guarantee nor any assurance \\nthat all liabilities falling due within a period of')]\n",
            "From the Annual report give me all the details about the related party transactions of the company and tell me in the form of text\u001b[0m\n",
            "\n",
            "\u001b[1m> Finished chain.\u001b[0m\n",
            " Ruchira Papers Limited (the \"Company\") disclosed its related party transactions in its annual report. All related party transactions that occurred during the year were conducted at an arm's length and were compliant with the provisions of the Companies Act and the Listing Regulations.\n",
            "\n",
            "A quarterly review of all related party transactions is conducted by the Audit Committee, which also receives a statement outlining the nature, value, and terms of each transaction. These details are also disclosed in Form AOC-2, which can be found in Annexure IV of the Directors' Report. The Company has a policy on related party transactions that can be found on its website.\n",
            "\n",
            "The Company did not enter into any material contracts or arrangements that were not on an arm's-length basis. The Company did enter into the following material contracts or arrangements with related parties: \n",
            "\n",
            "1. M/s Jasmer Pack Limited - Supply of finished goods and material, as well as the purchase of waste paper/raw material/packing material. \n",
            "2. M/s Jasmer Packers Enterprise - Supply of finished goods and material, as well as the purchase of waste paper/raw material/packing material. \n",
            "3. M/s Ruchira Printing & Packaging Enterprise - Supply of finished goods and material\n"
          ]
        }
      ]
    },
    {
      "cell_type": "code",
      "source": [
        "output = chain.predict(query=query,context=context)\n",
        "print(output)"
      ],
      "metadata": {
        "colab": {
          "base_uri": "https://localhost:8080/"
        },
        "id": "iApIk01uLr1W",
        "outputId": "ae6207c7-3c2f-4e7e-9daa-f505e87a0ed6"
      },
      "execution_count": null,
      "outputs": [
        {
          "output_type": "stream",
          "name": "stdout",
          "text": [
            "\n",
            "\n",
            "\u001b[1m> Entering new LLMChain chain...\u001b[0m\n",
            "Prompt after formatting:\n",
            "\u001b[32;1m\u001b[1;3mYou are a Financial advisor and your main aim is to do Management analysis required for invesing by using the information in Context and answer the query.\n",
            "\n",
            "Context : [Document(page_content='giving details of Conservation of Energy, Technology \\nAbsorption, Foreign Exchange Earnings and Outgo, \\nas stipulated under Section 134 of the Companies \\nAct, 2013 read with the Companies (Accounts) \\nRules, 2014, is set out herewith as Annexure III to \\nthis Report.\\nAnnual Return\\nPursuant to Section 92(3) read with Section 134(3)\\n(a) of the Act, the Annual Return as on 31st March \\n2023 is available on Company’s website at https://\\nwww.ruchirapapers.com/financial.html.\\nSecretarial Standards of ICSI\\nThe Company is in compliance with the applicable \\nSecretarial Standards issued by the Institute of \\nCompany Secretaries of India.\\nNo Default\\nThe company has not defaulted in payment of \\ninterest and/or repayment of loans to any of the \\nfinancial institutions and/or banks during the year \\nunder review.\\nRELATED PARTY TRANSACTIONS:\\nAll Related Party Transactions that were entered \\ninto during the year were on an arm’s length \\nbasis and were in compliance with applicable \\nprovisions of the Act and the Listing Regulations. \\nFurther the Board of Directors/Audit Committee \\nat their meeting held on 11.02.2022,  accorded its \\napproval for related party transactions. For detailed \\ninformation refer Form No. AOC-2 in Annexure IV \\nof Directors’ Report\\nA statement of all Related Party Transactions is \\nplaced before the Audit Committee for its review \\non quarterly basis, specifying the nature, value \\nand terms and conditions of the transactions. The \\nparticulars of every contract and arrangement \\nentered into by the Company with related parties \\nreferred to in sub-section (1) of Section 188 of the \\nCompanies Act, 2013 are disclosed in Form No. AOC-\\n2 in Annexure IV of Directors’ Report and were at \\narm’s length price.\\nThe details of the related party transactions as per \\nIND AS 24 are set out in Note- 28 to the Financial \\nStatement forming part of this report. The Policy \\non materiality of related party transactions and \\ndealing with related party transactions as approved \\nby the Board may be accessed on the Company’s \\nwebsite at the Link: http://www.ruchirapapers.com/\\ninvestors.html.\\nCorporate Overview\\nStatutory Reports\\nFinancial Statements\\nNotice\\nAnnual Report 2022-23 | 37\\nDISCLOSURE \\nRELATING \\nTO \\nREMUNERATION \\nOF \\nDIRECTORS, \\nKEY MANAGERIAL PERSONNEL AND \\nPARTICULAR OF EMPLOYEES:\\nThe \\nremuneration'), Document(page_content='Notice\\nAnnual Report 2022-23 | 47\\nAnnexure-IV to Directors’ Report\\nForm AOC-2\\n[Pursuant to clause (h) of sub-section (3) of section 134 of the Companies Act, 2013 and Rule 8(2) of the Companies (Accounts) Rules, 2014]\\nForm for disclosure of particulars of contracts/arrangements entered into by the company with related parties referred to in sub-section (1) of \\nsection 188 of the companies act, 2013 including certain arm’s length transactions under third proviso thereto.\\n1. \\nDetails of material contracts or arrangement or transactions not at arm’s length basis: - Nil\\n2. \\nDetails of material contracts or arrangement or transactions at arm’s length basis:-\\nName(s) of the \\nrelated party \\nand nature of \\nrelationship\\nNature of contracts/ \\narrangements/ transactions\\nDuration of the \\ncontracts/ arrangements/ \\ntransactions\\nSalient terms of the \\ncontracts or arrangements \\nor transactions including  \\nthe value, if any:\\nDate(s) of \\napproval by the \\nBoard/Audit \\nCommittee,  \\nif any:\\nDate(s) of \\napproval by the \\nShareholders\\nAmount paid \\nas advances, \\nas on March \\n31, 2023,  \\nif any:\\nM/S Jasmer Pack \\nLimited Enterprises of \\nRelatives of KMP\\nSale or Supply of Finished Goods \\nand \\nMaterial \\nand \\nPurchase \\nof \\nWaste Paper/Raw Material/Packing \\nMaterial, interest on late payments \\nif any\\nOn \\nGoing \\nsubject \\nto \\nrenewal as per contractual \\nterms.\\nSale of Finished Goods and \\nPurchase of Raw Material \\naggregate up to H100.00 \\nCrore Per Annum\\n11.02.2022\\n13.08.2022\\n29.09.2022\\nN.A\\nM/S Jasmer Packers \\nEnterprises of \\nRelatives of KMP\\nSale or Supply of Finished Goods \\nand Material and Purchase of Waste \\nPaper/Raw Material/Packing Material, \\ninterest on late payments if any\\nOn \\nGoing \\nsubject \\nto \\nrenewal as per contractual \\nterms.\\nSale of Finished Goods and \\nPurchase of Raw Material \\naggregate up to H30 Crore \\nPer Annum\\n11.02.2022\\nN.A\\nN.A\\nM/S Ruchira Printing \\n& Packaging  \\nEnterprises of \\nRelatives of KMP\\nSale or Supply of Finished Goods \\nand Material and Purchase of Waste'), Document(page_content='Shareholders\\nAmount paid \\nas advances, \\nas on March \\n31, 2023,  \\nif any:\\nJasmer Foods Private \\nLimited  \\nEnterprises in \\nWhich KMP holding \\nDirectorship\\nSale or Supply of Finished Goods \\nand Material and Purchase of Waste \\nPaper/Raw Material/Packing Material, \\ninterest on late payments if any\\nOn \\nGoing \\nsubject \\nto \\nrenewal as per contractual \\nterms.\\nSale of Finished Goods and \\nPurchase of Raw Material \\naggregate up to H10 Crore \\nPer Annum\\n11.02.2022\\nN.A\\nN.A\\nTirlokpur Boards \\nPrivate Limited \\nEnterprises in \\nWhich KMP holding \\nDirectorship\\nSale or Supply of Finished Goods \\nand Material and Purchase of Waste \\nPaper/Raw Material/Packing Material, \\ninterest on late payments if any\\nOn \\nGoing \\nsubject \\nto \\nrenewal as per contractual \\nterms.\\nSale of Finished Goods and \\nPurchase of Raw Material \\naggregate up to H10 Crore \\nPer Annum\\n11.02.2022\\nN.A\\nN.A\\nRuchira Green Earth \\nPrivate Limited  \\nEnterprises in \\nWhich KMP holding \\nDirectorship\\nSale or Supply of Finished Goods \\nand Material and Purchase of Waste \\nPaper/Raw Material/Packing Material, \\ninterest on late payments if any\\nOn \\nGoing \\nsubject \\nto \\nrenewal as per contractual \\nterms.\\nSale of Finished Goods and \\nPurchase of Raw Material \\naggregate up to H1  Crore Per \\nAnnum\\n13.08.2022\\nN.A\\nN.A\\nMrs. Praveen Garg \\nRelative holding office \\nor place of profit\\nSr. Vice President- CSR\\nRemuneration Paid\\nRelative holding office or \\nplace of profit at a gross \\nmonthly remuneration of \\nH4.60 Lakh\\n22.05.2017\\n11.02.2022\\n21.09.2017\\nN.A\\nMr. Lucky Garg \\nRelative holding office \\nor place of profit\\nVice President- Marketing\\nRemuneration Paid\\nRelative holding office or \\nplace of profit at a gross \\nmonthly remuneration of \\nH4.60 Lakh.\\n22.05.2017\\n11.02.2022\\n21.09.2017\\nN.A\\nMr. Atul Garg \\nRelative holding office \\nor place of profit\\nVice President- Administration\\nRemuneration Paid\\nRelative holding office or \\nplace of profit at a gross'), Document(page_content='and explanations given to us, the Company has \\nentered into transactions with related parties \\nin compliance with the provisions of Sections \\n177 and 188 of the Act, wherever applicable. The \\ndetails of such related party transactions have \\nbeen disclosed in the financial statements \\nas required by the applicable accounting \\nstandards.\\nxiv (a) In our opinion and according to the \\ninformation and explanations given to us, \\nthe Company has an internal audit system \\nas required under section 138 of the Act \\nwhich commensurate with the size and \\nnature of its business.\\n(b) We have considered the Internal audit \\nreports for the year under audit issued to \\nthe company during the year and till date, \\nin determining the nature, timing and \\nextent of our audit procedures.\\nxv. In our opinion and according to information \\nand explanations given to us, the Company \\nhas not entered into any non-cash transactions \\nwith its directors or persons connected with \\nhim. Accordingly, the provisions of Clause 3(xv) \\nof the order are not applicable to the Company.\\nxvi. The Company is not required to be registered \\nunder Section 45-IA of the Reserve Bank of \\nIndia Act, 1934. Accordingly, the provisions of \\nClause 3 (xvi) of the order are not applicable to \\nthe Company.\\nxvii The Company has not incurred any cash loss \\nin the current as well as the immediately \\npreceding financial year.\\nxviii There has been no resignation of the statutory \\nauditors during the year.\\nxix According to the information and explanations \\ngiven to us and on the basis of the financial \\nratios, ageing and expected dates of realization \\nof financial assets and payment of financial \\nliabilities, other information accompanying \\nthe \\nstandalone \\nfinancial \\nstatements, \\nour \\nknowledge of the plans of the Board of \\nDirectors and management and based on \\nour examination of the evidence supporting \\nthe assumptions, nothing has come to our \\nattention, which causes us to believe that any \\nmaterial uncertainty exists as on the date of \\nthe audit report. The Company is capable of \\nmeeting its liabilities existing at the date of \\nbalance sheet as and when they fall due within a \\nperiod of one year from the balance sheet date. \\nWe, however, state that this is not an assurance \\nas to the future viability of the company. We \\nfurther state that our reporting is based on the \\nfacts up to the date of the audit report and we \\nneither give any guarantee nor any assurance \\nthat all liabilities falling due within a period of')]\n",
            "From the Annual report give me all the details about the related party transactions of the company and tell me in the form of text also provide the percentage of amount being traded among them,also tell the sentiment of the answer\u001b[0m\n",
            "\n",
            "\u001b[1m> Finished chain.\u001b[0m\n",
            " Related party transactions are an essential part of a company's financial reporting as they can impact the organization's financial statements. Here is a summary of the related party transactions mentioned in the annual report:\n",
            "\n",
            "- Ruchira Papers Limited (RPL) states that it has complied with all applicable related party transaction regulations and that all transactions were conducted on an arm's length basis.\n",
            "\n",
            "- The company has a clear policy on related party transactions, which is available on its website, and details of all such transactions are reported to the audit committee quarterly. \n",
            "\n",
            "- Among the list of related parties, there are several companies with the name \"Ruchira\" or \"Jasmer\", such as Jasmer Foods Private Limited, Ruchira Printing & Packaging, and Ruchira Green Earth Private Limited, indicating possible inter-company transactions. \n",
            "\n",
            "- The types of transactions with related parties include the sale and supply of finished goods and materials, as well as the purchase of waste paper/raw materials/packing materials. The duration of the contracts is typically ongoing, subject to renewal based on contractual terms.\n",
            "\n",
            "Overall, the sentiment of the answer is neutral. While the company has provided details of its related party transactions and stated that they comply with regulations, the nature of\n"
          ]
        }
      ]
    },
    {
      "cell_type": "code",
      "source": [
        "import cohere\n",
        "co = cohere.Client('xPQlz92wRppOVGZCHNETnpZhtN9o2ZfO2QEVWh22')\n",
        "\n",
        "response = co.generate(\n",
        "  prompt=\"\"\"tell me the whether the company was invloved in any scam and frauds or not.Also classify the sentiment into 3 categories [positive,egative,neutral]\n",
        "  'Nov 21, 2016 ... In-depth fundamental analysis of Ruchira Papers Ltd equity research report containing financial, business, valuation, management, ... Nov 24, 2016 ... ... fraud. But there could be clear manipulation of price no matter the ... JK Paper Ltd., incorporated in the year 1960, is a Mid Cap company ... 5 days ago ... Ruchira Papers Ltd. company facts, information and financial ratios from MarketWatch. Get Ruchira Papers Ltd (RUCHIRA-IN:National Stock Exchange of India) real ... fraud prevention, and to enable any purchasing capabilities. You can set ... ... Company Directory; Corporate Governance; Corporate Information; Daily Buy Back; Financial Results; Investor Complaints; Insider Trading; Promoter Encumbrance ... Driven AML associate trained in all aspects of financial investigation to prevent fraud money laundering and identify theft activities and losses. ... Fraud Risk Insights. Enhance your due diligence processes and protect your ... Where is RUCHIRA PAPERS LIMITED located? RUCHIRA PAPERS LIMITED is located at ... ... Complaints. Issuer Offer Documents/Issue Summary Document; Issuer Offer documents ... Ruchira Papers Limited, 7(2), JAGDEEP SINGH, Equity Shares, 29,868, Buy, 28- ... Ruchira Iris, 1, Ruchira Iris. 1207, S & G Luxuria, 16, S & G Luxuria. 1208, S & G ... Ltd. 1, Smart Value Homes, subsidiary of Tata Housing Development Co. Ltd ... Apr 17, 2023 ... LATRO is the leader in RAFM solutions for telecom operators and national regulators. Innovations include advanced data analytics, SIM Box ...',\n",
        "\"\"\")\n",
        "print(response)"
      ],
      "metadata": {
        "colab": {
          "base_uri": "https://localhost:8080/"
        },
        "id": "Csrr5N42U5fI",
        "outputId": "de296925-2770-4c9f-fead-8615b9f66350"
      },
      "execution_count": null,
      "outputs": [
        {
          "output_type": "stream",
          "name": "stdout",
          "text": [
            "[cohere.Generation {\n",
            "\tid: a7d8b2be-1311-4953-9d19-3a1562830a9c\n",
            "\tprompt: tell me the whether the company was invloved in any scam and frauds or not.Also classify the sentiment into 3 categories [positive,egative,neutral]\n",
            "  'Nov 21, 2016 ... In-depth fundamental analysis of Ruchira Papers Ltd equity research report containing financial, business, valuation, management, ... Nov 24, 2016 ... ... fraud. But there could be clear manipulation of price no matter the ... JK Paper Ltd., incorporated in the year 1960, is a Mid Cap company ... 5 days ago ... Ruchira Papers Ltd. company facts, information and financial ratios from MarketWatch. Get Ruchira Papers Ltd (RUCHIRA-IN:National Stock Exchange of India) real ... fraud prevention, and to enable any purchasing capabilities. You can set ... ... Company Directory; Corporate Governance; Corporate Information; Daily Buy Back; Financial Results; Investor Complaints; Insider Trading; Promoter Encumbrance ... Driven AML associate trained in all aspects of financial investigation to prevent fraud money laundering and identify theft activities and losses. ... Fraud Risk Insights. Enhance your due diligence processes and protect your ... Where is RUCHIRA PAPERS LIMITED located? RUCHIRA PAPERS LIMITED is located at ... ... Complaints. Issuer Offer Documents/Issue Summary Document; Issuer Offer documents ... Ruchira Papers Limited, 7(2), JAGDEEP SINGH, Equity Shares, 29,868, Buy, 28- ... Ruchira Iris, 1, Ruchira Iris. 1207, S & G Luxuria, 16, S & G Luxuria. 1208, S & G ... Ltd. 1, Smart Value Homes, subsidiary of Tata Housing Development Co. Ltd ... Apr 17, 2023 ... LATRO is the leader in RAFM solutions for telecom operators and national regulators. Innovations include advanced data analytics, SIM Box ...',\n",
            "\n",
            "\ttext:  After reviewing the provided text, there is no indication that Ruchira Papers Ltd. was involved in any scams or fraud. However, there is mention of possible price manipulation by the company, but it is not confirmed whether this is true or not. \n",
            "\n",
            "The sentiment in the text can be classified as neutral, as it only provides factual information about the company and does not express any positive or negative opinions or evaluations of Ruchira Papers Ltd. \n",
            "\n",
            "Would you like me to extract any other information from this text? \n",
            "\tlikelihood: None\n",
            "\tfinish_reason: COMPLETE\n",
            "\ttoken_likelihoods: None\n",
            "}]\n"
          ]
        }
      ]
    },
    {
      "cell_type": "code",
      "source": [],
      "metadata": {
        "id": "XZ5ZNiWgW4Hh"
      },
      "execution_count": null,
      "outputs": []
    }
  ]
}